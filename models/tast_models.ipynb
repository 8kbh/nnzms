{
 "cells": [
  {
   "cell_type": "markdown",
   "id": "4272aa96-7aea-4142-8694-d42c7d994595",
   "metadata": {},
   "source": [
    "# Тестирование моделей для предсказания activity"
   ]
  },
  {
   "cell_type": "markdown",
   "id": "1e20d2a0-7a7b-4be6-a397-feda8a89650a",
   "metadata": {
    "tags": []
   },
   "source": [
    "## Импорты, константы, дефолтные настройки"
   ]
  },
  {
   "cell_type": "markdown",
   "id": "dd0fc2a9-a6a1-4b4b-b0ea-1340787a2663",
   "metadata": {
    "jp-MarkdownHeadingCollapsed": true
   },
   "source": [
    "### Установка пакетов"
   ]
  },
  {
   "cell_type": "code",
   "execution_count": 1,
   "id": "466172d7-855c-425c-97a9-48d617eb9b05",
   "metadata": {},
   "outputs": [
    {
     "name": "stdout",
     "output_type": "stream",
     "text": [
      "\u001b[2mUsing Python 3.10.12 environment at: /nfs/home/okryuchkov/nnzms/.venv\u001b[0m\n",
      "\u001b[2K\u001b[2mResolved \u001b[1m5 packages\u001b[0m \u001b[2min 529ms\u001b[0m\u001b[0m                                         \u001b[0m\n",
      "\u001b[2K\u001b[2mPrepared \u001b[1m5 packages\u001b[0m \u001b[2min 3.84s\u001b[0m\u001b[0m                                             \n",
      "\u001b[2K\u001b[2mInstalled \u001b[1m5 packages\u001b[0m \u001b[2min 522ms\u001b[0m\u001b[0m                               \u001b[0m\n",
      " \u001b[32m+\u001b[39m \u001b[1mjoblib\u001b[0m\u001b[2m==1.4.2\u001b[0m\n",
      " \u001b[32m+\u001b[39m \u001b[1mnumpy\u001b[0m\u001b[2m==2.2.5\u001b[0m\n",
      " \u001b[32m+\u001b[39m \u001b[1mscikit-learn\u001b[0m\u001b[2m==1.5.2\u001b[0m\n",
      " \u001b[32m+\u001b[39m \u001b[1mscipy\u001b[0m\u001b[2m==1.15.2\u001b[0m\n",
      " \u001b[32m+\u001b[39m \u001b[1mthreadpoolctl\u001b[0m\u001b[2m==3.6.0\u001b[0m\n"
     ]
    }
   ],
   "source": [
    "# !uv pip install scikit-learn==1.5.2"
   ]
  },
  {
   "cell_type": "code",
   "execution_count": 4,
   "id": "3b7580cb-d011-4154-ba1b-d9b7bd188b7b",
   "metadata": {},
   "outputs": [
    {
     "name": "stdout",
     "output_type": "stream",
     "text": [
      "\u001b[2mUsing Python 3.10.12 environment at: /nfs/home/okryuchkov/nnzms/.venv\u001b[0m\n",
      "\u001b[2K\u001b[2mResolved \u001b[1m6 packages\u001b[0m \u001b[2min 385ms\u001b[0m\u001b[0m                                         \u001b[0m\n",
      "\u001b[2K\u001b[2mPrepared \u001b[1m3 packages\u001b[0m \u001b[2min 2.45s\u001b[0m\u001b[0m                                             \n",
      "\u001b[2K\u001b[2mInstalled \u001b[1m3 packages\u001b[0m \u001b[2min 535ms\u001b[0m\u001b[0m                               \u001b[0m\n",
      " \u001b[32m+\u001b[39m \u001b[1mpandas\u001b[0m\u001b[2m==2.2.3\u001b[0m\n",
      " \u001b[32m+\u001b[39m \u001b[1mpytz\u001b[0m\u001b[2m==2025.2\u001b[0m\n",
      " \u001b[32m+\u001b[39m \u001b[1mtzdata\u001b[0m\u001b[2m==2025.2\u001b[0m\n"
     ]
    }
   ],
   "source": [
    "!uv pip install pandas"
   ]
  },
  {
   "cell_type": "code",
   "execution_count": 7,
   "id": "20e4b6cc-c27d-4da8-92bd-1979977764d3",
   "metadata": {},
   "outputs": [
    {
     "name": "stdout",
     "output_type": "stream",
     "text": [
      "\u001b[2mUsing Python 3.10.12 environment at: /nfs/home/okryuchkov/nnzms/.venv\u001b[0m\n",
      "\u001b[2K\u001b[2mResolved \u001b[1m12 packages\u001b[0m \u001b[2min 541ms\u001b[0m\u001b[0m                                        \u001b[0m\n",
      "\u001b[2K\u001b[2mPrepared \u001b[1m7 packages\u001b[0m \u001b[2min 1.05s\u001b[0m\u001b[0m                                             \n",
      "\u001b[2K\u001b[2mInstalled \u001b[1m7 packages\u001b[0m \u001b[2min 109ms\u001b[0m\u001b[0m                               \u001b[0m\n",
      " \u001b[32m+\u001b[39m \u001b[1malembic\u001b[0m\u001b[2m==1.15.2\u001b[0m\n",
      " \u001b[32m+\u001b[39m \u001b[1mcolorlog\u001b[0m\u001b[2m==6.9.0\u001b[0m\n",
      " \u001b[32m+\u001b[39m \u001b[1mgreenlet\u001b[0m\u001b[2m==3.2.1\u001b[0m\n",
      " \u001b[32m+\u001b[39m \u001b[1mmako\u001b[0m\u001b[2m==1.3.10\u001b[0m\n",
      " \u001b[32m+\u001b[39m \u001b[1moptuna\u001b[0m\u001b[2m==4.3.0\u001b[0m\n",
      " \u001b[32m+\u001b[39m \u001b[1msqlalchemy\u001b[0m\u001b[2m==2.0.40\u001b[0m\n",
      " \u001b[32m+\u001b[39m \u001b[1mtqdm\u001b[0m\u001b[2m==4.67.1\u001b[0m\n"
     ]
    }
   ],
   "source": [
    "!uv pip install optuna"
   ]
  },
  {
   "cell_type": "code",
   "execution_count": 10,
   "id": "13f52165-8a3e-4ea5-9409-8e773ce5e17a",
   "metadata": {},
   "outputs": [
    {
     "name": "stdout",
     "output_type": "stream",
     "text": [
      "\u001b[2mUsing Python 3.10.12 environment at: /nfs/home/okryuchkov/nnzms/.venv\u001b[0m\n",
      "\u001b[2K\u001b[2mResolved \u001b[1m21 packages\u001b[0m \u001b[2min 378ms\u001b[0m\u001b[0m                                        \u001b[0m\n",
      "\u001b[2K\u001b[2mPrepared \u001b[1m3 packages\u001b[0m \u001b[2min 254ms\u001b[0m\u001b[0m                                             \n",
      "\u001b[2K\u001b[2mInstalled \u001b[1m3 packages\u001b[0m \u001b[2min 58ms\u001b[0m\u001b[0m.0.14                           \u001b[0m\n",
      " \u001b[32m+\u001b[39m \u001b[1mipywidgets\u001b[0m\u001b[2m==8.1.6\u001b[0m\n",
      " \u001b[32m+\u001b[39m \u001b[1mjupyterlab-widgets\u001b[0m\u001b[2m==3.0.14\u001b[0m\n",
      " \u001b[32m+\u001b[39m \u001b[1mwidgetsnbextension\u001b[0m\u001b[2m==4.0.14\u001b[0m\n"
     ]
    }
   ],
   "source": [
    "!uv pip install ipywidgets"
   ]
  },
  {
   "cell_type": "code",
   "execution_count": 13,
   "id": "c1fe8033-981b-4382-aa36-ad969a488b89",
   "metadata": {},
   "outputs": [
    {
     "name": "stdout",
     "output_type": "stream",
     "text": [
      "\u001b[2mUsing Python 3.10.12 environment at: /nfs/home/okryuchkov/nnzms/.venv\u001b[0m\n",
      "\u001b[2K\u001b[2mResolved \u001b[1m19 packages\u001b[0m \u001b[2min 559ms\u001b[0m\u001b[0m                                        \u001b[0m\n",
      "\u001b[2K\u001b[2mPrepared \u001b[1m11 packages\u001b[0m \u001b[2min 18.95s\u001b[0m\u001b[0m                                           \n",
      "\u001b[2K\u001b[2mInstalled \u001b[1m11 packages\u001b[0m \u001b[2min 5.13s\u001b[0m\u001b[0m                              \u001b[0m\n",
      " \u001b[32m+\u001b[39m \u001b[1mcatboost\u001b[0m\u001b[2m==1.2.8\u001b[0m\n",
      " \u001b[32m+\u001b[39m \u001b[1mcontourpy\u001b[0m\u001b[2m==1.3.2\u001b[0m\n",
      " \u001b[32m+\u001b[39m \u001b[1mcycler\u001b[0m\u001b[2m==0.12.1\u001b[0m\n",
      " \u001b[32m+\u001b[39m \u001b[1mfonttools\u001b[0m\u001b[2m==4.57.0\u001b[0m\n",
      " \u001b[32m+\u001b[39m \u001b[1mgraphviz\u001b[0m\u001b[2m==0.20.3\u001b[0m\n",
      " \u001b[32m+\u001b[39m \u001b[1mkiwisolver\u001b[0m\u001b[2m==1.4.8\u001b[0m\n",
      " \u001b[32m+\u001b[39m \u001b[1mmatplotlib\u001b[0m\u001b[2m==3.10.1\u001b[0m\n",
      " \u001b[32m+\u001b[39m \u001b[1mnarwhals\u001b[0m\u001b[2m==1.37.1\u001b[0m\n",
      " \u001b[32m+\u001b[39m \u001b[1mpillow\u001b[0m\u001b[2m==11.2.1\u001b[0m\n",
      " \u001b[32m+\u001b[39m \u001b[1mplotly\u001b[0m\u001b[2m==6.0.1\u001b[0m\n",
      " \u001b[32m+\u001b[39m \u001b[1mpyparsing\u001b[0m\u001b[2m==3.2.3\u001b[0m\n"
     ]
    }
   ],
   "source": [
    "!uv pip install catboost"
   ]
  },
  {
   "cell_type": "code",
   "execution_count": 21,
   "id": "579b368a-9e99-42df-ac0d-dd265a869c87",
   "metadata": {},
   "outputs": [
    {
     "name": "stdout",
     "output_type": "stream",
     "text": [
      "\u001b[2mUsing Python 3.10.12 environment at: /nfs/home/okryuchkov/nnzms/.venv\u001b[0m\n",
      "\u001b[2K\u001b[2mResolved \u001b[1m15 packages\u001b[0m \u001b[2min 408ms\u001b[0m\u001b[0m                                        \u001b[0m\n",
      "\u001b[2K\u001b[2mPrepared \u001b[1m1 package\u001b[0m \u001b[2min 164ms\u001b[0m\u001b[0m                                              \n",
      "\u001b[2K\u001b[2mInstalled \u001b[1m1 package\u001b[0m \u001b[2min 30ms\u001b[0m\u001b[0m                                 \u001b[0m\n",
      " \u001b[32m+\u001b[39m \u001b[1mseaborn\u001b[0m\u001b[2m==0.13.2\u001b[0m\n"
     ]
    }
   ],
   "source": [
    "!uv pip install seaborn"
   ]
  },
  {
   "cell_type": "markdown",
   "id": "d6d98373-b326-4017-ab6c-9ea1d7068056",
   "metadata": {},
   "source": [
    "### импорты"
   ]
  },
  {
   "cell_type": "code",
   "execution_count": 1,
   "id": "dd4ca7db-7443-45d2-a111-a01d31fa2201",
   "metadata": {},
   "outputs": [],
   "source": [
    "# Импорт модуля для сохранения пайплайна\n",
    "import os\n",
    "import joblib"
   ]
  },
  {
   "cell_type": "code",
   "execution_count": 2,
   "id": "43900771-4e21-4a18-8330-f006c5c83653",
   "metadata": {},
   "outputs": [],
   "source": [
    "# Импортируем классы для создания пайплайна\n",
    "from pipeline_classes import *"
   ]
  },
  {
   "cell_type": "code",
   "execution_count": 3,
   "id": "ed81787f-d498-4ae3-acec-f145ca6d18c2",
   "metadata": {},
   "outputs": [],
   "source": [
    "# Убираем необязательные предупреждения\n",
    "import warnings\n",
    "warnings.filterwarnings('ignore')\n",
    "\n",
    "# Настраиваем полное отображение всех строк таблицы\n",
    "pd.set_option('display.max_rows', 100)\n",
    "pd.set_option('display.max_columns', 100)\n",
    "\n",
    "# Скрываем журнал с триалами\n",
    "optuna.logging.set_verbosity(optuna.logging.WARNING)"
   ]
  },
  {
   "cell_type": "markdown",
   "id": "78175ffe-d5da-40d7-a70e-0810ad732fae",
   "metadata": {
    "tags": []
   },
   "source": [
    "## Загрузка данных"
   ]
  },
  {
   "cell_type": "code",
   "execution_count": 4,
   "id": "512b7c13-6bc7-4e87-8a40-087449d32420",
   "metadata": {},
   "outputs": [],
   "source": [
    "import os\n",
    "import sys\n",
    "\n",
    "sys.path += [os.path.abspath(\"..\")]\n",
    "import pandas as pd\n",
    "import functions.unifyer as uf"
   ]
  },
  {
   "cell_type": "code",
   "execution_count": 5,
   "id": "ed3bc730-ce45-4988-afd1-a30800fcf8ff",
   "metadata": {},
   "outputs": [
    {
     "name": "stdout",
     "output_type": "stream",
     "text": [
      "(1130, 43) (2200, 43)\n"
     ]
    }
   ],
   "source": [
    "f1 = pd.read_csv(\"../data/existing_datasets/final_df.csv\")\n",
    "f2 = pd.read_csv(\"../final_p2.2.csv\")\n",
    "f1 = f1[f2.columns]\n",
    "print(f1.shape, f2.shape)"
   ]
  },
  {
   "cell_type": "code",
   "execution_count": 6,
   "id": "85abd19b-c31c-438e-a408-049b17983b88",
   "metadata": {},
   "outputs": [
    {
     "name": "stdout",
     "output_type": "stream",
     "text": [
      "(2174, 43)\n"
     ]
    }
   ],
   "source": [
    "# s2 = pd.read_csv(\"../start_p2.csv\")\n",
    "# condition = (s2[\"formula\"].apply(uf.is_valid_formula) * \\\n",
    "#              (f2[[\"X\", \"IR\", \"pot2\"]].isna().sum(axis=1) != 3) * \\\n",
    "#               s2[[\"formula\", \"activity\"]].notna().sum(axis=1) == 2 * \\\n",
    "#              )\n",
    "# f2 = f2[condition]\n",
    "f2 = f2[((f2[\"activity\"] != \"multi-activity\") * (~f2[\"activity\"].isna()))]\n",
    "print(f2.shape)"
   ]
  },
  {
   "cell_type": "code",
   "execution_count": 7,
   "id": "8fc74485-184d-40cc-8d20-42e77d72f3e4",
   "metadata": {},
   "outputs": [
    {
     "data": {
      "text/plain": [
       "(3304, 42)"
      ]
     },
     "execution_count": 7,
     "metadata": {},
     "output_type": "execute_result"
    }
   ],
   "source": [
    "df = pd.concat([f1.fillna(0), f2.fillna(0)], ignore_index=True)\n",
    "df = df.drop(columns=[\"id\"])\n",
    "df.shape"
   ]
  },
  {
   "cell_type": "code",
   "execution_count": 8,
   "id": "ea1732ec-8471-48a0-9a7b-f88e3202eaf8",
   "metadata": {},
   "outputs": [
    {
     "data": {
      "text/plain": [
       "Index(['Km', 'Vmax', 'activity', 'X', 'IR', 'pot2', 'ph', 'temp', 'dstr',\n",
       "       'lgCmin', 'lgCmax', 'Cmin', 'Cmax', 'lgCconst', 'Cconst', 'lgCcat',\n",
       "       'Ccat', 'lgvolume', 'MolWt', 'PEOE_VSA7', 'PEOE_VSA9', 'VSA_EState8',\n",
       "       'Kappa2', 'BalabanJ', 'MinAbsEStateIndex', 'MinEStateIndex',\n",
       "       'EState_VSA6', 'VSA_EState4', 'PEOE_VSA8', 'MinPartialCharge',\n",
       "       'EState_VSA4', 'SMR_VSA7', 'Complexity1', 'TPSA1', 'TPSA2', 'TPSA',\n",
       "       'XLogP', 'MaxEStateIndex.1', 'MaxEStateIndex.2', 'MinPartialCharge.1',\n",
       "       'MaxPartialCharge.1', 'BCUT2D_CHGLO'],\n",
       "      dtype='object')"
      ]
     },
     "execution_count": 8,
     "metadata": {},
     "output_type": "execute_result"
    }
   ],
   "source": [
    "df.columns"
   ]
  },
  {
   "cell_type": "code",
   "execution_count": 10,
   "id": "9af1e276-9ec0-4863-8b98-8c81694e77aa",
   "metadata": {},
   "outputs": [
    {
     "name": "stdout",
     "output_type": "stream",
     "text": [
      "Количество коррелирующих признаков: 22\n",
      "['X', 'IR', 'pot2', 'dstr', 'lgvolume', 'MolWt', 'PEOE_VSA7', 'PEOE_VSA9', 'VSA_EState8', 'Kappa2', 'BalabanJ', 'MinAbsEStateIndex', 'MinEStateIndex', 'EState_VSA6', 'VSA_EState4', 'PEOE_VSA8', 'MinPartialCharge', 'EState_VSA4', 'SMR_VSA7', 'TPSA', 'XLogP', 'BCUT2D_CHGLO']\n"
     ]
    }
   ],
   "source": [
    "# Загружаем список входных признаков, коррелирующих с целевым\n",
    "# with open(\"corr_with_activity2.2.txt\", \"r\") as file_activity:\n",
    "#     corr_with_activity = file_activity.read().splitlines()\n",
    "\n",
    "corr_with_activity = [\n",
    "    'X', 'IR', 'pot2', 'dstr', 'lgvolume',\n",
    "    'MolWt', 'PEOE_VSA7', 'PEOE_VSA9', 'VSA_EState8',\n",
    "    'Kappa2', 'BalabanJ', 'MinAbsEStateIndex', 'MinEStateIndex',\n",
    "    'EState_VSA6', 'VSA_EState4', 'PEOE_VSA8', 'MinPartialCharge',\n",
    "    'EState_VSA4', 'SMR_VSA7', 'TPSA',\n",
    "    'XLogP', 'BCUT2D_CHGLO']\n",
    "\n",
    "print(f'Количество коррелирующих признаков: {len(corr_with_activity)}')\n",
    "print(corr_with_activity)"
   ]
  },
  {
   "cell_type": "markdown",
   "id": "8b5650b8-a97a-4e46-b1ca-37484872feb7",
   "metadata": {
    "tags": []
   },
   "source": [
    "## Предобработка данных"
   ]
  },
  {
   "cell_type": "code",
   "execution_count": 11,
   "id": "18a4a0a1-75bc-46b0-84b1-65b01bc38927",
   "metadata": {},
   "outputs": [
    {
     "name": "stdout",
     "output_type": "stream",
     "text": [
      "Размер первоначального датафрейма: (3304, 42)\n"
     ]
    }
   ],
   "source": [
    "print(f'Размер первоначального датафрейма: {df.shape}')"
   ]
  },
  {
   "cell_type": "code",
   "execution_count": 12,
   "id": "d6272c5e-50a8-4223-960a-d2d264239a36",
   "metadata": {},
   "outputs": [
    {
     "name": "stdout",
     "output_type": "stream",
     "text": [
      "{'peroxidase': 1, 'oxidase': 2, 'catalase': 3, 'superoxide dismutase': 4, 'phosphatase': 5, 'esterase': 6, 'reductase': 7, 'laccase': 8, 'glycosidase': 9, 'uricase': 10, 'dnase': 11, 'rnase': 12, 'hydrolase': 13, 'phosphotriesterase': 14, 'epoxydase': 15}\n"
     ]
    }
   ],
   "source": [
    "df['activity'] = df['activity'].replace({1: \"peroxidase\", 2: \"oxidase\", 3: \"catalase\", 4: \"laccase\"})\n",
    "category2num = {cat: i+1 for i, cat in enumerate(df['activity'].value_counts().index.tolist())}\n",
    "print(category2num)\n",
    "df['activity'] = df['activity'].replace(category2num)"
   ]
  },
  {
   "cell_type": "code",
   "execution_count": 13,
   "id": "c5e6fa5c-4c9f-4353-bbdc-d9e52da64dcd",
   "metadata": {
    "tags": []
   },
   "outputs": [
    {
     "name": "stdout",
     "output_type": "stream",
     "text": [
      "Размер датафрейма после удаления дубликатов: (3151, 42)\n"
     ]
    }
   ],
   "source": [
    "# Удаляем дубликаты\n",
    "df = df.drop_duplicates()\n",
    "print(f'Размер датафрейма после удаления дубликатов: {df.shape}')"
   ]
  },
  {
   "cell_type": "code",
   "execution_count": 14,
   "id": "8a04a74b-c85a-49b5-8bc6-75e349199bde",
   "metadata": {},
   "outputs": [
    {
     "data": {
      "text/plain": [
       "activity\n",
       "1     2628\n",
       "2      313\n",
       "3      132\n",
       "4       40\n",
       "5       11\n",
       "6        9\n",
       "8        4\n",
       "9        4\n",
       "7        3\n",
       "10       2\n",
       "11       1\n",
       "12       1\n",
       "13       1\n",
       "14       1\n",
       "15       1\n",
       "Name: count, dtype: int64"
      ]
     },
     "execution_count": 14,
     "metadata": {},
     "output_type": "execute_result"
    }
   ],
   "source": [
    "df['activity'].value_counts()"
   ]
  },
  {
   "cell_type": "code",
   "execution_count": 15,
   "id": "d8093777-5fc8-47d0-9d3f-01d4ddecd28f",
   "metadata": {},
   "outputs": [
    {
     "name": "stdout",
     "output_type": "stream",
     "text": [
      "Размер датафрейма после выбора элементов с определёнными activity: (3133, 42)\n"
     ]
    }
   ],
   "source": [
    "# Сохранение примеров только с такими активностями, которые представлены в датасете больше 10 раз\n",
    "interesting_activities = [1, 2, 3, 4, 5, 6]\n",
    "df = df[df['activity'].astype(int).isin(interesting_activities)]\n",
    "# df['activity'] = df['activity'].replace({key: i+1 for i, key in enumerate(interesting_activities)})\n",
    "print(f'Размер датафрейма после выбора элементов с определёнными activity: {df.shape}')"
   ]
  },
  {
   "cell_type": "code",
   "execution_count": 16,
   "id": "24813124-3cb2-449c-97d9-f9346c11ed45",
   "metadata": {},
   "outputs": [
    {
     "name": "stdout",
     "output_type": "stream",
     "text": [
      "Vmax    float64\n",
      "Km      float64\n",
      "ph      float64\n",
      "dtype: object\n"
     ]
    }
   ],
   "source": [
    "# Преобразование типов и замена \"no\" на NaN\n",
    "df['Vmax'] = pd.to_numeric(df['Vmax'].replace(\"no\", np.nan), errors='coerce')\n",
    "df['Km'] = pd.to_numeric(df['Km'].replace(\"no\", np.nan), errors='coerce')\n",
    "\n",
    "invalid_values = list(df['ph'][~df['ph'].apply(lambda x: pd.to_numeric(x, errors='coerce')).notna()])\n",
    "df['ph'] = pd.to_numeric(df['ph'].where(lambda ph: ~ph.isin(invalid_values)), errors='coerce')\n",
    "\n",
    "# Проверяем что сделали корректно\n",
    "print(df[['Vmax', 'Km', 'ph']].dtypes)"
   ]
  },
  {
   "cell_type": "code",
   "execution_count": 17,
   "id": "da4a1ee8-0c3b-4842-9157-576e2fe4a19e",
   "metadata": {},
   "outputs": [
    {
     "name": "stdout",
     "output_type": "stream",
     "text": [
      "Размеры датафрейма: (3133, 23)\n",
      "Количество дубликатов после удаления признаков: 1388\n"
     ]
    }
   ],
   "source": [
    "# Оставляем в датафрейме только те признаки, которые коррелируют с целевым\n",
    "df = df[corr_with_activity + ['activity']]\n",
    "print(f'Размеры датафрейма: {df.shape}')\n",
    "print(f'Количество дубликатов после удаления признаков: {df.duplicated().sum()}')\n",
    "df = df.drop_duplicates()"
   ]
  },
  {
   "cell_type": "code",
   "execution_count": 18,
   "id": "0fb0af7c-4c45-4802-a991-46c4f8ab97d6",
   "metadata": {},
   "outputs": [
    {
     "data": {
      "text/plain": [
       "activity\n",
       "1    1375\n",
       "2     220\n",
       "3     103\n",
       "4      33\n",
       "5       7\n",
       "6       7\n",
       "Name: count, dtype: int64"
      ]
     },
     "execution_count": 18,
     "metadata": {},
     "output_type": "execute_result"
    }
   ],
   "source": [
    "df.activity.value_counts()"
   ]
  },
  {
   "cell_type": "markdown",
   "id": "5b7e6172-4bd1-40d0-93c5-ffbb3fce8c9b",
   "metadata": {},
   "source": [
    "## Тестирование моделей"
   ]
  },
  {
   "cell_type": "markdown",
   "id": "3fd2e3c1-c48f-448b-8464-b29d33449ea3",
   "metadata": {
    "tags": []
   },
   "source": [
    "### Разбивка датафрейма на тренировочную и тестовыю выбрки"
   ]
  },
  {
   "cell_type": "code",
   "execution_count": 19,
   "id": "e94a8a63-73a1-41de-86b0-9fc67b32a5d9",
   "metadata": {},
   "outputs": [
    {
     "name": "stdout",
     "output_type": "stream",
     "text": [
      "Размер X_train: (1308, 22)\n",
      "Размер y_train: (1308, 1)\n",
      "Размер X_test: (437, 22)\n",
      "Размер y_test: (437, 1)\n"
     ]
    }
   ],
   "source": [
    "# Разделяем на целевой признак и на входные\n",
    "X = df.drop('activity', axis=1)\n",
    "y = pd.DataFrame(df['activity'])\n",
    "\n",
    "# Разделяем данные на тренировочную и тестовую выборки\n",
    "X_train, X_test, y_train, y_test = train_test_split(X, y, test_size=TEST_SIZE, random_state=RANDOM_STATE, stratify=y)\n",
    "\n",
    "# Стераем названия колонок\n",
    "X.columns.name = ''\n",
    "X_train.columns.name = ''\n",
    "X_test.columns.name = ''\n",
    "\n",
    "# Преобразуем целевой признак в формат даафрейма\n",
    "y = pd.DataFrame(y)\n",
    "y_train = pd.DataFrame(y_train)\n",
    "y_test = pd.DataFrame(y_test)\n",
    "\n",
    "# Стераем старые индексы\n",
    "X_train = X_train.reset_index(drop=True)\n",
    "y_train = y_train.reset_index(drop=True)\n",
    "X_test = X_test.reset_index(drop=True)\n",
    "y_test = y_test.reset_index(drop=True)\n",
    "\n",
    "# Вывод размеров датафреймов\n",
    "print(f\"Размер X_train: {X_train.shape}\")\n",
    "print(f\"Размер y_train: {y_train.shape}\")\n",
    "print(f\"Размер X_test: {X_test.shape}\")\n",
    "print(f\"Размер y_test: {y_test.shape}\")"
   ]
  },
  {
   "cell_type": "markdown",
   "id": "41a102ef-ba80-4d73-bdfc-37828408d67b",
   "metadata": {},
   "source": [
    "## Сохранение тестовой выборки для интерпретации модели"
   ]
  },
  {
   "cell_type": "code",
   "execution_count": 20,
   "id": "45b30950-b7ee-4a62-82af-b06185c5930b",
   "metadata": {},
   "outputs": [
    {
     "name": "stdout",
     "output_type": "stream",
     "text": [
      "Данные успешно сохранены.\n"
     ]
    }
   ],
   "source": [
    "sub_folder = \"full_df2.2.no_experiment\"\n",
    "# Создаем папку\n",
    "os.makedirs(f'test_train_data/{sub_folder}', exist_ok=True)\n",
    "\n",
    "# Сохраняем данные\n",
    "X_train.to_csv(f'test_train_data/{sub_folder}/X_train.csv', index=False)\n",
    "y_train.to_csv(f'test_train_data/{sub_folder}/y_train.csv', index=False)\n",
    "X_test.to_csv(f'test_train_data/{sub_folder}/X_test.csv', index=False)\n",
    "y_test.to_csv(f'test_train_data/{sub_folder}/y_test.csv', index=False)\n",
    "\n",
    "# Проверка, что файлы сохранены\n",
    "files = [f'test_train_data/{sub_folder}/X_train.csv', f'test_train_data/{sub_folder}/y_train.csv',\n",
    "         f'test_train_data/{sub_folder}/X_test.csv', f'test_train_data/{sub_folder}/y_test.csv']\n",
    "if all(os.path.exists(file) for file in files):\n",
    "    print(\"Данные успешно сохранены.\")\n",
    "else:\n",
    "    print(\"Ошибка: Не все данные сохранились!\")"
   ]
  },
  {
   "cell_type": "markdown",
   "id": "83f9081d-fff3-45df-b055-22b43b3400fa",
   "metadata": {},
   "source": [
    "### Подбор параметров, сравнение моделей"
   ]
  },
  {
   "cell_type": "code",
   "execution_count": 21,
   "id": "1154c0e8-4ef0-4e8b-87bc-cbf87839c9bf",
   "metadata": {},
   "outputs": [
    {
     "data": {
      "application/vnd.jupyter.widget-view+json": {
       "model_id": "8cfbccdaa0ff443b92332788919ce9ab",
       "version_major": 2,
       "version_minor": 0
      },
      "text/plain": [
       "  0%|          | 0/20 [00:00<?, ?it/s]"
      ]
     },
     "metadata": {},
     "output_type": "display_data"
    },
    {
     "data": {
      "text/html": [
       "<div>\n",
       "<style scoped>\n",
       "    .dataframe tbody tr th:only-of-type {\n",
       "        vertical-align: middle;\n",
       "    }\n",
       "\n",
       "    .dataframe tbody tr th {\n",
       "        vertical-align: top;\n",
       "    }\n",
       "\n",
       "    .dataframe thead th {\n",
       "        text-align: right;\n",
       "    }\n",
       "</style>\n",
       "<table border=\"1\" class=\"dataframe\">\n",
       "  <thead>\n",
       "    <tr style=\"text-align: right;\">\n",
       "      <th>LogisticRegression</th>\n",
       "      <th>roc_auc</th>\n",
       "      <th>duration</th>\n",
       "      <th>num_encoding</th>\n",
       "      <th>C</th>\n",
       "      <th>imputer_neighbors</th>\n",
       "      <th>n_quantiles</th>\n",
       "      <th>output_distribution</th>\n",
       "      <th>solver_and_penalty</th>\n",
       "      <th>weights</th>\n",
       "    </tr>\n",
       "  </thead>\n",
       "  <tbody>\n",
       "    <tr>\n",
       "      <th>1</th>\n",
       "      <td>0.690916</td>\n",
       "      <td>00:00:02.040925</td>\n",
       "      <td>PowerTransformer standardize=True</td>\n",
       "      <td>40.536315</td>\n",
       "      <td>34</td>\n",
       "      <td>NaN</td>\n",
       "      <td>NaN</td>\n",
       "      <td>saga + l1</td>\n",
       "      <td>uniform</td>\n",
       "    </tr>\n",
       "  </tbody>\n",
       "</table>\n",
       "</div>"
      ],
      "text/plain": [
       "LogisticRegression   roc_auc         duration  \\\n",
       "1                   0.690916  00:00:02.040925   \n",
       "\n",
       "LogisticRegression                       num_encoding          C  \\\n",
       "1                   PowerTransformer standardize=True  40.536315   \n",
       "\n",
       "LogisticRegression  imputer_neighbors  n_quantiles output_distribution  \\\n",
       "1                                  34          NaN                 NaN   \n",
       "\n",
       "LogisticRegression solver_and_penalty  weights  \n",
       "1                           saga + l1  uniform  "
      ]
     },
     "metadata": {},
     "output_type": "display_data"
    },
    {
     "data": {
      "application/vnd.jupyter.widget-view+json": {
       "model_id": "763bd7fc5ab74846a57d03de509080f7",
       "version_major": 2,
       "version_minor": 0
      },
      "text/plain": [
       "  0%|          | 0/20 [00:00<?, ?it/s]"
      ]
     },
     "metadata": {},
     "output_type": "display_data"
    },
    {
     "data": {
      "text/html": [
       "<div>\n",
       "<style scoped>\n",
       "    .dataframe tbody tr th:only-of-type {\n",
       "        vertical-align: middle;\n",
       "    }\n",
       "\n",
       "    .dataframe tbody tr th {\n",
       "        vertical-align: top;\n",
       "    }\n",
       "\n",
       "    .dataframe thead th {\n",
       "        text-align: right;\n",
       "    }\n",
       "</style>\n",
       "<table border=\"1\" class=\"dataframe\">\n",
       "  <thead>\n",
       "    <tr style=\"text-align: right;\">\n",
       "      <th>KNNClassifier</th>\n",
       "      <th>roc_auc</th>\n",
       "      <th>duration</th>\n",
       "      <th>num_encoding</th>\n",
       "      <th>algorithm</th>\n",
       "      <th>imputer_neighbors</th>\n",
       "      <th>n_neighbors</th>\n",
       "      <th>n_quantiles</th>\n",
       "      <th>output_distribution</th>\n",
       "      <th>p</th>\n",
       "      <th>weights</th>\n",
       "    </tr>\n",
       "  </thead>\n",
       "  <tbody>\n",
       "    <tr>\n",
       "      <th>1</th>\n",
       "      <td>0.686054</td>\n",
       "      <td>00:00:00.241239</td>\n",
       "      <td>StandardScaler</td>\n",
       "      <td>ball_tree</td>\n",
       "      <td>12</td>\n",
       "      <td>67</td>\n",
       "      <td>NaN</td>\n",
       "      <td>NaN</td>\n",
       "      <td>1</td>\n",
       "      <td>uniform</td>\n",
       "    </tr>\n",
       "  </tbody>\n",
       "</table>\n",
       "</div>"
      ],
      "text/plain": [
       "KNNClassifier   roc_auc         duration    num_encoding  algorithm  \\\n",
       "1              0.686054  00:00:00.241239  StandardScaler  ball_tree   \n",
       "\n",
       "KNNClassifier  imputer_neighbors  n_neighbors  n_quantiles  \\\n",
       "1                             12           67          NaN   \n",
       "\n",
       "KNNClassifier output_distribution  p  weights  \n",
       "1                             NaN  1  uniform  "
      ]
     },
     "metadata": {},
     "output_type": "display_data"
    },
    {
     "data": {
      "application/vnd.jupyter.widget-view+json": {
       "model_id": "ba9ee05186be42bba6d6e40912d04d69",
       "version_major": 2,
       "version_minor": 0
      },
      "text/plain": [
       "  0%|          | 0/20 [00:00<?, ?it/s]"
      ]
     },
     "metadata": {},
     "output_type": "display_data"
    },
    {
     "data": {
      "text/html": [
       "<div>\n",
       "<style scoped>\n",
       "    .dataframe tbody tr th:only-of-type {\n",
       "        vertical-align: middle;\n",
       "    }\n",
       "\n",
       "    .dataframe tbody tr th {\n",
       "        vertical-align: top;\n",
       "    }\n",
       "\n",
       "    .dataframe thead th {\n",
       "        text-align: right;\n",
       "    }\n",
       "</style>\n",
       "<table border=\"1\" class=\"dataframe\">\n",
       "  <thead>\n",
       "    <tr style=\"text-align: right;\">\n",
       "      <th>SVC</th>\n",
       "      <th>roc_auc</th>\n",
       "      <th>duration</th>\n",
       "      <th>num_encoding</th>\n",
       "      <th>C</th>\n",
       "      <th>imputer_neighbors</th>\n",
       "      <th>kernel</th>\n",
       "      <th>n_quantiles</th>\n",
       "      <th>output_distribution</th>\n",
       "      <th>weights</th>\n",
       "    </tr>\n",
       "  </thead>\n",
       "  <tbody>\n",
       "    <tr>\n",
       "      <th>1</th>\n",
       "      <td>0.681664</td>\n",
       "      <td>00:00:03.874353</td>\n",
       "      <td>QuantileTransformer</td>\n",
       "      <td>7.731854</td>\n",
       "      <td>30</td>\n",
       "      <td>rbf</td>\n",
       "      <td>96.0</td>\n",
       "      <td>normal</td>\n",
       "      <td>uniform</td>\n",
       "    </tr>\n",
       "  </tbody>\n",
       "</table>\n",
       "</div>"
      ],
      "text/plain": [
       "SVC   roc_auc         duration         num_encoding         C  \\\n",
       "1    0.681664  00:00:03.874353  QuantileTransformer  7.731854   \n",
       "\n",
       "SVC  imputer_neighbors kernel  n_quantiles output_distribution  weights  \n",
       "1                   30    rbf         96.0              normal  uniform  "
      ]
     },
     "metadata": {},
     "output_type": "display_data"
    },
    {
     "data": {
      "application/vnd.jupyter.widget-view+json": {
       "model_id": "12fc570450e54c09afb644a9e259a8d2",
       "version_major": 2,
       "version_minor": 0
      },
      "text/plain": [
       "  0%|          | 0/20 [00:00<?, ?it/s]"
      ]
     },
     "metadata": {},
     "output_type": "display_data"
    },
    {
     "data": {
      "text/html": [
       "<div>\n",
       "<style scoped>\n",
       "    .dataframe tbody tr th:only-of-type {\n",
       "        vertical-align: middle;\n",
       "    }\n",
       "\n",
       "    .dataframe tbody tr th {\n",
       "        vertical-align: top;\n",
       "    }\n",
       "\n",
       "    .dataframe thead th {\n",
       "        text-align: right;\n",
       "    }\n",
       "</style>\n",
       "<table border=\"1\" class=\"dataframe\">\n",
       "  <thead>\n",
       "    <tr style=\"text-align: right;\">\n",
       "      <th>DecisionTreeClassifier</th>\n",
       "      <th>roc_auc</th>\n",
       "      <th>duration</th>\n",
       "      <th>num_encoding</th>\n",
       "      <th>criterion</th>\n",
       "      <th>imputer_neighbors</th>\n",
       "      <th>max_depth</th>\n",
       "      <th>max_features</th>\n",
       "      <th>min_samples_leaf</th>\n",
       "      <th>min_samples_split</th>\n",
       "      <th>n_quantiles</th>\n",
       "      <th>output_distribution</th>\n",
       "      <th>splitter</th>\n",
       "      <th>weights</th>\n",
       "    </tr>\n",
       "  </thead>\n",
       "  <tbody>\n",
       "    <tr>\n",
       "      <th>1</th>\n",
       "      <td>0.73062</td>\n",
       "      <td>00:00:00.223865</td>\n",
       "      <td>MaxAbsScaler</td>\n",
       "      <td>entropy</td>\n",
       "      <td>16</td>\n",
       "      <td>9</td>\n",
       "      <td>None</td>\n",
       "      <td>17</td>\n",
       "      <td>14</td>\n",
       "      <td>NaN</td>\n",
       "      <td>NaN</td>\n",
       "      <td>best</td>\n",
       "      <td>distance</td>\n",
       "    </tr>\n",
       "  </tbody>\n",
       "</table>\n",
       "</div>"
      ],
      "text/plain": [
       "DecisionTreeClassifier  roc_auc         duration  num_encoding criterion  \\\n",
       "1                       0.73062  00:00:00.223865  MaxAbsScaler   entropy   \n",
       "\n",
       "DecisionTreeClassifier  imputer_neighbors  max_depth max_features  \\\n",
       "1                                      16          9         None   \n",
       "\n",
       "DecisionTreeClassifier  min_samples_leaf  min_samples_split  n_quantiles  \\\n",
       "1                                     17                 14          NaN   \n",
       "\n",
       "DecisionTreeClassifier output_distribution splitter   weights  \n",
       "1                                      NaN     best  distance  "
      ]
     },
     "metadata": {},
     "output_type": "display_data"
    },
    {
     "data": {
      "application/vnd.jupyter.widget-view+json": {
       "model_id": "707f7cef5f064009943aac88d069f2ea",
       "version_major": 2,
       "version_minor": 0
      },
      "text/plain": [
       "  0%|          | 0/20 [00:00<?, ?it/s]"
      ]
     },
     "metadata": {},
     "output_type": "display_data"
    },
    {
     "data": {
      "text/html": [
       "<div>\n",
       "<style scoped>\n",
       "    .dataframe tbody tr th:only-of-type {\n",
       "        vertical-align: middle;\n",
       "    }\n",
       "\n",
       "    .dataframe tbody tr th {\n",
       "        vertical-align: top;\n",
       "    }\n",
       "\n",
       "    .dataframe thead th {\n",
       "        text-align: right;\n",
       "    }\n",
       "</style>\n",
       "<table border=\"1\" class=\"dataframe\">\n",
       "  <thead>\n",
       "    <tr style=\"text-align: right;\">\n",
       "      <th>RandomForestClassifier</th>\n",
       "      <th>roc_auc</th>\n",
       "      <th>duration</th>\n",
       "      <th>num_encoding</th>\n",
       "      <th>bootstrap</th>\n",
       "      <th>criterion</th>\n",
       "      <th>imputer_neighbors</th>\n",
       "      <th>max_depth</th>\n",
       "      <th>max_features</th>\n",
       "      <th>max_leaf_nodes</th>\n",
       "      <th>min_samples_leaf</th>\n",
       "      <th>min_samples_split</th>\n",
       "      <th>n_estimators</th>\n",
       "      <th>n_quantiles</th>\n",
       "      <th>output_distribution</th>\n",
       "      <th>weights</th>\n",
       "    </tr>\n",
       "  </thead>\n",
       "  <tbody>\n",
       "    <tr>\n",
       "      <th>1</th>\n",
       "      <td>0.776976</td>\n",
       "      <td>00:00:07.127767</td>\n",
       "      <td>RobustScaler</td>\n",
       "      <td>True</td>\n",
       "      <td>entropy</td>\n",
       "      <td>10</td>\n",
       "      <td>9</td>\n",
       "      <td>7</td>\n",
       "      <td>13</td>\n",
       "      <td>6</td>\n",
       "      <td>10</td>\n",
       "      <td>336</td>\n",
       "      <td>NaN</td>\n",
       "      <td>NaN</td>\n",
       "      <td>uniform</td>\n",
       "    </tr>\n",
       "  </tbody>\n",
       "</table>\n",
       "</div>"
      ],
      "text/plain": [
       "RandomForestClassifier   roc_auc         duration  num_encoding  bootstrap  \\\n",
       "1                       0.776976  00:00:07.127767  RobustScaler       True   \n",
       "\n",
       "RandomForestClassifier criterion  imputer_neighbors  max_depth  max_features  \\\n",
       "1                        entropy                 10          9             7   \n",
       "\n",
       "RandomForestClassifier  max_leaf_nodes  min_samples_leaf  min_samples_split  \\\n",
       "1                                   13                 6                 10   \n",
       "\n",
       "RandomForestClassifier  n_estimators  n_quantiles output_distribution  weights  \n",
       "1                                336          NaN                 NaN  uniform  "
      ]
     },
     "metadata": {},
     "output_type": "display_data"
    },
    {
     "data": {
      "application/vnd.jupyter.widget-view+json": {
       "model_id": "1e3f88992654486b982af16693983d1f",
       "version_major": 2,
       "version_minor": 0
      },
      "text/plain": [
       "  0%|          | 0/20 [00:00<?, ?it/s]"
      ]
     },
     "metadata": {},
     "output_type": "display_data"
    },
    {
     "data": {
      "text/html": [
       "<div>\n",
       "<style scoped>\n",
       "    .dataframe tbody tr th:only-of-type {\n",
       "        vertical-align: middle;\n",
       "    }\n",
       "\n",
       "    .dataframe tbody tr th {\n",
       "        vertical-align: top;\n",
       "    }\n",
       "\n",
       "    .dataframe thead th {\n",
       "        text-align: right;\n",
       "    }\n",
       "</style>\n",
       "<table border=\"1\" class=\"dataframe\">\n",
       "  <thead>\n",
       "    <tr style=\"text-align: right;\">\n",
       "      <th>CatBoostClassifier</th>\n",
       "      <th>roc_auc</th>\n",
       "      <th>duration</th>\n",
       "      <th>num_encoding</th>\n",
       "      <th>auto_class_weights</th>\n",
       "      <th>bagging_temperature</th>\n",
       "      <th>border_count</th>\n",
       "      <th>depth</th>\n",
       "      <th>grow_policy</th>\n",
       "      <th>imputer_neighbors</th>\n",
       "      <th>l2_leaf_reg</th>\n",
       "      <th>leaf_estimation_iterations</th>\n",
       "      <th>leaf_estimation_method</th>\n",
       "      <th>learning_rate</th>\n",
       "      <th>n_quantiles</th>\n",
       "      <th>output_distribution</th>\n",
       "      <th>random_strength</th>\n",
       "      <th>weights</th>\n",
       "      <th>iterations</th>\n",
       "    </tr>\n",
       "  </thead>\n",
       "  <tbody>\n",
       "    <tr>\n",
       "      <th>1</th>\n",
       "      <td>0.819143</td>\n",
       "      <td>00:00:30.460868</td>\n",
       "      <td>PowerTransformer standardize=False</td>\n",
       "      <td>None</td>\n",
       "      <td>0.733678</td>\n",
       "      <td>203</td>\n",
       "      <td>4</td>\n",
       "      <td>Lossguide</td>\n",
       "      <td>21</td>\n",
       "      <td>5.167442</td>\n",
       "      <td>4</td>\n",
       "      <td>Gradient</td>\n",
       "      <td>0.041732</td>\n",
       "      <td>NaN</td>\n",
       "      <td>NaN</td>\n",
       "      <td>0.936482</td>\n",
       "      <td>distance</td>\n",
       "      <td>658</td>\n",
       "    </tr>\n",
       "  </tbody>\n",
       "</table>\n",
       "</div>"
      ],
      "text/plain": [
       "CatBoostClassifier   roc_auc         duration  \\\n",
       "1                   0.819143  00:00:30.460868   \n",
       "\n",
       "CatBoostClassifier                        num_encoding auto_class_weights  \\\n",
       "1                   PowerTransformer standardize=False               None   \n",
       "\n",
       "CatBoostClassifier  bagging_temperature  border_count  depth grow_policy  \\\n",
       "1                              0.733678           203      4   Lossguide   \n",
       "\n",
       "CatBoostClassifier  imputer_neighbors  l2_leaf_reg  \\\n",
       "1                                  21     5.167442   \n",
       "\n",
       "CatBoostClassifier  leaf_estimation_iterations leaf_estimation_method  \\\n",
       "1                                            4               Gradient   \n",
       "\n",
       "CatBoostClassifier  learning_rate  n_quantiles output_distribution  \\\n",
       "1                        0.041732          NaN                 NaN   \n",
       "\n",
       "CatBoostClassifier  random_strength   weights  iterations  \n",
       "1                          0.936482  distance         658  "
      ]
     },
     "metadata": {},
     "output_type": "display_data"
    },
    {
     "data": {
      "application/vnd.jupyter.widget-view+json": {
       "model_id": "7029ad1f8871492e92ff3c341ef732d5",
       "version_major": 2,
       "version_minor": 0
      },
      "text/plain": [
       "  0%|          | 0/20 [00:00<?, ?it/s]"
      ]
     },
     "metadata": {},
     "output_type": "display_data"
    },
    {
     "data": {
      "text/html": [
       "<div>\n",
       "<style scoped>\n",
       "    .dataframe tbody tr th:only-of-type {\n",
       "        vertical-align: middle;\n",
       "    }\n",
       "\n",
       "    .dataframe tbody tr th {\n",
       "        vertical-align: top;\n",
       "    }\n",
       "\n",
       "    .dataframe thead th {\n",
       "        text-align: right;\n",
       "    }\n",
       "</style>\n",
       "<table border=\"1\" class=\"dataframe\">\n",
       "  <thead>\n",
       "    <tr style=\"text-align: right;\">\n",
       "      <th>MLPClassifier</th>\n",
       "      <th>roc_auc</th>\n",
       "      <th>duration</th>\n",
       "      <th>num_encoding</th>\n",
       "      <th>activation</th>\n",
       "      <th>alpha</th>\n",
       "      <th>hidden_layer_sizes</th>\n",
       "      <th>imputer_neighbors</th>\n",
       "      <th>learning_rate</th>\n",
       "      <th>n_quantiles</th>\n",
       "      <th>output_distribution</th>\n",
       "      <th>solver</th>\n",
       "      <th>weights</th>\n",
       "    </tr>\n",
       "  </thead>\n",
       "  <tbody>\n",
       "    <tr>\n",
       "      <th>1</th>\n",
       "      <td>0.735612</td>\n",
       "      <td>00:00:03.731798</td>\n",
       "      <td>PowerTransformer standardize=True</td>\n",
       "      <td>relu</td>\n",
       "      <td>0.00034</td>\n",
       "      <td>(50,)</td>\n",
       "      <td>11</td>\n",
       "      <td>constant</td>\n",
       "      <td>NaN</td>\n",
       "      <td>NaN</td>\n",
       "      <td>adam</td>\n",
       "      <td>uniform</td>\n",
       "    </tr>\n",
       "  </tbody>\n",
       "</table>\n",
       "</div>"
      ],
      "text/plain": [
       "MLPClassifier   roc_auc         duration                       num_encoding  \\\n",
       "1              0.735612  00:00:03.731798  PowerTransformer standardize=True   \n",
       "\n",
       "MLPClassifier activation    alpha hidden_layer_sizes  imputer_neighbors  \\\n",
       "1                   relu  0.00034              (50,)                 11   \n",
       "\n",
       "MLPClassifier learning_rate  n_quantiles output_distribution solver  weights  \n",
       "1                  constant          NaN                 NaN   adam  uniform  "
      ]
     },
     "metadata": {},
     "output_type": "display_data"
    },
    {
     "name": "stdout",
     "output_type": "stream",
     "text": [
      "\n"
     ]
    },
    {
     "data": {
      "text/html": [
       "<div>\n",
       "<style scoped>\n",
       "    .dataframe tbody tr th:only-of-type {\n",
       "        vertical-align: middle;\n",
       "    }\n",
       "\n",
       "    .dataframe tbody tr th {\n",
       "        vertical-align: top;\n",
       "    }\n",
       "\n",
       "    .dataframe thead th {\n",
       "        text-align: right;\n",
       "    }\n",
       "</style>\n",
       "<table border=\"1\" class=\"dataframe\">\n",
       "  <thead>\n",
       "    <tr style=\"text-align: right;\">\n",
       "      <th>models_best_results</th>\n",
       "      <th>model</th>\n",
       "      <th>roc_auc_cv</th>\n",
       "      <th>roc_auc_test</th>\n",
       "    </tr>\n",
       "  </thead>\n",
       "  <tbody>\n",
       "    <tr>\n",
       "      <th>1</th>\n",
       "      <td>CatBoostClassifier</td>\n",
       "      <td>0.819143</td>\n",
       "      <td>0.808511</td>\n",
       "    </tr>\n",
       "    <tr>\n",
       "      <th>2</th>\n",
       "      <td>RandomForestClassifier</td>\n",
       "      <td>0.776976</td>\n",
       "      <td>0.797442</td>\n",
       "    </tr>\n",
       "    <tr>\n",
       "      <th>3</th>\n",
       "      <td>MLPClassifier</td>\n",
       "      <td>0.735612</td>\n",
       "      <td>0.768461</td>\n",
       "    </tr>\n",
       "    <tr>\n",
       "      <th>4</th>\n",
       "      <td>DecisionTreeClassifier</td>\n",
       "      <td>0.730620</td>\n",
       "      <td>0.716672</td>\n",
       "    </tr>\n",
       "    <tr>\n",
       "      <th>5</th>\n",
       "      <td>LogisticRegression</td>\n",
       "      <td>0.690916</td>\n",
       "      <td>0.746509</td>\n",
       "    </tr>\n",
       "    <tr>\n",
       "      <th>6</th>\n",
       "      <td>KNNClassifier</td>\n",
       "      <td>0.686054</td>\n",
       "      <td>0.730282</td>\n",
       "    </tr>\n",
       "    <tr>\n",
       "      <th>7</th>\n",
       "      <td>SVC</td>\n",
       "      <td>0.681664</td>\n",
       "      <td>0.716265</td>\n",
       "    </tr>\n",
       "  </tbody>\n",
       "</table>\n",
       "</div>"
      ],
      "text/plain": [
       "models_best_results                   model  roc_auc_cv  roc_auc_test\n",
       "1                        CatBoostClassifier    0.819143      0.808511\n",
       "2                    RandomForestClassifier    0.776976      0.797442\n",
       "3                             MLPClassifier    0.735612      0.768461\n",
       "4                    DecisionTreeClassifier    0.730620      0.716672\n",
       "5                        LogisticRegression    0.690916      0.746509\n",
       "6                             KNNClassifier    0.686054      0.730282\n",
       "7                                       SVC    0.681664      0.716265"
      ]
     },
     "metadata": {},
     "output_type": "display_data"
    }
   ],
   "source": [
    "# Создаём экземпляр класса, задаём необходимые данные и настройки, запускаем подбор\n",
    "study = Study(X_train, y_train, X_test, y_test, cv_num=5)\n",
    "models_for_test_list = ['LogisticRegression', 'KNNClassifier', 'SVC', 'DecisionTreeClassifier', 'RandomForestClassifier', 'CatBoostClassifier', 'MLPClassifier']\n",
    "study.set_models_list(models_for_test_list)\n",
    "study.set_model_score('roc_auc')\n",
    "study.set_trials_num(20)\n",
    "study.set_show_trials_num(1)\n",
    "study.run()"
   ]
  },
  {
   "cell_type": "markdown",
   "id": "95406ad2-cae4-4837-b42e-d398cdd65964",
   "metadata": {},
   "source": [
    "## Стекинг моделей"
   ]
  },
  {
   "cell_type": "code",
   "execution_count": 22,
   "id": "b00d39df-7b01-4b46-a391-fb9924d14553",
   "metadata": {},
   "outputs": [],
   "source": [
    "# Сохраняем наиболее интересные модели в переменные\n",
    "svc_pipe = study.best_piplines_dict['MLPClassifier']\n",
    "rf_pipe = study.best_piplines_dict['RandomForestClassifier']\n",
    "cb_pipe = study.best_piplines_dict['CatBoostClassifier']"
   ]
  },
  {
   "cell_type": "code",
   "execution_count": 23,
   "id": "a0badfa6-5d0e-4181-be24-a32f49b8c0f8",
   "metadata": {},
   "outputs": [
    {
     "data": {
      "text/html": [
       "<style>#sk-container-id-1 {\n",
       "  /* Definition of color scheme common for light and dark mode */\n",
       "  --sklearn-color-text: black;\n",
       "  --sklearn-color-line: gray;\n",
       "  /* Definition of color scheme for unfitted estimators */\n",
       "  --sklearn-color-unfitted-level-0: #fff5e6;\n",
       "  --sklearn-color-unfitted-level-1: #f6e4d2;\n",
       "  --sklearn-color-unfitted-level-2: #ffe0b3;\n",
       "  --sklearn-color-unfitted-level-3: chocolate;\n",
       "  /* Definition of color scheme for fitted estimators */\n",
       "  --sklearn-color-fitted-level-0: #f0f8ff;\n",
       "  --sklearn-color-fitted-level-1: #d4ebff;\n",
       "  --sklearn-color-fitted-level-2: #b3dbfd;\n",
       "  --sklearn-color-fitted-level-3: cornflowerblue;\n",
       "\n",
       "  /* Specific color for light theme */\n",
       "  --sklearn-color-text-on-default-background: var(--sg-text-color, var(--theme-code-foreground, var(--jp-content-font-color1, black)));\n",
       "  --sklearn-color-background: var(--sg-background-color, var(--theme-background, var(--jp-layout-color0, white)));\n",
       "  --sklearn-color-border-box: var(--sg-text-color, var(--theme-code-foreground, var(--jp-content-font-color1, black)));\n",
       "  --sklearn-color-icon: #696969;\n",
       "\n",
       "  @media (prefers-color-scheme: dark) {\n",
       "    /* Redefinition of color scheme for dark theme */\n",
       "    --sklearn-color-text-on-default-background: var(--sg-text-color, var(--theme-code-foreground, var(--jp-content-font-color1, white)));\n",
       "    --sklearn-color-background: var(--sg-background-color, var(--theme-background, var(--jp-layout-color0, #111)));\n",
       "    --sklearn-color-border-box: var(--sg-text-color, var(--theme-code-foreground, var(--jp-content-font-color1, white)));\n",
       "    --sklearn-color-icon: #878787;\n",
       "  }\n",
       "}\n",
       "\n",
       "#sk-container-id-1 {\n",
       "  color: var(--sklearn-color-text);\n",
       "}\n",
       "\n",
       "#sk-container-id-1 pre {\n",
       "  padding: 0;\n",
       "}\n",
       "\n",
       "#sk-container-id-1 input.sk-hidden--visually {\n",
       "  border: 0;\n",
       "  clip: rect(1px 1px 1px 1px);\n",
       "  clip: rect(1px, 1px, 1px, 1px);\n",
       "  height: 1px;\n",
       "  margin: -1px;\n",
       "  overflow: hidden;\n",
       "  padding: 0;\n",
       "  position: absolute;\n",
       "  width: 1px;\n",
       "}\n",
       "\n",
       "#sk-container-id-1 div.sk-dashed-wrapped {\n",
       "  border: 1px dashed var(--sklearn-color-line);\n",
       "  margin: 0 0.4em 0.5em 0.4em;\n",
       "  box-sizing: border-box;\n",
       "  padding-bottom: 0.4em;\n",
       "  background-color: var(--sklearn-color-background);\n",
       "}\n",
       "\n",
       "#sk-container-id-1 div.sk-container {\n",
       "  /* jupyter's `normalize.less` sets `[hidden] { display: none; }`\n",
       "     but bootstrap.min.css set `[hidden] { display: none !important; }`\n",
       "     so we also need the `!important` here to be able to override the\n",
       "     default hidden behavior on the sphinx rendered scikit-learn.org.\n",
       "     See: https://github.com/scikit-learn/scikit-learn/issues/21755 */\n",
       "  display: inline-block !important;\n",
       "  position: relative;\n",
       "}\n",
       "\n",
       "#sk-container-id-1 div.sk-text-repr-fallback {\n",
       "  display: none;\n",
       "}\n",
       "\n",
       "div.sk-parallel-item,\n",
       "div.sk-serial,\n",
       "div.sk-item {\n",
       "  /* draw centered vertical line to link estimators */\n",
       "  background-image: linear-gradient(var(--sklearn-color-text-on-default-background), var(--sklearn-color-text-on-default-background));\n",
       "  background-size: 2px 100%;\n",
       "  background-repeat: no-repeat;\n",
       "  background-position: center center;\n",
       "}\n",
       "\n",
       "/* Parallel-specific style estimator block */\n",
       "\n",
       "#sk-container-id-1 div.sk-parallel-item::after {\n",
       "  content: \"\";\n",
       "  width: 100%;\n",
       "  border-bottom: 2px solid var(--sklearn-color-text-on-default-background);\n",
       "  flex-grow: 1;\n",
       "}\n",
       "\n",
       "#sk-container-id-1 div.sk-parallel {\n",
       "  display: flex;\n",
       "  align-items: stretch;\n",
       "  justify-content: center;\n",
       "  background-color: var(--sklearn-color-background);\n",
       "  position: relative;\n",
       "}\n",
       "\n",
       "#sk-container-id-1 div.sk-parallel-item {\n",
       "  display: flex;\n",
       "  flex-direction: column;\n",
       "}\n",
       "\n",
       "#sk-container-id-1 div.sk-parallel-item:first-child::after {\n",
       "  align-self: flex-end;\n",
       "  width: 50%;\n",
       "}\n",
       "\n",
       "#sk-container-id-1 div.sk-parallel-item:last-child::after {\n",
       "  align-self: flex-start;\n",
       "  width: 50%;\n",
       "}\n",
       "\n",
       "#sk-container-id-1 div.sk-parallel-item:only-child::after {\n",
       "  width: 0;\n",
       "}\n",
       "\n",
       "/* Serial-specific style estimator block */\n",
       "\n",
       "#sk-container-id-1 div.sk-serial {\n",
       "  display: flex;\n",
       "  flex-direction: column;\n",
       "  align-items: center;\n",
       "  background-color: var(--sklearn-color-background);\n",
       "  padding-right: 1em;\n",
       "  padding-left: 1em;\n",
       "}\n",
       "\n",
       "\n",
       "/* Toggleable style: style used for estimator/Pipeline/ColumnTransformer box that is\n",
       "clickable and can be expanded/collapsed.\n",
       "- Pipeline and ColumnTransformer use this feature and define the default style\n",
       "- Estimators will overwrite some part of the style using the `sk-estimator` class\n",
       "*/\n",
       "\n",
       "/* Pipeline and ColumnTransformer style (default) */\n",
       "\n",
       "#sk-container-id-1 div.sk-toggleable {\n",
       "  /* Default theme specific background. It is overwritten whether we have a\n",
       "  specific estimator or a Pipeline/ColumnTransformer */\n",
       "  background-color: var(--sklearn-color-background);\n",
       "}\n",
       "\n",
       "/* Toggleable label */\n",
       "#sk-container-id-1 label.sk-toggleable__label {\n",
       "  cursor: pointer;\n",
       "  display: block;\n",
       "  width: 100%;\n",
       "  margin-bottom: 0;\n",
       "  padding: 0.5em;\n",
       "  box-sizing: border-box;\n",
       "  text-align: center;\n",
       "}\n",
       "\n",
       "#sk-container-id-1 label.sk-toggleable__label-arrow:before {\n",
       "  /* Arrow on the left of the label */\n",
       "  content: \"▸\";\n",
       "  float: left;\n",
       "  margin-right: 0.25em;\n",
       "  color: var(--sklearn-color-icon);\n",
       "}\n",
       "\n",
       "#sk-container-id-1 label.sk-toggleable__label-arrow:hover:before {\n",
       "  color: var(--sklearn-color-text);\n",
       "}\n",
       "\n",
       "/* Toggleable content - dropdown */\n",
       "\n",
       "#sk-container-id-1 div.sk-toggleable__content {\n",
       "  max-height: 0;\n",
       "  max-width: 0;\n",
       "  overflow: hidden;\n",
       "  text-align: left;\n",
       "  /* unfitted */\n",
       "  background-color: var(--sklearn-color-unfitted-level-0);\n",
       "}\n",
       "\n",
       "#sk-container-id-1 div.sk-toggleable__content.fitted {\n",
       "  /* fitted */\n",
       "  background-color: var(--sklearn-color-fitted-level-0);\n",
       "}\n",
       "\n",
       "#sk-container-id-1 div.sk-toggleable__content pre {\n",
       "  margin: 0.2em;\n",
       "  border-radius: 0.25em;\n",
       "  color: var(--sklearn-color-text);\n",
       "  /* unfitted */\n",
       "  background-color: var(--sklearn-color-unfitted-level-0);\n",
       "}\n",
       "\n",
       "#sk-container-id-1 div.sk-toggleable__content.fitted pre {\n",
       "  /* unfitted */\n",
       "  background-color: var(--sklearn-color-fitted-level-0);\n",
       "}\n",
       "\n",
       "#sk-container-id-1 input.sk-toggleable__control:checked~div.sk-toggleable__content {\n",
       "  /* Expand drop-down */\n",
       "  max-height: 200px;\n",
       "  max-width: 100%;\n",
       "  overflow: auto;\n",
       "}\n",
       "\n",
       "#sk-container-id-1 input.sk-toggleable__control:checked~label.sk-toggleable__label-arrow:before {\n",
       "  content: \"▾\";\n",
       "}\n",
       "\n",
       "/* Pipeline/ColumnTransformer-specific style */\n",
       "\n",
       "#sk-container-id-1 div.sk-label input.sk-toggleable__control:checked~label.sk-toggleable__label {\n",
       "  color: var(--sklearn-color-text);\n",
       "  background-color: var(--sklearn-color-unfitted-level-2);\n",
       "}\n",
       "\n",
       "#sk-container-id-1 div.sk-label.fitted input.sk-toggleable__control:checked~label.sk-toggleable__label {\n",
       "  background-color: var(--sklearn-color-fitted-level-2);\n",
       "}\n",
       "\n",
       "/* Estimator-specific style */\n",
       "\n",
       "/* Colorize estimator box */\n",
       "#sk-container-id-1 div.sk-estimator input.sk-toggleable__control:checked~label.sk-toggleable__label {\n",
       "  /* unfitted */\n",
       "  background-color: var(--sklearn-color-unfitted-level-2);\n",
       "}\n",
       "\n",
       "#sk-container-id-1 div.sk-estimator.fitted input.sk-toggleable__control:checked~label.sk-toggleable__label {\n",
       "  /* fitted */\n",
       "  background-color: var(--sklearn-color-fitted-level-2);\n",
       "}\n",
       "\n",
       "#sk-container-id-1 div.sk-label label.sk-toggleable__label,\n",
       "#sk-container-id-1 div.sk-label label {\n",
       "  /* The background is the default theme color */\n",
       "  color: var(--sklearn-color-text-on-default-background);\n",
       "}\n",
       "\n",
       "/* On hover, darken the color of the background */\n",
       "#sk-container-id-1 div.sk-label:hover label.sk-toggleable__label {\n",
       "  color: var(--sklearn-color-text);\n",
       "  background-color: var(--sklearn-color-unfitted-level-2);\n",
       "}\n",
       "\n",
       "/* Label box, darken color on hover, fitted */\n",
       "#sk-container-id-1 div.sk-label.fitted:hover label.sk-toggleable__label.fitted {\n",
       "  color: var(--sklearn-color-text);\n",
       "  background-color: var(--sklearn-color-fitted-level-2);\n",
       "}\n",
       "\n",
       "/* Estimator label */\n",
       "\n",
       "#sk-container-id-1 div.sk-label label {\n",
       "  font-family: monospace;\n",
       "  font-weight: bold;\n",
       "  display: inline-block;\n",
       "  line-height: 1.2em;\n",
       "}\n",
       "\n",
       "#sk-container-id-1 div.sk-label-container {\n",
       "  text-align: center;\n",
       "}\n",
       "\n",
       "/* Estimator-specific */\n",
       "#sk-container-id-1 div.sk-estimator {\n",
       "  font-family: monospace;\n",
       "  border: 1px dotted var(--sklearn-color-border-box);\n",
       "  border-radius: 0.25em;\n",
       "  box-sizing: border-box;\n",
       "  margin-bottom: 0.5em;\n",
       "  /* unfitted */\n",
       "  background-color: var(--sklearn-color-unfitted-level-0);\n",
       "}\n",
       "\n",
       "#sk-container-id-1 div.sk-estimator.fitted {\n",
       "  /* fitted */\n",
       "  background-color: var(--sklearn-color-fitted-level-0);\n",
       "}\n",
       "\n",
       "/* on hover */\n",
       "#sk-container-id-1 div.sk-estimator:hover {\n",
       "  /* unfitted */\n",
       "  background-color: var(--sklearn-color-unfitted-level-2);\n",
       "}\n",
       "\n",
       "#sk-container-id-1 div.sk-estimator.fitted:hover {\n",
       "  /* fitted */\n",
       "  background-color: var(--sklearn-color-fitted-level-2);\n",
       "}\n",
       "\n",
       "/* Specification for estimator info (e.g. \"i\" and \"?\") */\n",
       "\n",
       "/* Common style for \"i\" and \"?\" */\n",
       "\n",
       ".sk-estimator-doc-link,\n",
       "a:link.sk-estimator-doc-link,\n",
       "a:visited.sk-estimator-doc-link {\n",
       "  float: right;\n",
       "  font-size: smaller;\n",
       "  line-height: 1em;\n",
       "  font-family: monospace;\n",
       "  background-color: var(--sklearn-color-background);\n",
       "  border-radius: 1em;\n",
       "  height: 1em;\n",
       "  width: 1em;\n",
       "  text-decoration: none !important;\n",
       "  margin-left: 1ex;\n",
       "  /* unfitted */\n",
       "  border: var(--sklearn-color-unfitted-level-1) 1pt solid;\n",
       "  color: var(--sklearn-color-unfitted-level-1);\n",
       "}\n",
       "\n",
       ".sk-estimator-doc-link.fitted,\n",
       "a:link.sk-estimator-doc-link.fitted,\n",
       "a:visited.sk-estimator-doc-link.fitted {\n",
       "  /* fitted */\n",
       "  border: var(--sklearn-color-fitted-level-1) 1pt solid;\n",
       "  color: var(--sklearn-color-fitted-level-1);\n",
       "}\n",
       "\n",
       "/* On hover */\n",
       "div.sk-estimator:hover .sk-estimator-doc-link:hover,\n",
       ".sk-estimator-doc-link:hover,\n",
       "div.sk-label-container:hover .sk-estimator-doc-link:hover,\n",
       ".sk-estimator-doc-link:hover {\n",
       "  /* unfitted */\n",
       "  background-color: var(--sklearn-color-unfitted-level-3);\n",
       "  color: var(--sklearn-color-background);\n",
       "  text-decoration: none;\n",
       "}\n",
       "\n",
       "div.sk-estimator.fitted:hover .sk-estimator-doc-link.fitted:hover,\n",
       ".sk-estimator-doc-link.fitted:hover,\n",
       "div.sk-label-container:hover .sk-estimator-doc-link.fitted:hover,\n",
       ".sk-estimator-doc-link.fitted:hover {\n",
       "  /* fitted */\n",
       "  background-color: var(--sklearn-color-fitted-level-3);\n",
       "  color: var(--sklearn-color-background);\n",
       "  text-decoration: none;\n",
       "}\n",
       "\n",
       "/* Span, style for the box shown on hovering the info icon */\n",
       ".sk-estimator-doc-link span {\n",
       "  display: none;\n",
       "  z-index: 9999;\n",
       "  position: relative;\n",
       "  font-weight: normal;\n",
       "  right: .2ex;\n",
       "  padding: .5ex;\n",
       "  margin: .5ex;\n",
       "  width: min-content;\n",
       "  min-width: 20ex;\n",
       "  max-width: 50ex;\n",
       "  color: var(--sklearn-color-text);\n",
       "  box-shadow: 2pt 2pt 4pt #999;\n",
       "  /* unfitted */\n",
       "  background: var(--sklearn-color-unfitted-level-0);\n",
       "  border: .5pt solid var(--sklearn-color-unfitted-level-3);\n",
       "}\n",
       "\n",
       ".sk-estimator-doc-link.fitted span {\n",
       "  /* fitted */\n",
       "  background: var(--sklearn-color-fitted-level-0);\n",
       "  border: var(--sklearn-color-fitted-level-3);\n",
       "}\n",
       "\n",
       ".sk-estimator-doc-link:hover span {\n",
       "  display: block;\n",
       "}\n",
       "\n",
       "/* \"?\"-specific style due to the `<a>` HTML tag */\n",
       "\n",
       "#sk-container-id-1 a.estimator_doc_link {\n",
       "  float: right;\n",
       "  font-size: 1rem;\n",
       "  line-height: 1em;\n",
       "  font-family: monospace;\n",
       "  background-color: var(--sklearn-color-background);\n",
       "  border-radius: 1rem;\n",
       "  height: 1rem;\n",
       "  width: 1rem;\n",
       "  text-decoration: none;\n",
       "  /* unfitted */\n",
       "  color: var(--sklearn-color-unfitted-level-1);\n",
       "  border: var(--sklearn-color-unfitted-level-1) 1pt solid;\n",
       "}\n",
       "\n",
       "#sk-container-id-1 a.estimator_doc_link.fitted {\n",
       "  /* fitted */\n",
       "  border: var(--sklearn-color-fitted-level-1) 1pt solid;\n",
       "  color: var(--sklearn-color-fitted-level-1);\n",
       "}\n",
       "\n",
       "/* On hover */\n",
       "#sk-container-id-1 a.estimator_doc_link:hover {\n",
       "  /* unfitted */\n",
       "  background-color: var(--sklearn-color-unfitted-level-3);\n",
       "  color: var(--sklearn-color-background);\n",
       "  text-decoration: none;\n",
       "}\n",
       "\n",
       "#sk-container-id-1 a.estimator_doc_link.fitted:hover {\n",
       "  /* fitted */\n",
       "  background-color: var(--sklearn-color-fitted-level-3);\n",
       "}\n",
       "</style><div id=\"sk-container-id-1\" class=\"sk-top-container\"><div class=\"sk-text-repr-fallback\"><pre>StackingClassifier(cv=5,\n",
       "                   estimators=[(&#x27;svc&#x27;,\n",
       "                                Pipeline(steps=[(&#x27;feature_engineering&#x27;,\n",
       "                                                 FunctionTransformer(func=&lt;bound method Objective.do_feature_engineering of &lt;pipeline_classes.ObjectiveClassifier object at 0x7062d89f15e0&gt;&gt;,\n",
       "                                                                     kw_args={})),\n",
       "                                                (&#x27;imputer&#x27;,\n",
       "                                                 KNNImputer(n_neighbors=11)),\n",
       "                                                (&#x27;num&#x27;, PowerTransformer()),\n",
       "                                                (&#x27;model&#x27;,\n",
       "                                                 MLPClassifier(alpha=0.00034047667156493814,\n",
       "                                                               hidd...\n",
       "                                                 FunctionTransformer(func=&lt;bound method Objective.do_feature_engineering of &lt;pipeline_classes.ObjectiveClassifier object at 0x7062d89f15e0&gt;&gt;,\n",
       "                                                                     kw_args={})),\n",
       "                                                (&#x27;imputer&#x27;,\n",
       "                                                 KNNImputer(n_neighbors=21,\n",
       "                                                            weights=&#x27;distance&#x27;)),\n",
       "                                                (&#x27;num&#x27;,\n",
       "                                                 PowerTransformer(standardize=False)),\n",
       "                                                (&#x27;model&#x27;,\n",
       "                                                 &lt;catboost.core.CatBoostClassifier object at 0x7062d8bf0c80&gt;)]))],\n",
       "                   final_estimator=LogisticRegression())</pre><b>In a Jupyter environment, please rerun this cell to show the HTML representation or trust the notebook. <br />On GitHub, the HTML representation is unable to render, please try loading this page with nbviewer.org.</b></div><div class=\"sk-container\" hidden><div class=\"sk-item sk-dashed-wrapped\"><div class=\"sk-label-container\"><div class=\"sk-label fitted sk-toggleable\"><input class=\"sk-toggleable__control sk-hidden--visually\" id=\"sk-estimator-id-1\" type=\"checkbox\" ><label for=\"sk-estimator-id-1\" class=\"sk-toggleable__label fitted sk-toggleable__label-arrow fitted\">&nbsp;&nbsp;StackingClassifier<a class=\"sk-estimator-doc-link fitted\" rel=\"noreferrer\" target=\"_blank\" href=\"https://scikit-learn.org/1.5/modules/generated/sklearn.ensemble.StackingClassifier.html\">?<span>Documentation for StackingClassifier</span></a><span class=\"sk-estimator-doc-link fitted\">i<span>Fitted</span></span></label><div class=\"sk-toggleable__content fitted\"><pre>StackingClassifier(cv=5,\n",
       "                   estimators=[(&#x27;svc&#x27;,\n",
       "                                Pipeline(steps=[(&#x27;feature_engineering&#x27;,\n",
       "                                                 FunctionTransformer(func=&lt;bound method Objective.do_feature_engineering of &lt;pipeline_classes.ObjectiveClassifier object at 0x7062d89f15e0&gt;&gt;,\n",
       "                                                                     kw_args={})),\n",
       "                                                (&#x27;imputer&#x27;,\n",
       "                                                 KNNImputer(n_neighbors=11)),\n",
       "                                                (&#x27;num&#x27;, PowerTransformer()),\n",
       "                                                (&#x27;model&#x27;,\n",
       "                                                 MLPClassifier(alpha=0.00034047667156493814,\n",
       "                                                               hidd...\n",
       "                                                 FunctionTransformer(func=&lt;bound method Objective.do_feature_engineering of &lt;pipeline_classes.ObjectiveClassifier object at 0x7062d89f15e0&gt;&gt;,\n",
       "                                                                     kw_args={})),\n",
       "                                                (&#x27;imputer&#x27;,\n",
       "                                                 KNNImputer(n_neighbors=21,\n",
       "                                                            weights=&#x27;distance&#x27;)),\n",
       "                                                (&#x27;num&#x27;,\n",
       "                                                 PowerTransformer(standardize=False)),\n",
       "                                                (&#x27;model&#x27;,\n",
       "                                                 &lt;catboost.core.CatBoostClassifier object at 0x7062d8bf0c80&gt;)]))],\n",
       "                   final_estimator=LogisticRegression())</pre></div> </div></div><div class=\"sk-serial\"><div class=\"sk-item\"><div class=\"sk-parallel\"><div class=\"sk-parallel-item\"><div class=\"sk-item\"><div class=\"sk-label-container\"><div class=\"sk-label fitted sk-toggleable\"><label>svc</label></div></div><div class=\"sk-serial\"><div class=\"sk-item\"><div class=\"sk-serial\"><div class=\"sk-item\"><div class=\"sk-estimator fitted sk-toggleable\"><input class=\"sk-toggleable__control sk-hidden--visually\" id=\"sk-estimator-id-2\" type=\"checkbox\" ><label for=\"sk-estimator-id-2\" class=\"sk-toggleable__label fitted sk-toggleable__label-arrow fitted\">&nbsp;FunctionTransformer<a class=\"sk-estimator-doc-link fitted\" rel=\"noreferrer\" target=\"_blank\" href=\"https://scikit-learn.org/1.5/modules/generated/sklearn.preprocessing.FunctionTransformer.html\">?<span>Documentation for FunctionTransformer</span></a></label><div class=\"sk-toggleable__content fitted\"><pre>FunctionTransformer(func=&lt;bound method Objective.do_feature_engineering of &lt;pipeline_classes.ObjectiveClassifier object at 0x7062d89f15e0&gt;&gt;,\n",
       "                    kw_args={})</pre></div> </div></div><div class=\"sk-item\"><div class=\"sk-estimator fitted sk-toggleable\"><input class=\"sk-toggleable__control sk-hidden--visually\" id=\"sk-estimator-id-3\" type=\"checkbox\" ><label for=\"sk-estimator-id-3\" class=\"sk-toggleable__label fitted sk-toggleable__label-arrow fitted\">&nbsp;KNNImputer<a class=\"sk-estimator-doc-link fitted\" rel=\"noreferrer\" target=\"_blank\" href=\"https://scikit-learn.org/1.5/modules/generated/sklearn.impute.KNNImputer.html\">?<span>Documentation for KNNImputer</span></a></label><div class=\"sk-toggleable__content fitted\"><pre>KNNImputer(n_neighbors=11)</pre></div> </div></div><div class=\"sk-item\"><div class=\"sk-estimator fitted sk-toggleable\"><input class=\"sk-toggleable__control sk-hidden--visually\" id=\"sk-estimator-id-4\" type=\"checkbox\" ><label for=\"sk-estimator-id-4\" class=\"sk-toggleable__label fitted sk-toggleable__label-arrow fitted\">&nbsp;PowerTransformer<a class=\"sk-estimator-doc-link fitted\" rel=\"noreferrer\" target=\"_blank\" href=\"https://scikit-learn.org/1.5/modules/generated/sklearn.preprocessing.PowerTransformer.html\">?<span>Documentation for PowerTransformer</span></a></label><div class=\"sk-toggleable__content fitted\"><pre>PowerTransformer()</pre></div> </div></div><div class=\"sk-item\"><div class=\"sk-estimator fitted sk-toggleable\"><input class=\"sk-toggleable__control sk-hidden--visually\" id=\"sk-estimator-id-5\" type=\"checkbox\" ><label for=\"sk-estimator-id-5\" class=\"sk-toggleable__label fitted sk-toggleable__label-arrow fitted\">&nbsp;MLPClassifier<a class=\"sk-estimator-doc-link fitted\" rel=\"noreferrer\" target=\"_blank\" href=\"https://scikit-learn.org/1.5/modules/generated/sklearn.neural_network.MLPClassifier.html\">?<span>Documentation for MLPClassifier</span></a></label><div class=\"sk-toggleable__content fitted\"><pre>MLPClassifier(alpha=0.00034047667156493814, hidden_layer_sizes=(50,),\n",
       "              random_state=38)</pre></div> </div></div></div></div></div></div></div><div class=\"sk-parallel-item\"><div class=\"sk-item\"><div class=\"sk-label-container\"><div class=\"sk-label fitted sk-toggleable\"><label>rf</label></div></div><div class=\"sk-serial\"><div class=\"sk-item\"><div class=\"sk-serial\"><div class=\"sk-item\"><div class=\"sk-estimator fitted sk-toggleable\"><input class=\"sk-toggleable__control sk-hidden--visually\" id=\"sk-estimator-id-6\" type=\"checkbox\" ><label for=\"sk-estimator-id-6\" class=\"sk-toggleable__label fitted sk-toggleable__label-arrow fitted\">&nbsp;FunctionTransformer<a class=\"sk-estimator-doc-link fitted\" rel=\"noreferrer\" target=\"_blank\" href=\"https://scikit-learn.org/1.5/modules/generated/sklearn.preprocessing.FunctionTransformer.html\">?<span>Documentation for FunctionTransformer</span></a></label><div class=\"sk-toggleable__content fitted\"><pre>FunctionTransformer(func=&lt;bound method Objective.do_feature_engineering of &lt;pipeline_classes.ObjectiveClassifier object at 0x7062d89f15e0&gt;&gt;,\n",
       "                    kw_args={})</pre></div> </div></div><div class=\"sk-item\"><div class=\"sk-estimator fitted sk-toggleable\"><input class=\"sk-toggleable__control sk-hidden--visually\" id=\"sk-estimator-id-7\" type=\"checkbox\" ><label for=\"sk-estimator-id-7\" class=\"sk-toggleable__label fitted sk-toggleable__label-arrow fitted\">&nbsp;KNNImputer<a class=\"sk-estimator-doc-link fitted\" rel=\"noreferrer\" target=\"_blank\" href=\"https://scikit-learn.org/1.5/modules/generated/sklearn.impute.KNNImputer.html\">?<span>Documentation for KNNImputer</span></a></label><div class=\"sk-toggleable__content fitted\"><pre>KNNImputer(n_neighbors=10)</pre></div> </div></div><div class=\"sk-item\"><div class=\"sk-estimator fitted sk-toggleable\"><input class=\"sk-toggleable__control sk-hidden--visually\" id=\"sk-estimator-id-8\" type=\"checkbox\" ><label for=\"sk-estimator-id-8\" class=\"sk-toggleable__label fitted sk-toggleable__label-arrow fitted\">&nbsp;RobustScaler<a class=\"sk-estimator-doc-link fitted\" rel=\"noreferrer\" target=\"_blank\" href=\"https://scikit-learn.org/1.5/modules/generated/sklearn.preprocessing.RobustScaler.html\">?<span>Documentation for RobustScaler</span></a></label><div class=\"sk-toggleable__content fitted\"><pre>RobustScaler()</pre></div> </div></div><div class=\"sk-item\"><div class=\"sk-estimator fitted sk-toggleable\"><input class=\"sk-toggleable__control sk-hidden--visually\" id=\"sk-estimator-id-9\" type=\"checkbox\" ><label for=\"sk-estimator-id-9\" class=\"sk-toggleable__label fitted sk-toggleable__label-arrow fitted\">&nbsp;RandomForestClassifier<a class=\"sk-estimator-doc-link fitted\" rel=\"noreferrer\" target=\"_blank\" href=\"https://scikit-learn.org/1.5/modules/generated/sklearn.ensemble.RandomForestClassifier.html\">?<span>Documentation for RandomForestClassifier</span></a></label><div class=\"sk-toggleable__content fitted\"><pre>RandomForestClassifier(criterion=&#x27;entropy&#x27;, max_depth=9, max_features=7,\n",
       "                       max_leaf_nodes=13, min_samples_leaf=6,\n",
       "                       min_samples_split=10, n_estimators=336, random_state=38)</pre></div> </div></div></div></div></div></div></div><div class=\"sk-parallel-item\"><div class=\"sk-item\"><div class=\"sk-label-container\"><div class=\"sk-label fitted sk-toggleable\"><label>cb</label></div></div><div class=\"sk-serial\"><div class=\"sk-item\"><div class=\"sk-serial\"><div class=\"sk-item\"><div class=\"sk-estimator fitted sk-toggleable\"><input class=\"sk-toggleable__control sk-hidden--visually\" id=\"sk-estimator-id-10\" type=\"checkbox\" ><label for=\"sk-estimator-id-10\" class=\"sk-toggleable__label fitted sk-toggleable__label-arrow fitted\">&nbsp;FunctionTransformer<a class=\"sk-estimator-doc-link fitted\" rel=\"noreferrer\" target=\"_blank\" href=\"https://scikit-learn.org/1.5/modules/generated/sklearn.preprocessing.FunctionTransformer.html\">?<span>Documentation for FunctionTransformer</span></a></label><div class=\"sk-toggleable__content fitted\"><pre>FunctionTransformer(func=&lt;bound method Objective.do_feature_engineering of &lt;pipeline_classes.ObjectiveClassifier object at 0x7062d89f15e0&gt;&gt;,\n",
       "                    kw_args={})</pre></div> </div></div><div class=\"sk-item\"><div class=\"sk-estimator fitted sk-toggleable\"><input class=\"sk-toggleable__control sk-hidden--visually\" id=\"sk-estimator-id-11\" type=\"checkbox\" ><label for=\"sk-estimator-id-11\" class=\"sk-toggleable__label fitted sk-toggleable__label-arrow fitted\">&nbsp;KNNImputer<a class=\"sk-estimator-doc-link fitted\" rel=\"noreferrer\" target=\"_blank\" href=\"https://scikit-learn.org/1.5/modules/generated/sklearn.impute.KNNImputer.html\">?<span>Documentation for KNNImputer</span></a></label><div class=\"sk-toggleable__content fitted\"><pre>KNNImputer(n_neighbors=21, weights=&#x27;distance&#x27;)</pre></div> </div></div><div class=\"sk-item\"><div class=\"sk-estimator fitted sk-toggleable\"><input class=\"sk-toggleable__control sk-hidden--visually\" id=\"sk-estimator-id-12\" type=\"checkbox\" ><label for=\"sk-estimator-id-12\" class=\"sk-toggleable__label fitted sk-toggleable__label-arrow fitted\">&nbsp;PowerTransformer<a class=\"sk-estimator-doc-link fitted\" rel=\"noreferrer\" target=\"_blank\" href=\"https://scikit-learn.org/1.5/modules/generated/sklearn.preprocessing.PowerTransformer.html\">?<span>Documentation for PowerTransformer</span></a></label><div class=\"sk-toggleable__content fitted\"><pre>PowerTransformer(standardize=False)</pre></div> </div></div><div class=\"sk-item\"><div class=\"sk-estimator fitted sk-toggleable\"><input class=\"sk-toggleable__control sk-hidden--visually\" id=\"sk-estimator-id-13\" type=\"checkbox\" ><label for=\"sk-estimator-id-13\" class=\"sk-toggleable__label fitted sk-toggleable__label-arrow fitted\">CatBoostClassifier</label><div class=\"sk-toggleable__content fitted\"><pre>&lt;catboost.core.CatBoostClassifier object at 0x7062d8bf0c80&gt;</pre></div> </div></div></div></div></div></div></div></div></div><div class=\"sk-item\"><div class=\"sk-parallel\"><div class=\"sk-parallel-item\"><div class=\"sk-item\"><div class=\"sk-label-container\"><div class=\"sk-label fitted sk-toggleable\"><label>final_estimator</label></div></div><div class=\"sk-serial\"><div class=\"sk-item\"><div class=\"sk-estimator fitted sk-toggleable\"><input class=\"sk-toggleable__control sk-hidden--visually\" id=\"sk-estimator-id-14\" type=\"checkbox\" ><label for=\"sk-estimator-id-14\" class=\"sk-toggleable__label fitted sk-toggleable__label-arrow fitted\">&nbsp;LogisticRegression<a class=\"sk-estimator-doc-link fitted\" rel=\"noreferrer\" target=\"_blank\" href=\"https://scikit-learn.org/1.5/modules/generated/sklearn.linear_model.LogisticRegression.html\">?<span>Documentation for LogisticRegression</span></a></label><div class=\"sk-toggleable__content fitted\"><pre>LogisticRegression()</pre></div> </div></div></div></div></div></div></div></div></div></div></div>"
      ],
      "text/plain": [
       "StackingClassifier(cv=5,\n",
       "                   estimators=[('svc',\n",
       "                                Pipeline(steps=[('feature_engineering',\n",
       "                                                 FunctionTransformer(func=<bound method Objective.do_feature_engineering of <pipeline_classes.ObjectiveClassifier object at 0x7062d89f15e0>>,\n",
       "                                                                     kw_args={})),\n",
       "                                                ('imputer',\n",
       "                                                 KNNImputer(n_neighbors=11)),\n",
       "                                                ('num', PowerTransformer()),\n",
       "                                                ('model',\n",
       "                                                 MLPClassifier(alpha=0.00034047667156493814,\n",
       "                                                               hidd...\n",
       "                                                 FunctionTransformer(func=<bound method Objective.do_feature_engineering of <pipeline_classes.ObjectiveClassifier object at 0x7062d89f15e0>>,\n",
       "                                                                     kw_args={})),\n",
       "                                                ('imputer',\n",
       "                                                 KNNImputer(n_neighbors=21,\n",
       "                                                            weights='distance')),\n",
       "                                                ('num',\n",
       "                                                 PowerTransformer(standardize=False)),\n",
       "                                                ('model',\n",
       "                                                 <catboost.core.CatBoostClassifier object at 0x7062d8bf0c80>)]))],\n",
       "                   final_estimator=LogisticRegression())"
      ]
     },
     "execution_count": 23,
     "metadata": {},
     "output_type": "execute_result"
    }
   ],
   "source": [
    "# Создание ансамбля\n",
    "ensemble_model = StackingClassifier(\n",
    "    estimators=[\n",
    "        ('svc', svc_pipe),\n",
    "        ('rf', rf_pipe),\n",
    "        ('cb', cb_pipe)\n",
    "    ],\n",
    "    final_estimator=LogisticRegression(),\n",
    "    cv=5\n",
    ")\n",
    "\n",
    "# Обучение ансамбля\n",
    "ensemble_model.fit(X_train, y_train)"
   ]
  },
  {
   "cell_type": "code",
   "execution_count": 24,
   "id": "472387e5-1954-4588-9dfa-d2da3d48c21b",
   "metadata": {},
   "outputs": [
    {
     "name": "stdout",
     "output_type": "stream",
     "text": [
      "AUROC для стекинговой модели: 0.7824635847331316\n",
      "Accuracy для стекинговой модели: 0.8032036613272311\n"
     ]
    }
   ],
   "source": [
    "# Получаем предсказания лучшей модели\n",
    "proba = ensemble_model.predict_proba(X_test)\n",
    "pred = ensemble_model.predict(X_test)\n",
    "\n",
    "# Считаем метрики\n",
    "auroc = roc_auc_score(y_test, proba, multi_class='ovr', average='macro')\n",
    "accuracy = accuracy_score(y_test, pred)\n",
    "\n",
    "# Выводим метрики на экран\n",
    "print(f\"AUROC для стекинговой модели: {auroc}\")\n",
    "print(f\"Accuracy для стекинговой модели: {accuracy}\")"
   ]
  },
  {
   "cell_type": "code",
   "execution_count": 25,
   "id": "678eb07d-60eb-4b1f-b1f0-3d789cafed2e",
   "metadata": {},
   "outputs": [],
   "source": [
    "from sklearn.metrics import confusion_matrix\n",
    "import seaborn as sns\n",
    "import matplotlib.pyplot as plt"
   ]
  },
  {
   "cell_type": "code",
   "execution_count": 26,
   "id": "b1612861-325a-46c3-9fbc-1ee2fc08b932",
   "metadata": {},
   "outputs": [
    {
     "data": {
      "text/plain": [
       "Text(0.5, 1.0, 'Confusion Matrix. Test dataset\\nAUROC: 0.782; Accuracy: 0.803')"
      ]
     },
     "execution_count": 26,
     "metadata": {},
     "output_type": "execute_result"
    },
    {
     "data": {
      "image/png": "[encoded data removed]",
      "text/plain": [
       "<Figure size 640x480 with 2 Axes>"
      ]
     },
     "metadata": {},
     "output_type": "display_data"
    }
   ],
   "source": [
    "cm_test = confusion_matrix(y_test, pred)\n",
    "sns.heatmap(\n",
    "    np.log1p(cm_test),\n",
    "    annot=cm_test,\n",
    "    fmt='d',\n",
    "    cmap='Oranges'\n",
    ")\n",
    "plt.title((\"Confusion Matrix. Test dataset\\n\"\n",
    "           f\"AUROC: {auroc:.3f}; Accuracy: {accuracy:.3f}\"))"
   ]
  },
  {
   "cell_type": "code",
   "execution_count": 27,
   "id": "f35b0691-de48-4437-aaf6-a626349ac8a8",
   "metadata": {},
   "outputs": [
    {
     "name": "stdout",
     "output_type": "stream",
     "text": [
      "AUROC для стекинговой модели: 0.9104085834886463\n",
      "Accuracy для стекинговой модели: 0.8478593272171254\n"
     ]
    }
   ],
   "source": [
    "# Получаем предсказания лучшей модели\n",
    "probatr = ensemble_model.predict_proba(X_train)\n",
    "predtr = ensemble_model.predict(X_train)\n",
    "\n",
    "# Считаем метрики\n",
    "auroctr = roc_auc_score(y_train, probatr, multi_class='ovr', average='macro')\n",
    "accuracytr = accuracy_score(y_train, predtr)\n",
    "\n",
    "# Выводим метрики на экран\n",
    "print(f\"AUROC для стекинговой модели: {auroctr}\")\n",
    "print(f\"Accuracy для стекинговой модели: {accuracytr}\")"
   ]
  },
  {
   "cell_type": "code",
   "execution_count": 28,
   "id": "567d12c4-47c1-479b-8a19-fc3be6027a0d",
   "metadata": {},
   "outputs": [
    {
     "data": {
      "text/plain": [
       "Text(0.5, 1.0, 'Confusion Matrix. Train dataset\\nAUROC: 0.910; Accuracy: 0.848')"
      ]
     },
     "execution_count": 28,
     "metadata": {},
     "output_type": "execute_result"
    },
    {
     "data": {
      "image/png": "[encoded data removed]",
      "text/plain": [
       "<Figure size 640x480 with 2 Axes>"
      ]
     },
     "metadata": {},
     "output_type": "display_data"
    }
   ],
   "source": [
    "cm_train = confusion_matrix(y_train, predtr)\n",
    "sns.heatmap(\n",
    "    np.log1p(cm_train),\n",
    "    annot=cm_train,\n",
    "    fmt='d',\n",
    "    cmap='Oranges'\n",
    ")\n",
    "plt.title((\"Confusion Matrix. Train dataset\\n\"\n",
    "           f\"AUROC: {auroctr:.3f}; Accuracy: {accuracytr:.3f}\"))"
   ]
  },
  {
   "cell_type": "code",
   "execution_count": null,
   "id": "85ff17b9-46b2-4e1c-8794-ad4c9a9b55e5",
   "metadata": {},
   "outputs": [],
   "source": []
  },
  {
   "cell_type": "markdown",
   "id": "d3731b8c-28aa-4fca-8b2e-bbe640125ff6",
   "metadata": {},
   "source": [
    "## Сохранение лучших моделей в файлы"
   ]
  },
  {
   "cell_type": "code",
   "execution_count": 25,
   "id": "bd44ba1c-a896-411b-b3d1-a7719398c90d",
   "metadata": {},
   "outputs": [
    {
     "name": "stdout",
     "output_type": "stream",
     "text": [
      "Файл saved_models/full_df2.2/svc.pkl успешно создан.\n",
      "Файл saved_models/full_df2.2/random_forest.pkl успешно создан.\n",
      "Файл saved_models/full_df2.2/catboost.pkl успешно создан.\n",
      "Файл saved_models/full_df2.2/ensemble_model.pkl успешно создан.\n"
     ]
    }
   ],
   "source": [
    "# Создаем папку models, если она не существует\n",
    "os.makedirs(f'saved_models/{sub_folder}', exist_ok=True)\n",
    "\n",
    "# Сохраняем модели в папку models\n",
    "joblib.dump(svc_pipe, f'saved_models/{sub_folder}/svc.pkl')\n",
    "joblib.dump(rf_pipe, f'saved_models/{sub_folder}/random_forest.pkl')\n",
    "joblib.dump(cb_pipe, f'saved_models/{sub_folder}/catboost.pkl')\n",
    "joblib.dump(ensemble_model, f'saved_models/{sub_folder}/ensemble_model.pkl')\n",
    "\n",
    "# Проверка, что файлы существуют\n",
    "files = [f'saved_models/{sub_folder}/svc.pkl',\n",
    "         f'saved_models/{sub_folder}/random_forest.pkl',\n",
    "         f'saved_models/{sub_folder}/catboost.pkl',\n",
    "         f'saved_models/{sub_folder}/ensemble_model.pkl']\n",
    "\n",
    "for file in files:\n",
    "    if os.path.exists(file):\n",
    "        print(f\"Файл {file} успешно создан.\")\n",
    "    else:\n",
    "        print(f\"Ошибка: файл {file} не был создан.\")"
   ]
  },
  {
   "cell_type": "code",
   "execution_count": null,
   "id": "ce3b01b0-3a04-4da3-8338-851465e6c1e8",
   "metadata": {},
   "outputs": [],
   "source": []
  }
 ],
 "metadata": {
  "kernelspec": {
   "display_name": "Python 3 (ipykernel)",
   "language": "python",
   "name": "python3"
  },
  "language_info": {
   "codemirror_mode": {
    "name": "ipython",
    "version": 3
   },
   "file_extension": ".py",
   "mimetype": "text/x-python",
   "name": "python",
   "nbconvert_exporter": "python",
   "pygments_lexer": "ipython3",
   "version": "3.12.3"
  }
 },
 "nbformat": 4,
 "nbformat_minor": 5
}
