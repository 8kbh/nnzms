{
 "cells": [
  {
   "cell_type": "markdown",
   "id": "e028ddf1-fe19-40be-8d7b-5f06bd1c4cf8",
   "metadata": {},
   "source": [
    "# импорты"
   ]
  },
  {
   "cell_type": "code",
   "execution_count": 1,
   "id": "e3b3569a-b1e5-465a-8e96-ad42eaa3d8ba",
   "metadata": {},
   "outputs": [],
   "source": [
    "# Импорт модуля для сохранения пайплайна\n",
    "import os\n",
    "import joblib"
   ]
  },
  {
   "cell_type": "code",
   "execution_count": 2,
   "id": "010ed1f9-e4a2-489b-925d-cc49effafde2",
   "metadata": {},
   "outputs": [],
   "source": [
    "# Импортируем классы для создания пайплайна\n",
    "from pipeline_classes import *"
   ]
  },
  {
   "cell_type": "code",
   "execution_count": 3,
   "id": "a03fdd7c-4f1c-4a00-a3fa-79d7c0118967",
   "metadata": {},
   "outputs": [],
   "source": [
    "# Убираем необязательные предупреждения\n",
    "import warnings\n",
    "warnings.filterwarnings('ignore')\n",
    "\n",
    "# Настраиваем полное отображение всех строк таблицы\n",
    "pd.set_option('display.max_rows', 100)\n",
    "pd.set_option('display.max_columns', 100)\n",
    "\n",
    "# Скрываем журнал с триалами\n",
    "optuna.logging.set_verbosity(optuna.logging.WARNING)"
   ]
  },
  {
   "cell_type": "markdown",
   "id": "32017fea-aa8c-4da8-8d88-554c345e03ee",
   "metadata": {
    "tags": []
   },
   "source": [
    "## Загрузка данных"
   ]
  },
  {
   "cell_type": "code",
   "execution_count": 4,
   "id": "0e8acd19-af45-4542-8215-8a9b457b0b41",
   "metadata": {},
   "outputs": [],
   "source": [
    "import os\n",
    "import sys\n",
    "\n",
    "sys.path += [os.path.abspath(\"..\")]\n",
    "import pandas as pd\n",
    "import functions.unifyer as uf"
   ]
  },
  {
   "cell_type": "code",
   "execution_count": 5,
   "id": "487911dc-a36e-4f01-85d1-f5d988508c1b",
   "metadata": {},
   "outputs": [
    {
     "name": "stdout",
     "output_type": "stream",
     "text": [
      "(1130, 43) (2200, 43)\n"
     ]
    }
   ],
   "source": [
    "f1 = pd.read_csv(\"../data/existing_datasets/final_df.csv\")\n",
    "f2 = pd.read_csv(\"../final_p2.2.csv\")\n",
    "f1 = f1[f2.columns]\n",
    "print(f1.shape, f2.shape)"
   ]
  },
  {
   "cell_type": "code",
   "execution_count": 6,
   "id": "b4217e6a-ae5e-429c-881e-6b61c58908e4",
   "metadata": {},
   "outputs": [
    {
     "name": "stdout",
     "output_type": "stream",
     "text": [
      "(2174, 43)\n"
     ]
    }
   ],
   "source": [
    "# s2 = pd.read_csv(\"../start_p2.csv\")\n",
    "# condition = (s2[\"formula\"].apply(uf.is_valid_formula) * \\\n",
    "#              (f2[[\"X\", \"IR\", \"pot2\"]].isna().sum(axis=1) != 3) * \\\n",
    "#               s2[[\"formula\", \"activity\"]].notna().sum(axis=1) == 2 * \\\n",
    "#              )\n",
    "# f2 = f2[condition]\n",
    "f2 = f2[((f2[\"activity\"] != \"multi-activity\") * (~f2[\"activity\"].isna()))]\n",
    "print(f2.shape)"
   ]
  },
  {
   "cell_type": "code",
   "execution_count": 7,
   "id": "7a5b9061-da21-47e1-927c-998f4dbc0580",
   "metadata": {},
   "outputs": [
    {
     "data": {
      "text/plain": [
       "(3304, 42)"
      ]
     },
     "execution_count": 7,
     "metadata": {},
     "output_type": "execute_result"
    }
   ],
   "source": [
    "df = pd.concat([f1.fillna(0), f2.fillna(0)], ignore_index=True)\n",
    "df = df.drop(columns=[\"id\"])\n",
    "df.shape"
   ]
  },
  {
   "cell_type": "code",
   "execution_count": 8,
   "id": "c7ebad04-f3e8-46d4-828f-7341981f45dc",
   "metadata": {},
   "outputs": [
    {
     "name": "stdout",
     "output_type": "stream",
     "text": [
      "Количество коррелирующих признаков: 23\n",
      "['MolWt', 'VSA_EState8', 'dstr', 'MinPartialCharge', 'MinAbsEStateIndex', 'PEOE_VSA8', 'Kappa2', 'pot2', 'MaxPartialCharge.1', 'EState_VSA4', 'MinEStateIndex', 'temp', 'Cconst', 'IR', 'lgCcat', 'X', 'Ccat', 'Complexity1', 'TPSA1', 'ph', 'MaxEStateIndex.1', 'MaxEStateIndex.2', 'MinPartialCharge.1']\n"
     ]
    }
   ],
   "source": [
    "# Загружаем список входных признаков, коррелирующих с целевым\n",
    "with open(\"corr_with_activity2.2.txt\", \"r\") as file_activity:\n",
    "    corr_with_activity = file_activity.read().splitlines()\n",
    "\n",
    "print(f'Количество коррелирующих признаков: {len(corr_with_activity)}')\n",
    "print(corr_with_activity)"
   ]
  },
  {
   "cell_type": "markdown",
   "id": "95a738ef-67b6-4186-813e-e8718119cd6b",
   "metadata": {
    "tags": []
   },
   "source": [
    "## Предобработка данных"
   ]
  },
  {
   "cell_type": "code",
   "execution_count": 9,
   "id": "20819792-acd0-4d99-8650-0b4851384f79",
   "metadata": {},
   "outputs": [
    {
     "name": "stdout",
     "output_type": "stream",
     "text": [
      "Размер первоначального датафрейма: (3304, 42)\n"
     ]
    }
   ],
   "source": [
    "print(f'Размер первоначального датафрейма: {df.shape}')"
   ]
  },
  {
   "cell_type": "code",
   "execution_count": 10,
   "id": "06118bfc-ff06-41e9-b0dd-7de553f2b344",
   "metadata": {},
   "outputs": [
    {
     "name": "stdout",
     "output_type": "stream",
     "text": [
      "{'peroxidase': 1, 'oxidase': 2, 'catalase': 3, 'superoxide dismutase': 4, 'phosphatase': 5, 'esterase': 6, 'reductase': 7, 'laccase': 8, 'glycosidase': 9, 'uricase': 10, 'dnase': 11, 'rnase': 12, 'hydrolase': 13, 'phosphotriesterase': 14, 'epoxydase': 15}\n"
     ]
    }
   ],
   "source": [
    "df['activity'] = df['activity'].replace({1: \"peroxidase\", 2: \"oxidase\", 3: \"catalase\", 4: \"laccase\"})\n",
    "category2num = {cat: i+1 for i, cat in enumerate(df['activity'].value_counts().index.tolist())}\n",
    "print(category2num)\n",
    "df['activity'] = df['activity'].replace(category2num)"
   ]
  },
  {
   "cell_type": "code",
   "execution_count": 11,
   "id": "2200e539-d229-4dbb-a181-ae9346484fc6",
   "metadata": {
    "tags": []
   },
   "outputs": [
    {
     "name": "stdout",
     "output_type": "stream",
     "text": [
      "Размер датафрейма после удаления дубликатов: (3151, 42)\n"
     ]
    }
   ],
   "source": [
    "# Удаляем дубликаты\n",
    "df = df.drop_duplicates()\n",
    "print(f'Размер датафрейма после удаления дубликатов: {df.shape}')"
   ]
  },
  {
   "cell_type": "code",
   "execution_count": 12,
   "id": "f20db028-053b-4945-9f51-f6075e634c47",
   "metadata": {},
   "outputs": [
    {
     "data": {
      "text/plain": [
       "activity\n",
       "1     2628\n",
       "2      313\n",
       "3      132\n",
       "4       40\n",
       "5       11\n",
       "6        9\n",
       "8        4\n",
       "9        4\n",
       "7        3\n",
       "10       2\n",
       "11       1\n",
       "12       1\n",
       "13       1\n",
       "14       1\n",
       "15       1\n",
       "Name: count, dtype: int64"
      ]
     },
     "execution_count": 12,
     "metadata": {},
     "output_type": "execute_result"
    }
   ],
   "source": [
    "df['activity'].value_counts()"
   ]
  },
  {
   "cell_type": "code",
   "execution_count": 13,
   "id": "51a7dbcd-2b98-4944-8281-398eaaeb0a5b",
   "metadata": {},
   "outputs": [
    {
     "name": "stdout",
     "output_type": "stream",
     "text": [
      "Размер датафрейма после выбора элементов с определёнными activity: (3133, 42)\n"
     ]
    }
   ],
   "source": [
    "# Сохранение примеров только с такими активностями, которые представлены в датасете больше 10 раз\n",
    "interesting_activities = [1, 2, 3, 4, 5, 6]\n",
    "df = df[df['activity'].astype(int).isin(interesting_activities)]\n",
    "# df['activity'] = df['activity'].replace({key: i+1 for i, key in enumerate(interesting_activities)})\n",
    "print(f'Размер датафрейма после выбора элементов с определёнными activity: {df.shape}')"
   ]
  },
  {
   "cell_type": "code",
   "execution_count": 14,
   "id": "c21fb98f-420d-4e4e-a5d8-eb6422ae2c64",
   "metadata": {},
   "outputs": [
    {
     "name": "stdout",
     "output_type": "stream",
     "text": [
      "Vmax    float64\n",
      "Km      float64\n",
      "ph      float64\n",
      "dtype: object\n"
     ]
    }
   ],
   "source": [
    "# Преобразование типов и замена \"no\" на NaN\n",
    "df['Vmax'] = pd.to_numeric(df['Vmax'].replace(\"no\", np.nan), errors='coerce')\n",
    "df['Km'] = pd.to_numeric(df['Km'].replace(\"no\", np.nan), errors='coerce')\n",
    "\n",
    "invalid_values = list(df['ph'][~df['ph'].apply(lambda x: pd.to_numeric(x, errors='coerce')).notna()])\n",
    "df['ph'] = pd.to_numeric(df['ph'].where(lambda ph: ~ph.isin(invalid_values)), errors='coerce')\n",
    "\n",
    "# Проверяем что сделали корректно\n",
    "print(df[['Vmax', 'Km', 'ph']].dtypes)"
   ]
  },
  {
   "cell_type": "code",
   "execution_count": 15,
   "id": "26fcdd35-66f4-47a4-b9e2-dfb50c9c6c53",
   "metadata": {},
   "outputs": [
    {
     "name": "stdout",
     "output_type": "stream",
     "text": [
      "Размеры датафрейма: (3133, 24)\n",
      "Количество дубликатов после удаления признаков: 400\n"
     ]
    }
   ],
   "source": [
    "# Оставляем в датафрейме только те признаки, которые коррелируют с целевым\n",
    "df = df[corr_with_activity + ['activity']]\n",
    "print(f'Размеры датафрейма: {df.shape}')\n",
    "print(f'Количество дубликатов после удаления признаков: {df.duplicated().sum()}')\n",
    "df = df.drop_duplicates()"
   ]
  },
  {
   "cell_type": "code",
   "execution_count": 16,
   "id": "57081f94-978c-4770-aab0-df9d30601cfe",
   "metadata": {},
   "outputs": [
    {
     "data": {
      "text/plain": [
       "activity\n",
       "1    2301\n",
       "2     266\n",
       "3     116\n",
       "4      31\n",
       "5      10\n",
       "6       9\n",
       "Name: count, dtype: int64"
      ]
     },
     "execution_count": 16,
     "metadata": {},
     "output_type": "execute_result"
    }
   ],
   "source": [
    "df.activity.value_counts()"
   ]
  },
  {
   "cell_type": "code",
   "execution_count": 34,
   "id": "4b52246b-db64-46c0-b3c6-7c16b7f09edc",
   "metadata": {},
   "outputs": [
    {
     "data": {
      "text/plain": [
       "24"
      ]
     },
     "execution_count": 34,
     "metadata": {},
     "output_type": "execute_result"
    }
   ],
   "source": [
    "len(df.columns)"
   ]
  },
  {
   "cell_type": "markdown",
   "id": "c3d1b297-de66-44fd-bb91-77e10f0e7c01",
   "metadata": {},
   "source": [
    "# Generation"
   ]
  },
  {
   "cell_type": "code",
   "execution_count": 23,
   "id": "cc58025d-ff92-4f0e-b80b-66053314ddc6",
   "metadata": {},
   "outputs": [],
   "source": [
    "df = df.dropna()"
   ]
  },
  {
   "cell_type": "code",
   "execution_count": 68,
   "id": "446c582a-19fc-4ac5-98fe-a7328d357b9d",
   "metadata": {},
   "outputs": [],
   "source": [
    "from sklearn.preprocessing import MinMaxScaler"
   ]
  },
  {
   "cell_type": "code",
   "execution_count": 74,
   "id": "0a7f99b7-12cd-4d7b-a81c-5f79da9f323b",
   "metadata": {},
   "outputs": [],
   "source": [
    "skaler = MinMaxScaler()\n",
    "mmdf = skaler.fit_transform(df.drop(columns=[\"activity\"]))"
   ]
  },
  {
   "cell_type": "code",
   "execution_count": 75,
   "id": "2f101aca-e72b-4669-aa83-1bb6c7b6cba7",
   "metadata": {},
   "outputs": [],
   "source": [
    "import torch\n",
    "import torch.nn as nn\n",
    "import torch.nn.functional as F\n",
    "from torch.utils.data import DataLoader, TensorDataset"
   ]
  },
  {
   "cell_type": "code",
   "execution_count": 103,
   "id": "2a6131d3-2fab-4d2f-9416-e3aea6ef2f09",
   "metadata": {},
   "outputs": [
    {
     "name": "stdout",
     "output_type": "stream",
     "text": [
      "Epoch 1, Loss: 2.7163\n",
      "Epoch 2, Loss: 0.7234\n",
      "Epoch 3, Loss: 0.5146\n",
      "Epoch 4, Loss: 0.4663\n",
      "Epoch 5, Loss: 0.4486\n",
      "Epoch 6, Loss: 0.4372\n",
      "Epoch 7, Loss: 0.4324\n",
      "Epoch 8, Loss: 0.4295\n",
      "Epoch 9, Loss: 0.4282\n",
      "Epoch 10, Loss: 0.4261\n",
      "Epoch 11, Loss: 0.4244\n",
      "Epoch 12, Loss: 0.4245\n",
      "Epoch 13, Loss: 0.4235\n",
      "Epoch 14, Loss: 0.4229\n",
      "Epoch 15, Loss: 0.4227\n",
      "Epoch 16, Loss: 0.4222\n",
      "Epoch 17, Loss: 0.4228\n",
      "Epoch 18, Loss: 0.4225\n",
      "Epoch 19, Loss: 0.4224\n"
     ]
    }
   ],
   "source": [
    "class VAE(nn.Module):\n",
    "    def __init__(self, input_dim, hidden_dim=128, latent_dim=10):\n",
    "        super(VAE, self).__init__()\n",
    "        self.fc1 = nn.Linear(input_dim, hidden_dim)\n",
    "        self.fc_mu = nn.Linear(hidden_dim, latent_dim)\n",
    "        self.fc_logvar = nn.Linear(hidden_dim, latent_dim)\n",
    "\n",
    "        self.fc2 = nn.Linear(latent_dim, hidden_dim)\n",
    "        self.fc3 = nn.Linear(hidden_dim, input_dim)\n",
    "\n",
    "    def encode(self, x):\n",
    "        h = F.relu(self.fc1(x))\n",
    "        return self.fc_mu(h), self.fc_logvar(h)\n",
    "\n",
    "    def reparameterize(self, mu, logvar):\n",
    "        logvar = torch.clamp(logvar, min=-10, max=10)\n",
    "        std = torch.exp(0.5 * logvar)\n",
    "        eps = torch.randn_like(std)\n",
    "        return mu + eps * std\n",
    "\n",
    "    def decode(self, z):\n",
    "        h = F.relu(self.fc2(z))\n",
    "        return self.fc3(h)  # Linear output for float values\n",
    "\n",
    "    def forward(self, x):\n",
    "        mu, logvar = self.encode(x)\n",
    "        z = self.reparameterize(mu, logvar)\n",
    "        return self.decode(z), mu, logvar\n",
    "\n",
    "def loss_function(recon_x, x, mu, logvar):\n",
    "    MSE = F.mse_loss(recon_x, x, reduction='sum')\n",
    "    KLD = -0.5 * torch.sum(1 + logvar - mu.pow(2) - logvar.exp())\n",
    "    # print(MSE, KLD)\n",
    "    return (MSE + KLD)\n",
    "\n",
    "tensor_data = torch.tensor(mmdf, dtype=torch.float32)\n",
    "dataloader = DataLoader(TensorDataset(tensor_data), batch_size=16, shuffle=True)\n",
    "\n",
    "device = torch.device('cuda' if torch.cuda.is_available() else 'cpu')\n",
    "input_dim = len(df.columns) - 1\n",
    "model = VAE(input_dim=input_dim, hidden_dim=16, latent_dim=8).to(device)\n",
    "optimizer = torch.optim.Adam(model.parameters(), lr=1e-3)\n",
    "\n",
    "for epoch in range(1, 20):\n",
    "    model.train()\n",
    "    total_loss = 0\n",
    "    for batch in dataloader:\n",
    "        # print(batch)\n",
    "        batch = batch[0].to(device)\n",
    "        optimizer.zero_grad()\n",
    "        recon_batch, mu, logvar = model(batch)\n",
    "        loss = loss_function(recon_batch, batch, mu, logvar)\n",
    "        loss.backward()\n",
    "        total_loss += loss.item()\n",
    "        optimizer.step()\n",
    "    print(f\"Epoch {epoch}, Loss: {total_loss / len(df):.4f}\")\n"
   ]
  },
  {
   "cell_type": "code",
   "execution_count": 105,
   "id": "d18f5b31-dcc0-43d8-b8b9-1b490b6dc828",
   "metadata": {},
   "outputs": [],
   "source": [
    "model.eval()\n",
    "all_hidden = []\n",
    "\n",
    "with torch.no_grad():\n",
    "    for data in mmdf:\n",
    "        x = torch.FloatTensor(data).to(device)\n",
    "        mu, _ = model.encode(x)\n",
    "        all_hidden.append(mu.tolist())\n",
    "all_hidden = np.array(all_hidden)"
   ]
  },
  {
   "cell_type": "code",
   "execution_count": 88,
   "id": "9d384895-2954-41fc-b5ae-2e815726f913",
   "metadata": {},
   "outputs": [],
   "source": [
    "import matplotlib.pyplot as plt\n",
    "import numpy as np"
   ]
  },
  {
   "cell_type": "code",
   "execution_count": 106,
   "id": "6f74cb50-b0ed-4728-842a-8053db367ab2",
   "metadata": {},
   "outputs": [
    {
     "data": {
      "text/plain": [
       "<matplotlib.collections.PathCollection at 0x74b0caf8c8f0>"
      ]
     },
     "execution_count": 106,
     "metadata": {},
     "output_type": "execute_result"
    },
    {
     "data": {
      "image/png": "[encoded data removed]",
      "text/plain": [
       "<Figure size 640x480 with 1 Axes>"
      ]
     },
     "metadata": {},
     "output_type": "display_data"
    }
   ],
   "source": [
    "plt.scatter(all_hidden[:, 0], all_hidden[:, 1], c=df[\"activity\"])"
   ]
  },
  {
   "cell_type": "code",
   "execution_count": 146,
   "id": "08d6af72-0f41-48ef-8b59-387c16444805",
   "metadata": {},
   "outputs": [],
   "source": [
    "model.eval()\n",
    "with torch.no_grad():\n",
    "    z = torch.randn(1000000, model.fc_mu.out_features).to(device)  # 1 sample from latent space\n",
    "    sample = model.decode(z).cpu().numpy()  # Shape: (1, input_dim)\n",
    "new_data = skaler.inverse_transform(sample)\n",
    "new_df = pd.DataFrame(new_data, columns=df.drop(columns=[\"activity\"]).columns)\n",
    "new_df[\"dstr\"] = new_df[\"dstr\"].apply(round)"
   ]
  },
  {
   "cell_type": "code",
   "execution_count": 147,
   "id": "0835dac5-b3a2-4bd8-9406-e37351e5ba39",
   "metadata": {},
   "outputs": [],
   "source": [
    "classifyer = joblib.load(\"saved_models/full_df2.2/ensemble_model.pkl\")"
   ]
  },
  {
   "cell_type": "code",
   "execution_count": 148,
   "id": "91233063-5f7d-495e-a67e-e8a08c06763e",
   "metadata": {},
   "outputs": [
    {
     "name": "stdout",
     "output_type": "stream",
     "text": [
      "CPU times: user 47.1 s, sys: 2.05 s, total: 49.2 s\n",
      "Wall time: 43.4 s\n"
     ]
    }
   ],
   "source": [
    "%%time\n",
    "predictions = classifyer.predict(new_df)"
   ]
  },
  {
   "cell_type": "code",
   "execution_count": 149,
   "id": "8963a3cb-977a-4585-95a1-1b912daf7cac",
   "metadata": {},
   "outputs": [
    {
     "data": {
      "text/plain": [
       "array([1])"
      ]
     },
     "execution_count": 149,
     "metadata": {},
     "output_type": "execute_result"
    }
   ],
   "source": [
    "np.unique(predictions)"
   ]
  },
  {
   "cell_type": "code",
   "execution_count": 145,
   "id": "e00f5304-9b3c-479b-996b-ad3574669134",
   "metadata": {},
   "outputs": [
    {
     "data": {
      "text/html": [
       "<div>\n",
       "<style scoped>\n",
       "    .dataframe tbody tr th:only-of-type {\n",
       "        vertical-align: middle;\n",
       "    }\n",
       "\n",
       "    .dataframe tbody tr th {\n",
       "        vertical-align: top;\n",
       "    }\n",
       "\n",
       "    .dataframe thead th {\n",
       "        text-align: right;\n",
       "    }\n",
       "</style>\n",
       "<table border=\"1\" class=\"dataframe\">\n",
       "  <thead>\n",
       "    <tr style=\"text-align: right;\">\n",
       "      <th></th>\n",
       "      <th>MolWt</th>\n",
       "      <th>VSA_EState8</th>\n",
       "      <th>dstr</th>\n",
       "      <th>MinPartialCharge</th>\n",
       "      <th>MinAbsEStateIndex</th>\n",
       "      <th>PEOE_VSA8</th>\n",
       "      <th>Kappa2</th>\n",
       "      <th>pot2</th>\n",
       "      <th>MaxPartialCharge.1</th>\n",
       "      <th>EState_VSA4</th>\n",
       "      <th>MinEStateIndex</th>\n",
       "      <th>temp</th>\n",
       "      <th>Cconst</th>\n",
       "      <th>IR</th>\n",
       "      <th>lgCcat</th>\n",
       "      <th>X</th>\n",
       "      <th>Ccat</th>\n",
       "      <th>Complexity1</th>\n",
       "      <th>TPSA1</th>\n",
       "      <th>ph</th>\n",
       "      <th>MaxEStateIndex.1</th>\n",
       "      <th>MaxEStateIndex.2</th>\n",
       "      <th>MinPartialCharge.1</th>\n",
       "    </tr>\n",
       "  </thead>\n",
       "  <tbody>\n",
       "    <tr>\n",
       "      <th>0</th>\n",
       "      <td>143.229507</td>\n",
       "      <td>1.850823</td>\n",
       "      <td>2</td>\n",
       "      <td>-0.273565</td>\n",
       "      <td>0.135196</td>\n",
       "      <td>3.345395</td>\n",
       "      <td>4.626650</td>\n",
       "      <td>0.070867</td>\n",
       "      <td>-0.064271</td>\n",
       "      <td>4.042617</td>\n",
       "      <td>-0.557184</td>\n",
       "      <td>39.076595</td>\n",
       "      <td>73.722603</td>\n",
       "      <td>1.068480</td>\n",
       "      <td>-0.984796</td>\n",
       "      <td>2.462880</td>\n",
       "      <td>0.798765</td>\n",
       "      <td>145.411438</td>\n",
       "      <td>59.308880</td>\n",
       "      <td>4.577349</td>\n",
       "      <td>6.029860</td>\n",
       "      <td>5.336377</td>\n",
       "      <td>-0.308358</td>\n",
       "    </tr>\n",
       "    <tr>\n",
       "      <th>1</th>\n",
       "      <td>148.459641</td>\n",
       "      <td>1.479114</td>\n",
       "      <td>2</td>\n",
       "      <td>-0.263079</td>\n",
       "      <td>0.147850</td>\n",
       "      <td>3.346721</td>\n",
       "      <td>4.523658</td>\n",
       "      <td>0.098146</td>\n",
       "      <td>-0.068796</td>\n",
       "      <td>4.045746</td>\n",
       "      <td>-0.490066</td>\n",
       "      <td>40.431793</td>\n",
       "      <td>23.664608</td>\n",
       "      <td>1.091154</td>\n",
       "      <td>-0.828671</td>\n",
       "      <td>2.439021</td>\n",
       "      <td>1.702354</td>\n",
       "      <td>135.582397</td>\n",
       "      <td>48.011753</td>\n",
       "      <td>4.549514</td>\n",
       "      <td>5.809765</td>\n",
       "      <td>5.054164</td>\n",
       "      <td>-0.318930</td>\n",
       "    </tr>\n",
       "    <tr>\n",
       "      <th>2</th>\n",
       "      <td>140.853500</td>\n",
       "      <td>1.666520</td>\n",
       "      <td>2</td>\n",
       "      <td>-0.229304</td>\n",
       "      <td>0.146040</td>\n",
       "      <td>2.833387</td>\n",
       "      <td>4.908017</td>\n",
       "      <td>0.065974</td>\n",
       "      <td>-0.044592</td>\n",
       "      <td>3.755740</td>\n",
       "      <td>-0.457912</td>\n",
       "      <td>37.639339</td>\n",
       "      <td>76.175705</td>\n",
       "      <td>1.096269</td>\n",
       "      <td>-0.894793</td>\n",
       "      <td>2.468607</td>\n",
       "      <td>1.821476</td>\n",
       "      <td>136.953156</td>\n",
       "      <td>50.880901</td>\n",
       "      <td>4.631718</td>\n",
       "      <td>6.023633</td>\n",
       "      <td>5.323037</td>\n",
       "      <td>-0.310934</td>\n",
       "    </tr>\n",
       "    <tr>\n",
       "      <th>3</th>\n",
       "      <td>138.624893</td>\n",
       "      <td>1.545129</td>\n",
       "      <td>2</td>\n",
       "      <td>-0.252226</td>\n",
       "      <td>0.140510</td>\n",
       "      <td>3.018403</td>\n",
       "      <td>4.650820</td>\n",
       "      <td>0.077034</td>\n",
       "      <td>-0.054991</td>\n",
       "      <td>4.007452</td>\n",
       "      <td>-0.449877</td>\n",
       "      <td>37.966736</td>\n",
       "      <td>85.571335</td>\n",
       "      <td>1.081384</td>\n",
       "      <td>-0.898425</td>\n",
       "      <td>2.487631</td>\n",
       "      <td>0.897681</td>\n",
       "      <td>137.864807</td>\n",
       "      <td>52.184063</td>\n",
       "      <td>4.584907</td>\n",
       "      <td>5.890651</td>\n",
       "      <td>5.101793</td>\n",
       "      <td>-0.318922</td>\n",
       "    </tr>\n",
       "    <tr>\n",
       "      <th>4</th>\n",
       "      <td>148.209213</td>\n",
       "      <td>1.788005</td>\n",
       "      <td>2</td>\n",
       "      <td>-0.248433</td>\n",
       "      <td>0.137112</td>\n",
       "      <td>4.020287</td>\n",
       "      <td>4.299437</td>\n",
       "      <td>0.072654</td>\n",
       "      <td>-0.063017</td>\n",
       "      <td>3.620327</td>\n",
       "      <td>-0.454216</td>\n",
       "      <td>43.631748</td>\n",
       "      <td>63.082279</td>\n",
       "      <td>1.091161</td>\n",
       "      <td>-0.947455</td>\n",
       "      <td>2.471439</td>\n",
       "      <td>0.828327</td>\n",
       "      <td>150.042801</td>\n",
       "      <td>61.001965</td>\n",
       "      <td>4.517718</td>\n",
       "      <td>6.084731</td>\n",
       "      <td>5.349496</td>\n",
       "      <td>-0.310715</td>\n",
       "    </tr>\n",
       "    <tr>\n",
       "      <th>...</th>\n",
       "      <td>...</td>\n",
       "      <td>...</td>\n",
       "      <td>...</td>\n",
       "      <td>...</td>\n",
       "      <td>...</td>\n",
       "      <td>...</td>\n",
       "      <td>...</td>\n",
       "      <td>...</td>\n",
       "      <td>...</td>\n",
       "      <td>...</td>\n",
       "      <td>...</td>\n",
       "      <td>...</td>\n",
       "      <td>...</td>\n",
       "      <td>...</td>\n",
       "      <td>...</td>\n",
       "      <td>...</td>\n",
       "      <td>...</td>\n",
       "      <td>...</td>\n",
       "      <td>...</td>\n",
       "      <td>...</td>\n",
       "      <td>...</td>\n",
       "      <td>...</td>\n",
       "      <td>...</td>\n",
       "    </tr>\n",
       "    <tr>\n",
       "      <th>99995</th>\n",
       "      <td>140.351501</td>\n",
       "      <td>1.586587</td>\n",
       "      <td>2</td>\n",
       "      <td>-0.246559</td>\n",
       "      <td>0.145130</td>\n",
       "      <td>3.975249</td>\n",
       "      <td>4.435950</td>\n",
       "      <td>0.083209</td>\n",
       "      <td>-0.066963</td>\n",
       "      <td>3.530325</td>\n",
       "      <td>-0.489844</td>\n",
       "      <td>43.544758</td>\n",
       "      <td>95.028130</td>\n",
       "      <td>1.107205</td>\n",
       "      <td>-0.760850</td>\n",
       "      <td>2.494098</td>\n",
       "      <td>1.504001</td>\n",
       "      <td>161.693420</td>\n",
       "      <td>63.087109</td>\n",
       "      <td>4.591080</td>\n",
       "      <td>6.128563</td>\n",
       "      <td>5.096629</td>\n",
       "      <td>-0.288044</td>\n",
       "    </tr>\n",
       "    <tr>\n",
       "      <th>99996</th>\n",
       "      <td>134.143402</td>\n",
       "      <td>1.533725</td>\n",
       "      <td>2</td>\n",
       "      <td>-0.247433</td>\n",
       "      <td>0.141742</td>\n",
       "      <td>3.483896</td>\n",
       "      <td>5.123940</td>\n",
       "      <td>0.086164</td>\n",
       "      <td>-0.052824</td>\n",
       "      <td>3.975261</td>\n",
       "      <td>-0.359303</td>\n",
       "      <td>37.344879</td>\n",
       "      <td>113.919823</td>\n",
       "      <td>1.094151</td>\n",
       "      <td>-0.894394</td>\n",
       "      <td>2.523197</td>\n",
       "      <td>0.882360</td>\n",
       "      <td>133.376770</td>\n",
       "      <td>51.712013</td>\n",
       "      <td>4.598268</td>\n",
       "      <td>5.864041</td>\n",
       "      <td>5.083134</td>\n",
       "      <td>-0.328757</td>\n",
       "    </tr>\n",
       "    <tr>\n",
       "      <th>99997</th>\n",
       "      <td>129.180435</td>\n",
       "      <td>1.469642</td>\n",
       "      <td>2</td>\n",
       "      <td>-0.254896</td>\n",
       "      <td>0.149535</td>\n",
       "      <td>3.596124</td>\n",
       "      <td>5.245064</td>\n",
       "      <td>0.082035</td>\n",
       "      <td>-0.058941</td>\n",
       "      <td>3.534778</td>\n",
       "      <td>-0.414652</td>\n",
       "      <td>38.130657</td>\n",
       "      <td>100.084991</td>\n",
       "      <td>1.110288</td>\n",
       "      <td>-0.844309</td>\n",
       "      <td>2.502900</td>\n",
       "      <td>2.441761</td>\n",
       "      <td>149.666855</td>\n",
       "      <td>54.309086</td>\n",
       "      <td>4.598780</td>\n",
       "      <td>6.061716</td>\n",
       "      <td>5.192487</td>\n",
       "      <td>-0.313622</td>\n",
       "    </tr>\n",
       "    <tr>\n",
       "      <th>99998</th>\n",
       "      <td>170.703079</td>\n",
       "      <td>1.769243</td>\n",
       "      <td>2</td>\n",
       "      <td>-0.332853</td>\n",
       "      <td>0.137710</td>\n",
       "      <td>3.752011</td>\n",
       "      <td>6.758663</td>\n",
       "      <td>0.140430</td>\n",
       "      <td>-0.088426</td>\n",
       "      <td>5.320483</td>\n",
       "      <td>-0.577515</td>\n",
       "      <td>40.770340</td>\n",
       "      <td>107.086525</td>\n",
       "      <td>1.035388</td>\n",
       "      <td>-0.861558</td>\n",
       "      <td>2.460605</td>\n",
       "      <td>1.023319</td>\n",
       "      <td>164.743973</td>\n",
       "      <td>41.211407</td>\n",
       "      <td>4.582903</td>\n",
       "      <td>5.724521</td>\n",
       "      <td>4.709496</td>\n",
       "      <td>-0.306760</td>\n",
       "    </tr>\n",
       "    <tr>\n",
       "      <th>99999</th>\n",
       "      <td>137.105865</td>\n",
       "      <td>1.789642</td>\n",
       "      <td>2</td>\n",
       "      <td>-0.263113</td>\n",
       "      <td>0.137891</td>\n",
       "      <td>4.565085</td>\n",
       "      <td>6.265732</td>\n",
       "      <td>0.093893</td>\n",
       "      <td>-0.084664</td>\n",
       "      <td>4.054245</td>\n",
       "      <td>-0.409118</td>\n",
       "      <td>41.813271</td>\n",
       "      <td>136.248093</td>\n",
       "      <td>1.090971</td>\n",
       "      <td>-0.988303</td>\n",
       "      <td>2.503551</td>\n",
       "      <td>1.760431</td>\n",
       "      <td>189.180313</td>\n",
       "      <td>61.820152</td>\n",
       "      <td>4.499580</td>\n",
       "      <td>6.087365</td>\n",
       "      <td>5.039488</td>\n",
       "      <td>-0.264353</td>\n",
       "    </tr>\n",
       "  </tbody>\n",
       "</table>\n",
       "<p>100000 rows × 23 columns</p>\n",
       "</div>"
      ],
      "text/plain": [
       "            MolWt  VSA_EState8  dstr  MinPartialCharge  MinAbsEStateIndex  \\\n",
       "0      143.229507     1.850823     2         -0.273565           0.135196   \n",
       "1      148.459641     1.479114     2         -0.263079           0.147850   \n",
       "2      140.853500     1.666520     2         -0.229304           0.146040   \n",
       "3      138.624893     1.545129     2         -0.252226           0.140510   \n",
       "4      148.209213     1.788005     2         -0.248433           0.137112   \n",
       "...           ...          ...   ...               ...                ...   \n",
       "99995  140.351501     1.586587     2         -0.246559           0.145130   \n",
       "99996  134.143402     1.533725     2         -0.247433           0.141742   \n",
       "99997  129.180435     1.469642     2         -0.254896           0.149535   \n",
       "99998  170.703079     1.769243     2         -0.332853           0.137710   \n",
       "99999  137.105865     1.789642     2         -0.263113           0.137891   \n",
       "\n",
       "       PEOE_VSA8    Kappa2      pot2  MaxPartialCharge.1  EState_VSA4  \\\n",
       "0       3.345395  4.626650  0.070867           -0.064271     4.042617   \n",
       "1       3.346721  4.523658  0.098146           -0.068796     4.045746   \n",
       "2       2.833387  4.908017  0.065974           -0.044592     3.755740   \n",
       "3       3.018403  4.650820  0.077034           -0.054991     4.007452   \n",
       "4       4.020287  4.299437  0.072654           -0.063017     3.620327   \n",
       "...          ...       ...       ...                 ...          ...   \n",
       "99995   3.975249  4.435950  0.083209           -0.066963     3.530325   \n",
       "99996   3.483896  5.123940  0.086164           -0.052824     3.975261   \n",
       "99997   3.596124  5.245064  0.082035           -0.058941     3.534778   \n",
       "99998   3.752011  6.758663  0.140430           -0.088426     5.320483   \n",
       "99999   4.565085  6.265732  0.093893           -0.084664     4.054245   \n",
       "\n",
       "       MinEStateIndex       temp      Cconst        IR    lgCcat         X  \\\n",
       "0           -0.557184  39.076595   73.722603  1.068480 -0.984796  2.462880   \n",
       "1           -0.490066  40.431793   23.664608  1.091154 -0.828671  2.439021   \n",
       "2           -0.457912  37.639339   76.175705  1.096269 -0.894793  2.468607   \n",
       "3           -0.449877  37.966736   85.571335  1.081384 -0.898425  2.487631   \n",
       "4           -0.454216  43.631748   63.082279  1.091161 -0.947455  2.471439   \n",
       "...               ...        ...         ...       ...       ...       ...   \n",
       "99995       -0.489844  43.544758   95.028130  1.107205 -0.760850  2.494098   \n",
       "99996       -0.359303  37.344879  113.919823  1.094151 -0.894394  2.523197   \n",
       "99997       -0.414652  38.130657  100.084991  1.110288 -0.844309  2.502900   \n",
       "99998       -0.577515  40.770340  107.086525  1.035388 -0.861558  2.460605   \n",
       "99999       -0.409118  41.813271  136.248093  1.090971 -0.988303  2.503551   \n",
       "\n",
       "           Ccat  Complexity1      TPSA1        ph  MaxEStateIndex.1  \\\n",
       "0      0.798765   145.411438  59.308880  4.577349          6.029860   \n",
       "1      1.702354   135.582397  48.011753  4.549514          5.809765   \n",
       "2      1.821476   136.953156  50.880901  4.631718          6.023633   \n",
       "3      0.897681   137.864807  52.184063  4.584907          5.890651   \n",
       "4      0.828327   150.042801  61.001965  4.517718          6.084731   \n",
       "...         ...          ...        ...       ...               ...   \n",
       "99995  1.504001   161.693420  63.087109  4.591080          6.128563   \n",
       "99996  0.882360   133.376770  51.712013  4.598268          5.864041   \n",
       "99997  2.441761   149.666855  54.309086  4.598780          6.061716   \n",
       "99998  1.023319   164.743973  41.211407  4.582903          5.724521   \n",
       "99999  1.760431   189.180313  61.820152  4.499580          6.087365   \n",
       "\n",
       "       MaxEStateIndex.2  MinPartialCharge.1  \n",
       "0              5.336377           -0.308358  \n",
       "1              5.054164           -0.318930  \n",
       "2              5.323037           -0.310934  \n",
       "3              5.101793           -0.318922  \n",
       "4              5.349496           -0.310715  \n",
       "...                 ...                 ...  \n",
       "99995          5.096629           -0.288044  \n",
       "99996          5.083134           -0.328757  \n",
       "99997          5.192487           -0.313622  \n",
       "99998          4.709496           -0.306760  \n",
       "99999          5.039488           -0.264353  \n",
       "\n",
       "[100000 rows x 23 columns]"
      ]
     },
     "execution_count": 145,
     "metadata": {},
     "output_type": "execute_result"
    }
   ],
   "source": [
    "new_df"
   ]
  },
  {
   "cell_type": "code",
   "execution_count": 150,
   "id": "c0ff3a68-efeb-4d66-ae4e-1651f3d31a48",
   "metadata": {},
   "outputs": [],
   "source": [
    "from scipy.optimize import minimize"
   ]
  },
  {
   "cell_type": "code",
   "execution_count": 218,
   "id": "cf122936-4f04-48bc-ab7d-0ad01313ec19",
   "metadata": {},
   "outputs": [],
   "source": [
    "def for_minimization(x, ind):\n",
    "    return 1 - classifyer.predict_proba(np.array(x).reshape(1, -1))[0][ind]"
   ]
  },
  {
   "cell_type": "code",
   "execution_count": 220,
   "id": "b0134906-1e09-4fa7-825c-6893eeba41e5",
   "metadata": {},
   "outputs": [],
   "source": [
    "from collections import defaultdict"
   ]
  },
  {
   "cell_type": "code",
   "execution_count": 231,
   "id": "ac17613d-a5b7-4086-9d57-221644126182",
   "metadata": {},
   "outputs": [],
   "source": [
    "generations = defaultdict(list)\n",
    "for activity_index in range(1, 2):\n",
    "    for _ in range(30):\n",
    "        random_index = np.random.randint(new_df.shape[0])\n",
    "        x0 = new_df.loc[random_index].values\n",
    "        res = minimize(for_minimization, x0=x0, args=(activity_index), method=\"COBYLA\")\n",
    "        generations[activity_index].append({\"random_index\": random_index, \"x0\": x0, \"res\": res.x, \"fun\": res.fun})"
   ]
  },
  {
   "cell_type": "code",
   "execution_count": 230,
   "id": "aa4f0d63-770c-4ecc-8f08-d0c759e3e5f9",
   "metadata": {},
   "outputs": [
    {
     "data": {
      "text/plain": [
       "defaultdict(list,\n",
       "            {1: [{'random_index': 442188,\n",
       "               'x0': array([ 1.44662704e+02,  1.79841101e+00,  2.00000000e+00, -2.80451655e-01,\n",
       "                       1.40794590e-01,  4.02557564e+00,  6.01248550e+00,  8.66110101e-02,\n",
       "                      -6.86112419e-02,  4.35466433e+00, -4.63287622e-01,  4.01255722e+01,\n",
       "                       1.15863907e+02,  1.07377923e+00, -9.74204779e-01,  2.49785829e+00,\n",
       "                       9.84477103e-01,  1.64275375e+02,  5.58616905e+01,  4.52580929e+00,\n",
       "                       6.00149488e+00,  5.11851406e+00, -3.03280562e-01]),\n",
       "               'res': array([ 1.46570874e+02,  2.96428327e+00,  2.57419596e+00, -4.65407770e-01,\n",
       "                       6.32621856e-01,  3.78256311e+00,  6.86302556e+00,  1.44740509e+00,\n",
       "                       1.85342753e+00,  5.25769049e+00,  1.38394256e+00,  4.06614741e+01,\n",
       "                       1.14584304e+02,  8.26425227e-01,  6.29427748e-02,  2.34419909e+00,\n",
       "                       2.11763920e+00,  1.66004733e+02,  5.65858278e+01,  5.07200659e+00,\n",
       "                       5.21590525e+00,  2.83223298e+00,  7.99138451e-01]),\n",
       "               'fun': np.float64(0.1181145531492882)}],\n",
       "             2: [{'random_index': 330789,\n",
       "               'x0': array([ 1.35815552e+02,  1.47091782e+00,  2.00000000e+00, -2.86401629e-01,\n",
       "                       1.41364411e-01,  3.75799799e+00,  4.32050800e+00,  7.84740821e-02,\n",
       "                      -7.16119930e-02,  3.59025717e+00, -5.33679724e-01,  4.11892738e+01,\n",
       "                       8.51240768e+01,  1.09025156e+00, -8.44667256e-01,  2.48828673e+00,\n",
       "                       1.39085317e+00,  1.58983429e+02,  6.19067802e+01,  4.53237820e+00,\n",
       "                       6.07139969e+00,  5.11420441e+00, -3.09377849e-01]),\n",
       "               'res': array([135.39306235,   2.49181062,   3.24567673,  -0.37855151,\n",
       "                        0.44192568,   4.00667234,   5.09718747,   1.76725727,\n",
       "                        0.23819785,   3.71047548,   0.74147299,  40.5189751 ,\n",
       "                       86.67317642,   2.4541488 ,  -0.89248778,   1.77259249,\n",
       "                        2.12974518, 158.61980881,  61.05215494,   5.45057488,\n",
       "                        7.07335608,   4.3922656 ,   1.16099795]),\n",
       "               'fun': np.float64(0.9792608358652186)}],\n",
       "             3: [{'random_index': 370195,\n",
       "               'x0': array([ 1.42013519e+02,  1.68193126e+00,  2.00000000e+00, -2.19353080e-01,\n",
       "                       1.64211869e-01,  3.97082186e+00,  5.77161598e+00,  1.09281234e-01,\n",
       "                      -5.53096533e-02,  3.96382642e+00, -3.52841854e-01,  4.03435287e+01,\n",
       "                       8.69192963e+01,  1.12834847e+00, -7.00454772e-01,  2.50975752e+00,\n",
       "                       2.40074968e+00,  1.41187683e+02,  5.09352798e+01,  4.68258476e+00,\n",
       "                       5.98886919e+00,  5.08731985e+00, -2.96510398e-01]),\n",
       "               'res': array([143.47118969,   1.16976671,   3.88444778,  -1.06710813,\n",
       "                        0.49339014,   5.86263829,   5.41581611,  -0.73516918,\n",
       "                        0.61340718,   6.30767262,   1.07853913,  41.04487109,\n",
       "                       86.69221273,  -0.19040809,  -0.99825811,   3.76558096,\n",
       "                        1.96963687, 139.82816698,  53.21867611,   5.41708861,\n",
       "                        7.568854  ,   4.00868524,   1.15026171]),\n",
       "               'fun': np.float64(0.9263339569511497)}],\n",
       "             4: [{'random_index': 148774,\n",
       "               'x0': array([ 1.25746956e+02,  1.28449214e+00,  2.00000000e+00, -2.44024754e-01,\n",
       "                       1.52399659e-01,  4.12205458e+00,  5.19310379e+00,  8.35615769e-02,\n",
       "                      -5.72811328e-02,  3.21221781e+00, -3.42097580e-01,  3.98196526e+01,\n",
       "                       1.23801155e+02,  1.12250209e+00, -7.75507033e-01,  2.54753542e+00,\n",
       "                       2.63035917e+00,  1.59263809e+02,  5.82329750e+01,  4.53651428e+00,\n",
       "                       6.10133171e+00,  5.03566790e+00, -3.12277675e-01]),\n",
       "               'res': array([126.80045154,   2.41710892,   3.41904501,  -0.93056777,\n",
       "                       -0.31655519,   5.1625363 ,   4.24837449,  -0.49076261,\n",
       "                        1.13863333,   3.95936249,   0.92796029,  41.34330435,\n",
       "                      123.79772735,   0.86945631,  -0.87449095,   2.03909285,\n",
       "                        2.82833269, 159.1125074 ,  58.45300898,   5.61364372,\n",
       "                        7.17946824,   4.08446805,   1.02463485]),\n",
       "               'fun': np.float64(0.9877041533467884)}],\n",
       "             5: [{'random_index': 514130,\n",
       "               'x0': array([ 1.21687881e+02,  1.37602890e+00,  2.00000000e+00, -2.32280374e-01,\n",
       "                       1.50296614e-01,  3.63543153e+00,  4.42794847e+00,  9.99071673e-02,\n",
       "                      -7.12843537e-02,  3.64678383e+00, -3.30474883e-01,  4.11866150e+01,\n",
       "                       8.80683212e+01,  1.09581506e+00, -7.62688518e-01,  2.52815127e+00,\n",
       "                       1.86379647e+00,  1.57812592e+02,  5.83851814e+01,  4.59757757e+00,\n",
       "                       6.05166578e+00,  4.93321753e+00, -2.98229963e-01]),\n",
       "               'res': array([123.92310552,   1.81174576,   2.7631667 ,  -0.80474624,\n",
       "                       -0.51852859,   4.31359571,   5.20079609,   0.79092345,\n",
       "                        1.23156451,   5.2082604 ,   0.49531899,  41.34730366,\n",
       "                       87.89206518,   0.94028977,  -0.26265879,   0.5402691 ,\n",
       "                        1.66382112, 160.2236205 ,  61.14562615,   5.97789608,\n",
       "                        7.81731   ,   3.91302294,  -0.65456451]),\n",
       "               'fun': np.float64(0.979369155550855)}]})"
      ]
     },
     "execution_count": 230,
     "metadata": {},
     "output_type": "execute_result"
    }
   ],
   "source": [
    "generations"
   ]
  },
  {
   "cell_type": "code",
   "execution_count": null,
   "id": "11df2515-eaca-4f3d-82d4-bbd9e0e095f2",
   "metadata": {},
   "outputs": [],
   "source": []
  }
 ],
 "metadata": {
  "kernelspec": {
   "display_name": "Python 3 (ipykernel)",
   "language": "python",
   "name": "python3"
  },
  "language_info": {
   "codemirror_mode": {
    "name": "ipython",
    "version": 3
   },
   "file_extension": ".py",
   "mimetype": "text/x-python",
   "name": "python",
   "nbconvert_exporter": "python",
   "pygments_lexer": "ipython3",
   "version": "3.12.3"
  }
 },
 "nbformat": 4,
 "nbformat_minor": 5
}
