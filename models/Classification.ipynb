{
 "cells": [
  {
   "cell_type": "code",
   "execution_count": 1,
   "id": "98b545f5-afdf-412d-8c1d-82272ee50ba6",
   "metadata": {},
   "outputs": [],
   "source": [
    "import pandas as pd\n",
    "import numpy as np\n",
    "import seaborn as sns\n",
    "from sklearn.metrics import confusion_matrix\n",
    "import matplotlib.pyplot as plt"
   ]
  },
  {
   "cell_type": "code",
   "execution_count": 2,
   "id": "024b16c1-d196-49b3-9ec7-6674d6e4d2a1",
   "metadata": {},
   "outputs": [
    {
     "name": "stdout",
     "output_type": "stream",
     "text": [
      "(1130, 43) (2200, 43)\n"
     ]
    }
   ],
   "source": [
    "# читаем датасеты\n",
    "f1 = pd.read_csv(\"../data/existing_datasets/final_df.csv\")\n",
    "f2 = pd.read_csv(\"../final_p2.2.csv\")\n",
    "\n",
    "# восстанавливаем названия активностей в первом датасете\n",
    "f1[\"activity\"] = f1[\"activity\"].replace({1: \"peroxidase\", 2: \"oxidase\", 3: \"catalase\", 4: \"laccase\"})\n",
    "\n",
    "# сохраняем фичи, присутствующие во втором датасете\n",
    "usefull_columns = f2.columns.tolist()\n",
    "f1 = f1[usefull_columns]\n",
    "f2 = f2[usefull_columns]\n",
    "\n",
    "print(f1.shape, f2.shape)"
   ]
  },
  {
   "cell_type": "code",
   "execution_count": 3,
   "id": "27cbaad0-f84e-4a7f-8204-0bc0fa11658b",
   "metadata": {},
   "outputs": [
    {
     "name": "stdout",
     "output_type": "stream",
     "text": [
      "(2174, 43)\n"
     ]
    }
   ],
   "source": [
    "# multi-activity - те, у которых в колонке активность было указано несколько вариантов. Пока не будем разбираться с ними\n",
    "f2 = f2[((f2[\"activity\"] != \"multi-activity\") * (~f2[\"activity\"].isna()))]\n",
    "print(f2.shape)"
   ]
  },
  {
   "cell_type": "code",
   "execution_count": 4,
   "id": "4230d3dc-9a1c-452a-b058-279689dab031",
   "metadata": {},
   "outputs": [
    {
     "name": "stdout",
     "output_type": "stream",
     "text": [
      "Размер объединённого датасета (3304, 43)\n",
      "Размер после удаления дупликатов (2984, 40)\n"
     ]
    }
   ],
   "source": [
    "# объединяем датасеты\n",
    "df = pd.concat([f1, f2], ignore_index=True)\n",
    "df = df.fillna(0)\n",
    "df.replace([np.inf, -np.inf], 0, inplace=True)\n",
    "print(\"Размер объединённого датасета\", df.shape)\n",
    "\n",
    "# удаляем колонки с значениями, которые не относятся к предсказанию активности\n",
    "df = df.drop(columns=[\"id\", \"Km\", \"Vmax\"])\n",
    "\n",
    "# исправляем, где ph не число\n",
    "invalid_values = list(df['ph'][~df['ph'].apply(lambda x: pd.to_numeric(x, errors='coerce')).notna()])\n",
    "df['ph'] = pd.to_numeric(df['ph'].where(lambda ph: ~ph.isin(invalid_values)), errors='coerce')\n",
    "df = df.fillna(0)\n",
    "\n",
    "# удаляем дупликаты\n",
    "df = df.drop_duplicates(ignore_index=True)\n",
    "print(\"Размер после удаления дупликатов\", df.shape)"
   ]
  },
  {
   "cell_type": "code",
   "execution_count": 5,
   "id": "2f282f86-de76-406e-a7ae-a5bb5312f7f7",
   "metadata": {},
   "outputs": [
    {
     "name": "stdout",
     "output_type": "stream",
     "text": [
      "activity\n",
      "peroxidase              2489\n",
      "oxidase                  287\n",
      "catalase                 132\n",
      "superoxide dismutase      39\n",
      "phosphatase               11\n",
      "esterase                   9\n",
      "glycosidase                4\n",
      "reductase                  3\n",
      "laccase                    3\n",
      "uricase                    2\n",
      "dnase                      1\n",
      "rnase                      1\n",
      "hydrolase                  1\n",
      "phosphotriesterase         1\n",
      "epoxydase                  1\n",
      "Name: count, dtype: int64\n"
     ]
    },
    {
     "data": {
      "text/plain": [
       "['peroxidase',\n",
       " 'oxidase',\n",
       " 'catalase',\n",
       " 'superoxide dismutase',\n",
       " 'phosphatase',\n",
       " 'esterase']"
      ]
     },
     "execution_count": 5,
     "metadata": {},
     "output_type": "execute_result"
    }
   ],
   "source": [
    "# сохраняем только частые активности\n",
    "activity_counts = df['activity'].value_counts()\n",
    "print(activity_counts)\n",
    "activities_frequent = activity_counts[activity_counts > 7].index.to_list()\n",
    "activities_frequent"
   ]
  },
  {
   "cell_type": "code",
   "execution_count": 6,
   "id": "20a65443-7f0c-4d72-b45b-2335f8a324e9",
   "metadata": {},
   "outputs": [],
   "source": [
    "df = df[df[\"activity\"].isin(activities_frequent)]"
   ]
  },
  {
   "cell_type": "code",
   "execution_count": 7,
   "id": "e68cbd58-c851-4e07-b579-d755bd29dc16",
   "metadata": {},
   "outputs": [],
   "source": [
    "df[\"activity\"] = df[\"activity\"].apply(lambda x: activities_frequent.index(x) + 1) # нумерация активностей"
   ]
  },
  {
   "cell_type": "markdown",
   "id": "bf986914-672c-4f3f-a5c5-59df97c0e6eb",
   "metadata": {},
   "source": [
    "# Обучение классификатора"
   ]
  },
  {
   "cell_type": "code",
   "execution_count": 8,
   "id": "2d3d5352-6c54-44fa-8d6d-7dd7681f9255",
   "metadata": {},
   "outputs": [],
   "source": [
    "RANDOM_STATE = 38\n",
    "TEST_SIZE = 0.25"
   ]
  },
  {
   "cell_type": "code",
   "execution_count": 9,
   "id": "a6f48bef-c9ee-4c1e-9695-bb8252909d09",
   "metadata": {},
   "outputs": [],
   "source": [
    "from sklearn.model_selection import train_test_split\n",
    "from sklearn.ensemble import RandomForestClassifier"
   ]
  },
  {
   "cell_type": "code",
   "execution_count": 10,
   "id": "42448277-18f8-4d6d-986b-a42ed04cdbc8",
   "metadata": {},
   "outputs": [],
   "source": [
    "# Разделяем на целевой признак и на входные\n",
    "X = df.drop('activity', axis=1)\n",
    "y = pd.DataFrame(df['activity'])\n",
    "\n",
    "# Разделяем данные на тренировочную и тестовую выборки\n",
    "X_train, X_test, y_train, y_test = train_test_split(X, y, test_size=TEST_SIZE, random_state=RANDOM_STATE, stratify=y)"
   ]
  },
  {
   "cell_type": "markdown",
   "id": "fb5d7280-1d35-484a-800d-a6c5a7f70072",
   "metadata": {},
   "source": [
    "# Обучаем как есть"
   ]
  },
  {
   "cell_type": "code",
   "execution_count": 11,
   "id": "ceadb914-1f5f-4d08-a6c5-d84db95c17c7",
   "metadata": {},
   "outputs": [
    {
     "name": "stderr",
     "output_type": "stream",
     "text": [
      "/home/oleg/Programs/.venv/lib/python3.12/site-packages/sklearn/base.py:1473: DataConversionWarning: A column-vector y was passed when a 1d array was expected. Please change the shape of y to (n_samples,), for example using ravel().\n",
      "  return fit_method(estimator, *args, **kwargs)\n"
     ]
    },
    {
     "data": {
      "text/plain": [
       "<Axes: title={'center': 'Train'}>"
      ]
     },
     "execution_count": 11,
     "metadata": {},
     "output_type": "execute_result"
    },
    {
     "data": {
      "image/png": "[encoded data removed]",
      "text/plain": [
       "<Figure size 1100x400 with 4 Axes>"
      ]
     },
     "metadata": {},
     "output_type": "display_data"
    }
   ],
   "source": [
    "model = RandomForestClassifier(random_state=RANDOM_STATE)\n",
    "model.fit(X_train, y_train)\n",
    "fig, (ax1, ax2) = plt.subplots(1, 2)\n",
    "ax1.set_title(\"Train\")\n",
    "ax2.set_title(\"Test\")\n",
    "fig.set_size_inches(11, 4)\n",
    "cm = confusion_matrix(model.predict(X_test), y_test)\n",
    "sns.heatmap(\n",
    "    np.log1p(cm),\n",
    "    ax=ax2,\n",
    "    annot=cm,\n",
    "    fmt='d',\n",
    "    cmap='Oranges'\n",
    ")\n",
    "cm = confusion_matrix(model.predict(X_train), y_train)\n",
    "sns.heatmap(\n",
    "    np.log1p(cm),\n",
    "    ax=ax1,\n",
    "    annot=cm,\n",
    "    fmt='d',\n",
    "    cmap='Oranges'\n",
    ")"
   ]
  },
  {
   "cell_type": "markdown",
   "id": "32aa6d8a-cafd-48ed-bb06-84298f0bb226",
   "metadata": {},
   "source": [
    "Нормальные результаты, посмотрим на важность фич"
   ]
  },
  {
   "cell_type": "code",
   "execution_count": 12,
   "id": "578c3bd2-af2b-4e5b-8c17-078fb7c8ec77",
   "metadata": {},
   "outputs": [
    {
     "data": {
      "text/html": [
       "<div>\n",
       "<style scoped>\n",
       "    .dataframe tbody tr th:only-of-type {\n",
       "        vertical-align: middle;\n",
       "    }\n",
       "\n",
       "    .dataframe tbody tr th {\n",
       "        vertical-align: top;\n",
       "    }\n",
       "\n",
       "    .dataframe thead th {\n",
       "        text-align: right;\n",
       "    }\n",
       "</style>\n",
       "<table border=\"1\" class=\"dataframe\">\n",
       "  <thead>\n",
       "    <tr style=\"text-align: right;\">\n",
       "      <th></th>\n",
       "      <th>Feature</th>\n",
       "      <th>Importance</th>\n",
       "    </tr>\n",
       "  </thead>\n",
       "  <tbody>\n",
       "    <tr>\n",
       "      <th>35</th>\n",
       "      <td>MaxEStateIndex.2</td>\n",
       "      <td>0.236547</td>\n",
       "    </tr>\n",
       "    <tr>\n",
       "      <th>11</th>\n",
       "      <td>Cconst</td>\n",
       "      <td>0.105180</td>\n",
       "    </tr>\n",
       "    <tr>\n",
       "      <th>31</th>\n",
       "      <td>TPSA2</td>\n",
       "      <td>0.082146</td>\n",
       "    </tr>\n",
       "    <tr>\n",
       "      <th>37</th>\n",
       "      <td>MaxPartialCharge.1</td>\n",
       "      <td>0.040695</td>\n",
       "    </tr>\n",
       "    <tr>\n",
       "      <th>36</th>\n",
       "      <td>MinPartialCharge.1</td>\n",
       "      <td>0.037725</td>\n",
       "    </tr>\n",
       "    <tr>\n",
       "      <th>30</th>\n",
       "      <td>TPSA1</td>\n",
       "      <td>0.037260</td>\n",
       "    </tr>\n",
       "    <tr>\n",
       "      <th>2</th>\n",
       "      <td>pot2</td>\n",
       "      <td>0.034830</td>\n",
       "    </tr>\n",
       "    <tr>\n",
       "      <th>3</th>\n",
       "      <td>ph</td>\n",
       "      <td>0.033581</td>\n",
       "    </tr>\n",
       "    <tr>\n",
       "      <th>29</th>\n",
       "      <td>Complexity1</td>\n",
       "      <td>0.032780</td>\n",
       "    </tr>\n",
       "    <tr>\n",
       "      <th>1</th>\n",
       "      <td>IR</td>\n",
       "      <td>0.031295</td>\n",
       "    </tr>\n",
       "    <tr>\n",
       "      <th>10</th>\n",
       "      <td>lgCconst</td>\n",
       "      <td>0.031165</td>\n",
       "    </tr>\n",
       "    <tr>\n",
       "      <th>4</th>\n",
       "      <td>temp</td>\n",
       "      <td>0.029502</td>\n",
       "    </tr>\n",
       "    <tr>\n",
       "      <th>14</th>\n",
       "      <td>lgvolume</td>\n",
       "      <td>0.027812</td>\n",
       "    </tr>\n",
       "    <tr>\n",
       "      <th>0</th>\n",
       "      <td>X</td>\n",
       "      <td>0.027450</td>\n",
       "    </tr>\n",
       "    <tr>\n",
       "      <th>13</th>\n",
       "      <td>Ccat</td>\n",
       "      <td>0.027006</td>\n",
       "    </tr>\n",
       "    <tr>\n",
       "      <th>34</th>\n",
       "      <td>MaxEStateIndex.1</td>\n",
       "      <td>0.025681</td>\n",
       "    </tr>\n",
       "    <tr>\n",
       "      <th>12</th>\n",
       "      <td>lgCcat</td>\n",
       "      <td>0.023601</td>\n",
       "    </tr>\n",
       "    <tr>\n",
       "      <th>9</th>\n",
       "      <td>Cmax</td>\n",
       "      <td>0.017334</td>\n",
       "    </tr>\n",
       "    <tr>\n",
       "      <th>8</th>\n",
       "      <td>Cmin</td>\n",
       "      <td>0.013026</td>\n",
       "    </tr>\n",
       "    <tr>\n",
       "      <th>6</th>\n",
       "      <td>lgCmin</td>\n",
       "      <td>0.012008</td>\n",
       "    </tr>\n",
       "    <tr>\n",
       "      <th>7</th>\n",
       "      <td>lgCmax</td>\n",
       "      <td>0.010407</td>\n",
       "    </tr>\n",
       "    <tr>\n",
       "      <th>5</th>\n",
       "      <td>dstr</td>\n",
       "      <td>0.009715</td>\n",
       "    </tr>\n",
       "    <tr>\n",
       "      <th>38</th>\n",
       "      <td>BCUT2D_CHGLO</td>\n",
       "      <td>0.005923</td>\n",
       "    </tr>\n",
       "    <tr>\n",
       "      <th>20</th>\n",
       "      <td>BalabanJ</td>\n",
       "      <td>0.005835</td>\n",
       "    </tr>\n",
       "    <tr>\n",
       "      <th>18</th>\n",
       "      <td>VSA_EState8</td>\n",
       "      <td>0.005737</td>\n",
       "    </tr>\n",
       "    <tr>\n",
       "      <th>22</th>\n",
       "      <td>MinEStateIndex</td>\n",
       "      <td>0.005672</td>\n",
       "    </tr>\n",
       "    <tr>\n",
       "      <th>33</th>\n",
       "      <td>XLogP</td>\n",
       "      <td>0.005644</td>\n",
       "    </tr>\n",
       "    <tr>\n",
       "      <th>32</th>\n",
       "      <td>TPSA</td>\n",
       "      <td>0.005033</td>\n",
       "    </tr>\n",
       "    <tr>\n",
       "      <th>21</th>\n",
       "      <td>MinAbsEStateIndex</td>\n",
       "      <td>0.005029</td>\n",
       "    </tr>\n",
       "    <tr>\n",
       "      <th>15</th>\n",
       "      <td>MolWt</td>\n",
       "      <td>0.005004</td>\n",
       "    </tr>\n",
       "    <tr>\n",
       "      <th>26</th>\n",
       "      <td>MinPartialCharge</td>\n",
       "      <td>0.004902</td>\n",
       "    </tr>\n",
       "    <tr>\n",
       "      <th>19</th>\n",
       "      <td>Kappa2</td>\n",
       "      <td>0.004741</td>\n",
       "    </tr>\n",
       "    <tr>\n",
       "      <th>27</th>\n",
       "      <td>EState_VSA4</td>\n",
       "      <td>0.003977</td>\n",
       "    </tr>\n",
       "    <tr>\n",
       "      <th>25</th>\n",
       "      <td>PEOE_VSA8</td>\n",
       "      <td>0.003650</td>\n",
       "    </tr>\n",
       "    <tr>\n",
       "      <th>16</th>\n",
       "      <td>PEOE_VSA7</td>\n",
       "      <td>0.003582</td>\n",
       "    </tr>\n",
       "    <tr>\n",
       "      <th>28</th>\n",
       "      <td>SMR_VSA7</td>\n",
       "      <td>0.003287</td>\n",
       "    </tr>\n",
       "    <tr>\n",
       "      <th>17</th>\n",
       "      <td>PEOE_VSA9</td>\n",
       "      <td>0.002740</td>\n",
       "    </tr>\n",
       "    <tr>\n",
       "      <th>23</th>\n",
       "      <td>EState_VSA6</td>\n",
       "      <td>0.001646</td>\n",
       "    </tr>\n",
       "    <tr>\n",
       "      <th>24</th>\n",
       "      <td>VSA_EState4</td>\n",
       "      <td>0.000853</td>\n",
       "    </tr>\n",
       "  </tbody>\n",
       "</table>\n",
       "</div>"
      ],
      "text/plain": [
       "               Feature  Importance\n",
       "35    MaxEStateIndex.2    0.236547\n",
       "11              Cconst    0.105180\n",
       "31               TPSA2    0.082146\n",
       "37  MaxPartialCharge.1    0.040695\n",
       "36  MinPartialCharge.1    0.037725\n",
       "30               TPSA1    0.037260\n",
       "2                 pot2    0.034830\n",
       "3                   ph    0.033581\n",
       "29         Complexity1    0.032780\n",
       "1                   IR    0.031295\n",
       "10            lgCconst    0.031165\n",
       "4                 temp    0.029502\n",
       "14            lgvolume    0.027812\n",
       "0                    X    0.027450\n",
       "13                Ccat    0.027006\n",
       "34    MaxEStateIndex.1    0.025681\n",
       "12              lgCcat    0.023601\n",
       "9                 Cmax    0.017334\n",
       "8                 Cmin    0.013026\n",
       "6               lgCmin    0.012008\n",
       "7               lgCmax    0.010407\n",
       "5                 dstr    0.009715\n",
       "38        BCUT2D_CHGLO    0.005923\n",
       "20            BalabanJ    0.005835\n",
       "18         VSA_EState8    0.005737\n",
       "22      MinEStateIndex    0.005672\n",
       "33               XLogP    0.005644\n",
       "32                TPSA    0.005033\n",
       "21   MinAbsEStateIndex    0.005029\n",
       "15               MolWt    0.005004\n",
       "26    MinPartialCharge    0.004902\n",
       "19              Kappa2    0.004741\n",
       "27         EState_VSA4    0.003977\n",
       "25           PEOE_VSA8    0.003650\n",
       "16           PEOE_VSA7    0.003582\n",
       "28            SMR_VSA7    0.003287\n",
       "17           PEOE_VSA9    0.002740\n",
       "23         EState_VSA6    0.001646\n",
       "24         VSA_EState4    0.000853"
      ]
     },
     "execution_count": 12,
     "metadata": {},
     "output_type": "execute_result"
    }
   ],
   "source": [
    "feature_importance = pd.DataFrame({\n",
    "    'Feature': X.columns,\n",
    "    'Importance': model.feature_importances_\n",
    "})\n",
    "feature_importance.sort_values(by='Importance', ascending=False)"
   ]
  },
  {
   "cell_type": "markdown",
   "id": "5f6e3854-a3b4-48e8-a56b-f7ca05a2623e",
   "metadata": {},
   "source": [
    "Самые важные фичи - относящиеся к реакции"
   ]
  },
  {
   "cell_type": "markdown",
   "id": "6d9e41f4-c2c3-4ac8-be8f-828a2f78b266",
   "metadata": {},
   "source": [
    "# Forward Feature Selection"
   ]
  },
  {
   "cell_type": "code",
   "execution_count": 13,
   "id": "1bb0eea1-4ccf-4ab0-95ad-92e6c00bd850",
   "metadata": {},
   "outputs": [],
   "source": [
    "from sklearn.metrics import classification_report, log_loss, matthews_corrcoef, accuracy_score\n",
    "from collections import defaultdict\n",
    "from tqdm.notebook import tqdm"
   ]
  },
  {
   "cell_type": "code",
   "execution_count": 14,
   "id": "36a95a41-a731-4a3a-9642-7bee917baf1d",
   "metadata": {
    "scrolled": true
   },
   "outputs": [
    {
     "data": {
      "application/vnd.jupyter.widget-view+json": {
       "model_id": "9d8763bb8de047c9b5e26e8938ad3344",
       "version_major": 2,
       "version_minor": 0
      },
      "text/plain": [
       "  0%|          | 0/39 [00:00<?, ?it/s]"
      ]
     },
     "metadata": {},
     "output_type": "display_data"
    },
    {
     "name": "stdout",
     "output_type": "stream",
     "text": [
      "MaxEStateIndex.2 0.6580846766283148\n",
      "TPSA1 0.8060312670826724\n",
      "temp 0.8307853311942931\n",
      "ph 0.8593596611784454\n",
      "TPSA2 0.8736651533174683\n",
      "Cconst 0.8876107222835165\n",
      "MaxEStateIndex.1 0.8834747084137702\n",
      "MinPartialCharge.1 0.8827180745258061\n",
      "lgCmax 0.8886159795263152\n",
      "MaxPartialCharge.1 0.8886159795263152\n",
      "VSA_EState4 0.8834747084137702\n",
      "X 0.879477747563565\n",
      "Ccat 0.8737050461817009\n",
      "pot2 0.8791031935019581\n",
      "Cmin 0.878336879609781\n",
      "EState_VSA6 0.8687390698679973\n",
      "Complexity1 0.8737050461817009\n",
      "lgCcat 0.8645403886131798\n",
      "PEOE_VSA7 0.8736790898693639\n",
      "EState_VSA4 0.8739703932835226\n",
      "TPSA 0.873940030378927\n",
      "MinEStateIndex 0.8832433164399565\n",
      "BCUT2D_CHGLO 0.8790583569992898\n",
      "dstr 0.8734501075535759\n",
      "MolWt 0.8694920629370576\n",
      "MinPartialCharge 0.8743020786217116\n",
      "SMR_VSA7 0.8736578069027848\n",
      "PEOE_VSA8 0.8645348606602172\n",
      "PEOE_VSA9 0.8648888527887588\n",
      "VSA_EState8 0.8690996614732208\n",
      "XLogP 0.8548464860581569\n",
      "BalabanJ 0.868751882803389\n",
      "lgCmin 0.8600607500761165\n",
      "Cmax 0.8645754600599451\n",
      "lgCconst 0.859335558304516\n",
      "Kappa2 0.8593814644434619\n",
      "MinAbsEStateIndex 0.8601077555828514\n",
      "IR 0.8541735905641398\n",
      "lgvolume 0.8541735905641398\n"
     ]
    }
   ],
   "source": [
    "col = X_train.columns.tolist()\n",
    "used_col = []\n",
    "col_scores = defaultdict(dict)\n",
    "for i in tqdm(range(len(X_train.columns))):\n",
    "    for column in col:\n",
    "        model = RandomForestClassifier(random_state=RANDOM_STATE)\n",
    "        model.fit(X_train[used_col + [column,]], y_train.values.reshape(-1, 1).flatten())\n",
    "        score = matthews_corrcoef(y_test, model.predict(X_test[used_col + [column,]]))\n",
    "        col_scores[i][column] = score\n",
    "    best_column, best_score = sorted(list(col_scores[i].items()), key=lambda x: x[1], reverse=True)[0]\n",
    "    used_col += [best_column,]\n",
    "    col.remove(best_column)\n",
    "    print(best_column, best_score)"
   ]
  },
  {
   "cell_type": "code",
   "execution_count": 15,
   "id": "8abd4929-da17-4e95-b8c9-91025542583e",
   "metadata": {},
   "outputs": [],
   "source": [
    "reaction_columns = [\n",
    "    'lgCmin',\n",
    "    'lgCmax',\n",
    "    'Cmin',\n",
    "    'Cmax',\n",
    "    'lgCconst',\n",
    "    'Cconst',\n",
    "    'lgCcat',\n",
    "    'Ccat',\n",
    "    'Complexity1',\n",
    "    'TPSA1',\n",
    "    'TPSA2',\n",
    "    'MaxEStateIndex.1',\n",
    "    'MaxEStateIndex.2',\n",
    "    'MinPartialCharge.1',\n",
    "    'MaxPartialCharge.1',\n",
    "]"
   ]
  },
  {
   "cell_type": "code",
   "execution_count": 16,
   "id": "87ec83c5-21a4-4801-af9d-2f46a0178e71",
   "metadata": {},
   "outputs": [
    {
     "data": {
      "image/png": "[encoded data removed]",
      "text/plain": [
       "<Figure size 640x480 with 1 Axes>"
      ]
     },
     "metadata": {},
     "output_type": "display_data"
    }
   ],
   "source": [
    "tmp = []\n",
    "for i in col_scores:\n",
    "    best_column, best_score = sorted(list(col_scores[i].items()), key=lambda x: x[1], reverse=True)[0]\n",
    "    tmp.append({\"column\": best_column, \"score\": best_score})\n",
    "tmp = pd.DataFrame(tmp)\n",
    "sns.lineplot(tmp, x=\"column\", y=\"score\")\n",
    "sns.scatterplot(tmp[tmp[\"column\"].isin(reaction_columns)], x=\"column\", y=\"score\", label=\"Reaction Columns\")\n",
    "sns.scatterplot(tmp[~tmp[\"column\"].isin(reaction_columns + ['temp', 'ph'])], x=\"column\", y=\"score\", label=\"Particle Columns\")\n",
    "sns.scatterplot(tmp[tmp[\"column\"].isin(['temp', 'ph'])], x=\"column\", y=\"score\", label=\"temp, ph columns\")\n",
    "plt.xticks(rotation=90);"
   ]
  },
  {
   "cell_type": "markdown",
   "id": "f510c6fe-ac59-4051-98eb-cd151b2dc4ba",
   "metadata": {},
   "source": [
    "Результаты классификации растут, пока добавляются колонки относящиеся к реакции и начинают падать при добавлениии колонок относящихся к параметрам самой частицы"
   ]
  },
  {
   "cell_type": "markdown",
   "id": "7507de03-371e-491c-9615-ac3f2f34c10f",
   "metadata": {},
   "source": [
    "# Без колонок реакции"
   ]
  },
  {
   "cell_type": "code",
   "execution_count": 17,
   "id": "32125dcf-a458-415d-be77-4858f0387291",
   "metadata": {},
   "outputs": [],
   "source": [
    "df = df.drop(columns=reaction_columns)"
   ]
  },
  {
   "cell_type": "code",
   "execution_count": 18,
   "id": "7762a773-441e-42d9-8eb3-33927e12b898",
   "metadata": {},
   "outputs": [
    {
     "data": {
      "text/plain": [
       "(2967, 25)"
      ]
     },
     "execution_count": 18,
     "metadata": {},
     "output_type": "execute_result"
    }
   ],
   "source": [
    "df.shape"
   ]
  },
  {
   "cell_type": "code",
   "execution_count": 19,
   "id": "8f68c420-ccd7-4d08-ae4c-f68020def078",
   "metadata": {},
   "outputs": [
    {
     "name": "stdout",
     "output_type": "stream",
     "text": [
      "(2022, 25)\n"
     ]
    }
   ],
   "source": [
    "df = df.drop_duplicates(ignore_index=True) # удаление дупликатов после удаления колонок относящихся к реакции\n",
    "print(df.shape)"
   ]
  },
  {
   "cell_type": "code",
   "execution_count": 20,
   "id": "fef6bcf9-065f-493d-8a06-ce94e069a186",
   "metadata": {},
   "outputs": [],
   "source": [
    "# Разделяем на целевой признак и на входные\n",
    "X = df.drop('activity', axis=1)\n",
    "y = pd.DataFrame(df['activity'])\n",
    "\n",
    "# Разделяем данные на тренировочную и тестовую выборки\n",
    "X_train, X_test, y_train, y_test = train_test_split(X, y, test_size=TEST_SIZE, random_state=RANDOM_STATE, stratify=y)"
   ]
  },
  {
   "cell_type": "code",
   "execution_count": 21,
   "id": "c33bb87f-7e86-4e4e-8a97-8afd62400afe",
   "metadata": {},
   "outputs": [
    {
     "name": "stderr",
     "output_type": "stream",
     "text": [
      "/home/oleg/Programs/.venv/lib/python3.12/site-packages/sklearn/base.py:1473: DataConversionWarning: A column-vector y was passed when a 1d array was expected. Please change the shape of y to (n_samples,), for example using ravel().\n",
      "  return fit_method(estimator, *args, **kwargs)\n"
     ]
    },
    {
     "data": {
      "text/plain": [
       "<Axes: title={'center': 'Train'}>"
      ]
     },
     "execution_count": 21,
     "metadata": {},
     "output_type": "execute_result"
    },
    {
     "data": {
      "image/png": "[encoded data removed]",
      "text/plain": [
       "<Figure size 1100x400 with 4 Axes>"
      ]
     },
     "metadata": {},
     "output_type": "display_data"
    }
   ],
   "source": [
    "model = RandomForestClassifier(random_state=RANDOM_STATE)\n",
    "model.fit(X_train, y_train)\n",
    "fig, (ax1, ax2) = plt.subplots(1, 2)\n",
    "ax1.set_title(\"Train\")\n",
    "ax2.set_title(\"Test\")\n",
    "fig.set_size_inches(11, 4)\n",
    "cm = confusion_matrix(model.predict(X_test), y_test)\n",
    "sns.heatmap(\n",
    "    np.log1p(cm),\n",
    "    ax=ax2,\n",
    "    annot=cm,\n",
    "    fmt='d',\n",
    "    cmap='Oranges'\n",
    ")\n",
    "cm = confusion_matrix(model.predict(X_train), y_train)\n",
    "sns.heatmap(\n",
    "    np.log1p(cm),\n",
    "    ax=ax1,\n",
    "    annot=cm,\n",
    "    fmt='d',\n",
    "    cmap='Oranges'\n",
    ")"
   ]
  },
  {
   "cell_type": "markdown",
   "id": "8cc41c19-0933-4b81-90fb-165f00803918",
   "metadata": {},
   "source": [
    "Результаты стали хуже"
   ]
  },
  {
   "cell_type": "code",
   "execution_count": 22,
   "id": "fc1fd093-f990-4792-b038-d49580a20930",
   "metadata": {},
   "outputs": [
    {
     "data": {
      "text/html": [
       "<div>\n",
       "<style scoped>\n",
       "    .dataframe tbody tr th:only-of-type {\n",
       "        vertical-align: middle;\n",
       "    }\n",
       "\n",
       "    .dataframe tbody tr th {\n",
       "        vertical-align: top;\n",
       "    }\n",
       "\n",
       "    .dataframe thead th {\n",
       "        text-align: right;\n",
       "    }\n",
       "</style>\n",
       "<table border=\"1\" class=\"dataframe\">\n",
       "  <thead>\n",
       "    <tr style=\"text-align: right;\">\n",
       "      <th></th>\n",
       "      <th>Feature</th>\n",
       "      <th>Importance</th>\n",
       "    </tr>\n",
       "  </thead>\n",
       "  <tbody>\n",
       "    <tr>\n",
       "      <th>3</th>\n",
       "      <td>ph</td>\n",
       "      <td>0.150852</td>\n",
       "    </tr>\n",
       "    <tr>\n",
       "      <th>6</th>\n",
       "      <td>lgvolume</td>\n",
       "      <td>0.146191</td>\n",
       "    </tr>\n",
       "    <tr>\n",
       "      <th>2</th>\n",
       "      <td>pot2</td>\n",
       "      <td>0.121151</td>\n",
       "    </tr>\n",
       "    <tr>\n",
       "      <th>0</th>\n",
       "      <td>X</td>\n",
       "      <td>0.119899</td>\n",
       "    </tr>\n",
       "    <tr>\n",
       "      <th>1</th>\n",
       "      <td>IR</td>\n",
       "      <td>0.113504</td>\n",
       "    </tr>\n",
       "    <tr>\n",
       "      <th>4</th>\n",
       "      <td>temp</td>\n",
       "      <td>0.108865</td>\n",
       "    </tr>\n",
       "    <tr>\n",
       "      <th>5</th>\n",
       "      <td>dstr</td>\n",
       "      <td>0.027330</td>\n",
       "    </tr>\n",
       "    <tr>\n",
       "      <th>21</th>\n",
       "      <td>TPSA</td>\n",
       "      <td>0.019111</td>\n",
       "    </tr>\n",
       "    <tr>\n",
       "      <th>22</th>\n",
       "      <td>XLogP</td>\n",
       "      <td>0.018022</td>\n",
       "    </tr>\n",
       "    <tr>\n",
       "      <th>12</th>\n",
       "      <td>BalabanJ</td>\n",
       "      <td>0.017019</td>\n",
       "    </tr>\n",
       "    <tr>\n",
       "      <th>10</th>\n",
       "      <td>VSA_EState8</td>\n",
       "      <td>0.016604</td>\n",
       "    </tr>\n",
       "    <tr>\n",
       "      <th>11</th>\n",
       "      <td>Kappa2</td>\n",
       "      <td>0.016225</td>\n",
       "    </tr>\n",
       "    <tr>\n",
       "      <th>7</th>\n",
       "      <td>MolWt</td>\n",
       "      <td>0.014997</td>\n",
       "    </tr>\n",
       "    <tr>\n",
       "      <th>23</th>\n",
       "      <td>BCUT2D_CHGLO</td>\n",
       "      <td>0.014795</td>\n",
       "    </tr>\n",
       "    <tr>\n",
       "      <th>14</th>\n",
       "      <td>MinEStateIndex</td>\n",
       "      <td>0.013042</td>\n",
       "    </tr>\n",
       "    <tr>\n",
       "      <th>18</th>\n",
       "      <td>MinPartialCharge</td>\n",
       "      <td>0.011172</td>\n",
       "    </tr>\n",
       "    <tr>\n",
       "      <th>17</th>\n",
       "      <td>PEOE_VSA8</td>\n",
       "      <td>0.011021</td>\n",
       "    </tr>\n",
       "    <tr>\n",
       "      <th>19</th>\n",
       "      <td>EState_VSA4</td>\n",
       "      <td>0.010644</td>\n",
       "    </tr>\n",
       "    <tr>\n",
       "      <th>8</th>\n",
       "      <td>PEOE_VSA7</td>\n",
       "      <td>0.010623</td>\n",
       "    </tr>\n",
       "    <tr>\n",
       "      <th>13</th>\n",
       "      <td>MinAbsEStateIndex</td>\n",
       "      <td>0.010531</td>\n",
       "    </tr>\n",
       "    <tr>\n",
       "      <th>9</th>\n",
       "      <td>PEOE_VSA9</td>\n",
       "      <td>0.009712</td>\n",
       "    </tr>\n",
       "    <tr>\n",
       "      <th>20</th>\n",
       "      <td>SMR_VSA7</td>\n",
       "      <td>0.009429</td>\n",
       "    </tr>\n",
       "    <tr>\n",
       "      <th>15</th>\n",
       "      <td>EState_VSA6</td>\n",
       "      <td>0.004857</td>\n",
       "    </tr>\n",
       "    <tr>\n",
       "      <th>16</th>\n",
       "      <td>VSA_EState4</td>\n",
       "      <td>0.004407</td>\n",
       "    </tr>\n",
       "  </tbody>\n",
       "</table>\n",
       "</div>"
      ],
      "text/plain": [
       "              Feature  Importance\n",
       "3                  ph    0.150852\n",
       "6            lgvolume    0.146191\n",
       "2                pot2    0.121151\n",
       "0                   X    0.119899\n",
       "1                  IR    0.113504\n",
       "4                temp    0.108865\n",
       "5                dstr    0.027330\n",
       "21               TPSA    0.019111\n",
       "22              XLogP    0.018022\n",
       "12           BalabanJ    0.017019\n",
       "10        VSA_EState8    0.016604\n",
       "11             Kappa2    0.016225\n",
       "7               MolWt    0.014997\n",
       "23       BCUT2D_CHGLO    0.014795\n",
       "14     MinEStateIndex    0.013042\n",
       "18   MinPartialCharge    0.011172\n",
       "17          PEOE_VSA8    0.011021\n",
       "19        EState_VSA4    0.010644\n",
       "8           PEOE_VSA7    0.010623\n",
       "13  MinAbsEStateIndex    0.010531\n",
       "9           PEOE_VSA9    0.009712\n",
       "20           SMR_VSA7    0.009429\n",
       "15        EState_VSA6    0.004857\n",
       "16        VSA_EState4    0.004407"
      ]
     },
     "execution_count": 22,
     "metadata": {},
     "output_type": "execute_result"
    }
   ],
   "source": [
    "feature_importance = pd.DataFrame({\n",
    "    'Feature': X.columns,\n",
    "    'Importance': model.feature_importances_\n",
    "})\n",
    "feature_importance.sort_values(by='Importance', ascending=False)"
   ]
  },
  {
   "cell_type": "code",
   "execution_count": 23,
   "id": "3209b699-52b9-43f3-aedb-ca1aad59b44d",
   "metadata": {},
   "outputs": [
    {
     "name": "stdout",
     "output_type": "stream",
     "text": [
      "Частицы у которых есть несколько активностей: 62\n"
     ]
    }
   ],
   "source": [
    "# Проверка что у одной частицы может быть много активностей\n",
    "print(\"Частицы у которых есть несколько активностей:\", df.drop(\"activity\", axis=1).duplicated().sum())"
   ]
  },
  {
   "cell_type": "markdown",
   "id": "d7d608a5-0120-4cbb-a29d-51bb019bca47",
   "metadata": {},
   "source": [
    "# Просто удалим дублированные"
   ]
  },
  {
   "cell_type": "code",
   "execution_count": 24,
   "id": "1ccaba66-2289-421d-81c8-aec6e43effd7",
   "metadata": {},
   "outputs": [
    {
     "name": "stdout",
     "output_type": "stream",
     "text": [
      "Частицы у которых есть несколько активностей: 0\n"
     ]
    }
   ],
   "source": [
    "df_one_activity = df[~df.drop(\"activity\", axis=1).duplicated()]\n",
    "print(\"Частицы у которых есть несколько активностей:\", df_one_activity.drop(\"activity\", axis=1).duplicated().sum())"
   ]
  },
  {
   "cell_type": "code",
   "execution_count": 25,
   "id": "3f95ccde-cd93-4ac0-bbd4-e9931ca385dd",
   "metadata": {},
   "outputs": [
    {
     "data": {
      "text/plain": [
       "(1960, 25)"
      ]
     },
     "execution_count": 25,
     "metadata": {},
     "output_type": "execute_result"
    }
   ],
   "source": [
    "df_one_activity.shape"
   ]
  },
  {
   "cell_type": "code",
   "execution_count": 26,
   "id": "81631445-a295-4be4-a6b7-628cfacd1fbe",
   "metadata": {},
   "outputs": [
    {
     "name": "stdout",
     "output_type": "stream",
     "text": [
      "(1960, 25)\n"
     ]
    }
   ],
   "source": [
    "df_one_activity = df_one_activity.drop_duplicates(ignore_index=True)\n",
    "print(df_one_activity.shape)"
   ]
  },
  {
   "cell_type": "code",
   "execution_count": 27,
   "id": "20fc9966-ebd0-448b-a026-808eadf13c0d",
   "metadata": {},
   "outputs": [],
   "source": [
    "# Разделяем на целевой признак и на входные\n",
    "X = df_one_activity.drop('activity', axis=1)\n",
    "y = pd.DataFrame(df_one_activity['activity'])\n",
    "\n",
    "# Разделяем данные на тренировочную и тестовую выборки\n",
    "X_train, X_test, y_train, y_test = train_test_split(X, y, test_size=TEST_SIZE, random_state=RANDOM_STATE, stratify=y)"
   ]
  },
  {
   "cell_type": "code",
   "execution_count": 28,
   "id": "b6a6933d-a74c-4365-8923-dfc150deffb0",
   "metadata": {},
   "outputs": [
    {
     "name": "stderr",
     "output_type": "stream",
     "text": [
      "/home/oleg/Programs/.venv/lib/python3.12/site-packages/sklearn/base.py:1473: DataConversionWarning: A column-vector y was passed when a 1d array was expected. Please change the shape of y to (n_samples,), for example using ravel().\n",
      "  return fit_method(estimator, *args, **kwargs)\n"
     ]
    },
    {
     "data": {
      "text/plain": [
       "<Axes: title={'center': 'Train'}>"
      ]
     },
     "execution_count": 28,
     "metadata": {},
     "output_type": "execute_result"
    },
    {
     "data": {
      "image/png": "[encoded data removed]",
      "text/plain": [
       "<Figure size 1100x400 with 4 Axes>"
      ]
     },
     "metadata": {},
     "output_type": "display_data"
    }
   ],
   "source": [
    "model = RandomForestClassifier(random_state=RANDOM_STATE)\n",
    "model.fit(X_train, y_train)\n",
    "fig, (ax1, ax2) = plt.subplots(1, 2)\n",
    "ax1.set_title(\"Train\")\n",
    "ax2.set_title(\"Test\")\n",
    "fig.set_size_inches(11, 4)\n",
    "cm = confusion_matrix(model.predict(X_test), y_test)\n",
    "sns.heatmap(\n",
    "    np.log1p(cm),\n",
    "    ax=ax2,\n",
    "    annot=cm,\n",
    "    fmt='d',\n",
    "    cmap='Oranges'\n",
    ")\n",
    "cm = confusion_matrix(model.predict(X_train), y_train)\n",
    "sns.heatmap(\n",
    "    np.log1p(cm),\n",
    "    ax=ax1,\n",
    "    annot=cm,\n",
    "    fmt='d',\n",
    "    cmap='Oranges'\n",
    ")"
   ]
  },
  {
   "cell_type": "markdown",
   "id": "1caaf0fa-97b0-46e0-aa0b-9654d37955b5",
   "metadata": {},
   "source": [
    "Результаты чуть-чуть стали лучше"
   ]
  },
  {
   "cell_type": "code",
   "execution_count": 29,
   "id": "04651f4e-90a8-4d46-93e4-0cede1c05f34",
   "metadata": {},
   "outputs": [
    {
     "data": {
      "text/html": [
       "<div>\n",
       "<style scoped>\n",
       "    .dataframe tbody tr th:only-of-type {\n",
       "        vertical-align: middle;\n",
       "    }\n",
       "\n",
       "    .dataframe tbody tr th {\n",
       "        vertical-align: top;\n",
       "    }\n",
       "\n",
       "    .dataframe thead th {\n",
       "        text-align: right;\n",
       "    }\n",
       "</style>\n",
       "<table border=\"1\" class=\"dataframe\">\n",
       "  <thead>\n",
       "    <tr style=\"text-align: right;\">\n",
       "      <th></th>\n",
       "      <th>Feature</th>\n",
       "      <th>Importance</th>\n",
       "    </tr>\n",
       "  </thead>\n",
       "  <tbody>\n",
       "    <tr>\n",
       "      <th>3</th>\n",
       "      <td>ph</td>\n",
       "      <td>0.148892</td>\n",
       "    </tr>\n",
       "    <tr>\n",
       "      <th>6</th>\n",
       "      <td>lgvolume</td>\n",
       "      <td>0.141755</td>\n",
       "    </tr>\n",
       "    <tr>\n",
       "      <th>2</th>\n",
       "      <td>pot2</td>\n",
       "      <td>0.128830</td>\n",
       "    </tr>\n",
       "    <tr>\n",
       "      <th>4</th>\n",
       "      <td>temp</td>\n",
       "      <td>0.116091</td>\n",
       "    </tr>\n",
       "    <tr>\n",
       "      <th>0</th>\n",
       "      <td>X</td>\n",
       "      <td>0.115978</td>\n",
       "    </tr>\n",
       "    <tr>\n",
       "      <th>1</th>\n",
       "      <td>IR</td>\n",
       "      <td>0.102446</td>\n",
       "    </tr>\n",
       "    <tr>\n",
       "      <th>5</th>\n",
       "      <td>dstr</td>\n",
       "      <td>0.025739</td>\n",
       "    </tr>\n",
       "    <tr>\n",
       "      <th>22</th>\n",
       "      <td>XLogP</td>\n",
       "      <td>0.019180</td>\n",
       "    </tr>\n",
       "    <tr>\n",
       "      <th>21</th>\n",
       "      <td>TPSA</td>\n",
       "      <td>0.018675</td>\n",
       "    </tr>\n",
       "    <tr>\n",
       "      <th>10</th>\n",
       "      <td>VSA_EState8</td>\n",
       "      <td>0.017626</td>\n",
       "    </tr>\n",
       "    <tr>\n",
       "      <th>12</th>\n",
       "      <td>BalabanJ</td>\n",
       "      <td>0.017511</td>\n",
       "    </tr>\n",
       "    <tr>\n",
       "      <th>11</th>\n",
       "      <td>Kappa2</td>\n",
       "      <td>0.017504</td>\n",
       "    </tr>\n",
       "    <tr>\n",
       "      <th>7</th>\n",
       "      <td>MolWt</td>\n",
       "      <td>0.016215</td>\n",
       "    </tr>\n",
       "    <tr>\n",
       "      <th>14</th>\n",
       "      <td>MinEStateIndex</td>\n",
       "      <td>0.014145</td>\n",
       "    </tr>\n",
       "    <tr>\n",
       "      <th>18</th>\n",
       "      <td>MinPartialCharge</td>\n",
       "      <td>0.013813</td>\n",
       "    </tr>\n",
       "    <tr>\n",
       "      <th>23</th>\n",
       "      <td>BCUT2D_CHGLO</td>\n",
       "      <td>0.012574</td>\n",
       "    </tr>\n",
       "    <tr>\n",
       "      <th>17</th>\n",
       "      <td>PEOE_VSA8</td>\n",
       "      <td>0.012550</td>\n",
       "    </tr>\n",
       "    <tr>\n",
       "      <th>13</th>\n",
       "      <td>MinAbsEStateIndex</td>\n",
       "      <td>0.011751</td>\n",
       "    </tr>\n",
       "    <tr>\n",
       "      <th>9</th>\n",
       "      <td>PEOE_VSA9</td>\n",
       "      <td>0.010063</td>\n",
       "    </tr>\n",
       "    <tr>\n",
       "      <th>19</th>\n",
       "      <td>EState_VSA4</td>\n",
       "      <td>0.009519</td>\n",
       "    </tr>\n",
       "    <tr>\n",
       "      <th>20</th>\n",
       "      <td>SMR_VSA7</td>\n",
       "      <td>0.009343</td>\n",
       "    </tr>\n",
       "    <tr>\n",
       "      <th>8</th>\n",
       "      <td>PEOE_VSA7</td>\n",
       "      <td>0.009317</td>\n",
       "    </tr>\n",
       "    <tr>\n",
       "      <th>16</th>\n",
       "      <td>VSA_EState4</td>\n",
       "      <td>0.005800</td>\n",
       "    </tr>\n",
       "    <tr>\n",
       "      <th>15</th>\n",
       "      <td>EState_VSA6</td>\n",
       "      <td>0.004684</td>\n",
       "    </tr>\n",
       "  </tbody>\n",
       "</table>\n",
       "</div>"
      ],
      "text/plain": [
       "              Feature  Importance\n",
       "3                  ph    0.148892\n",
       "6            lgvolume    0.141755\n",
       "2                pot2    0.128830\n",
       "4                temp    0.116091\n",
       "0                   X    0.115978\n",
       "1                  IR    0.102446\n",
       "5                dstr    0.025739\n",
       "22              XLogP    0.019180\n",
       "21               TPSA    0.018675\n",
       "10        VSA_EState8    0.017626\n",
       "12           BalabanJ    0.017511\n",
       "11             Kappa2    0.017504\n",
       "7               MolWt    0.016215\n",
       "14     MinEStateIndex    0.014145\n",
       "18   MinPartialCharge    0.013813\n",
       "23       BCUT2D_CHGLO    0.012574\n",
       "17          PEOE_VSA8    0.012550\n",
       "13  MinAbsEStateIndex    0.011751\n",
       "9           PEOE_VSA9    0.010063\n",
       "19        EState_VSA4    0.009519\n",
       "20           SMR_VSA7    0.009343\n",
       "8           PEOE_VSA7    0.009317\n",
       "16        VSA_EState4    0.005800\n",
       "15        EState_VSA6    0.004684"
      ]
     },
     "execution_count": 29,
     "metadata": {},
     "output_type": "execute_result"
    }
   ],
   "source": [
    "feature_importance = pd.DataFrame({\n",
    "    'Feature': X.columns,\n",
    "    'Importance': model.feature_importances_\n",
    "})\n",
    "feature_importance.sort_values(by='Importance', ascending=False)"
   ]
  },
  {
   "cell_type": "markdown",
   "id": "913c1a99-8042-48cf-a03c-b325d561b0dd",
   "metadata": {},
   "source": [
    "# Multiclass prediction"
   ]
  },
  {
   "cell_type": "code",
   "execution_count": 30,
   "id": "1be84474-ea6c-4c52-96d5-cb9af74dee37",
   "metadata": {},
   "outputs": [],
   "source": [
    "one_hot = pd.get_dummies(df['activity'])"
   ]
  },
  {
   "cell_type": "code",
   "execution_count": 31,
   "id": "a2427737-5072-4c5a-88b5-c30c1e8ba997",
   "metadata": {},
   "outputs": [],
   "source": [
    "df_encoded = pd.concat([df.drop(columns=['activity']), one_hot], axis=1)"
   ]
  },
  {
   "cell_type": "code",
   "execution_count": 32,
   "id": "70c7aeaf-8b34-438b-a394-9df27e8b63fb",
   "metadata": {},
   "outputs": [
    {
     "data": {
      "text/html": [
       "<div>\n",
       "<style scoped>\n",
       "    .dataframe tbody tr th:only-of-type {\n",
       "        vertical-align: middle;\n",
       "    }\n",
       "\n",
       "    .dataframe tbody tr th {\n",
       "        vertical-align: top;\n",
       "    }\n",
       "\n",
       "    .dataframe thead th {\n",
       "        text-align: right;\n",
       "    }\n",
       "</style>\n",
       "<table border=\"1\" class=\"dataframe\">\n",
       "  <thead>\n",
       "    <tr style=\"text-align: right;\">\n",
       "      <th></th>\n",
       "      <th>BCUT2D_CHGLO</th>\n",
       "      <th>BalabanJ</th>\n",
       "      <th>EState_VSA4</th>\n",
       "      <th>EState_VSA6</th>\n",
       "      <th>IR</th>\n",
       "      <th>Kappa2</th>\n",
       "      <th>MinAbsEStateIndex</th>\n",
       "      <th>MinEStateIndex</th>\n",
       "      <th>MinPartialCharge</th>\n",
       "      <th>MolWt</th>\n",
       "      <th>...</th>\n",
       "      <th>lgvolume</th>\n",
       "      <th>ph</th>\n",
       "      <th>pot2</th>\n",
       "      <th>temp</th>\n",
       "      <th>1</th>\n",
       "      <th>2</th>\n",
       "      <th>3</th>\n",
       "      <th>4</th>\n",
       "      <th>5</th>\n",
       "      <th>6</th>\n",
       "    </tr>\n",
       "  </thead>\n",
       "  <tbody>\n",
       "    <tr>\n",
       "      <th>0</th>\n",
       "      <td>-2.590745</td>\n",
       "      <td>0.000002</td>\n",
       "      <td>84.228636</td>\n",
       "      <td>0.000000</td>\n",
       "      <td>1.130000</td>\n",
       "      <td>17.519668</td>\n",
       "      <td>0.428299</td>\n",
       "      <td>0.428299</td>\n",
       "      <td>-0.376668</td>\n",
       "      <td>799.366</td>\n",
       "      <td>...</td>\n",
       "      <td>1.988273</td>\n",
       "      <td>4.0</td>\n",
       "      <td>0.860000</td>\n",
       "      <td>60.0</td>\n",
       "      <td>0</td>\n",
       "      <td>1</td>\n",
       "      <td>0</td>\n",
       "      <td>0</td>\n",
       "      <td>0</td>\n",
       "      <td>0</td>\n",
       "    </tr>\n",
       "    <tr>\n",
       "      <th>1</th>\n",
       "      <td>-2.557662</td>\n",
       "      <td>1.897367</td>\n",
       "      <td>0.000000</td>\n",
       "      <td>0.000000</td>\n",
       "      <td>1.084000</td>\n",
       "      <td>1.707240</td>\n",
       "      <td>1.187500</td>\n",
       "      <td>1.187500</td>\n",
       "      <td>-0.264357</td>\n",
       "      <td>140.190</td>\n",
       "      <td>...</td>\n",
       "      <td>4.206747</td>\n",
       "      <td>4.0</td>\n",
       "      <td>-0.103000</td>\n",
       "      <td>25.0</td>\n",
       "      <td>1</td>\n",
       "      <td>0</td>\n",
       "      <td>0</td>\n",
       "      <td>0</td>\n",
       "      <td>0</td>\n",
       "      <td>0</td>\n",
       "    </tr>\n",
       "    <tr>\n",
       "      <th>2</th>\n",
       "      <td>-2.557662</td>\n",
       "      <td>1.897367</td>\n",
       "      <td>0.000000</td>\n",
       "      <td>0.000000</td>\n",
       "      <td>1.084000</td>\n",
       "      <td>1.707240</td>\n",
       "      <td>1.187500</td>\n",
       "      <td>1.187500</td>\n",
       "      <td>-0.264357</td>\n",
       "      <td>140.190</td>\n",
       "      <td>...</td>\n",
       "      <td>7.178273</td>\n",
       "      <td>4.0</td>\n",
       "      <td>-0.103000</td>\n",
       "      <td>25.0</td>\n",
       "      <td>1</td>\n",
       "      <td>1</td>\n",
       "      <td>0</td>\n",
       "      <td>0</td>\n",
       "      <td>0</td>\n",
       "      <td>0</td>\n",
       "    </tr>\n",
       "    <tr>\n",
       "      <th>3</th>\n",
       "      <td>-2.557662</td>\n",
       "      <td>1.897367</td>\n",
       "      <td>0.000000</td>\n",
       "      <td>0.000000</td>\n",
       "      <td>1.299000</td>\n",
       "      <td>1.707240</td>\n",
       "      <td>1.187500</td>\n",
       "      <td>1.187500</td>\n",
       "      <td>-0.264357</td>\n",
       "      <td>140.190</td>\n",
       "      <td>...</td>\n",
       "      <td>4.644439</td>\n",
       "      <td>9.0</td>\n",
       "      <td>-0.483400</td>\n",
       "      <td>90.0</td>\n",
       "      <td>0</td>\n",
       "      <td>0</td>\n",
       "      <td>1</td>\n",
       "      <td>0</td>\n",
       "      <td>0</td>\n",
       "      <td>0</td>\n",
       "    </tr>\n",
       "    <tr>\n",
       "      <th>4</th>\n",
       "      <td>-2.508322</td>\n",
       "      <td>0.793726</td>\n",
       "      <td>7.109798</td>\n",
       "      <td>0.000000</td>\n",
       "      <td>0.300000</td>\n",
       "      <td>37.200135</td>\n",
       "      <td>0.761515</td>\n",
       "      <td>-2.041622</td>\n",
       "      <td>-0.452876</td>\n",
       "      <td>1526.464</td>\n",
       "      <td>...</td>\n",
       "      <td>7.632204</td>\n",
       "      <td>4.0</td>\n",
       "      <td>0.000000</td>\n",
       "      <td>42.0</td>\n",
       "      <td>1</td>\n",
       "      <td>0</td>\n",
       "      <td>0</td>\n",
       "      <td>0</td>\n",
       "      <td>0</td>\n",
       "      <td>0</td>\n",
       "    </tr>\n",
       "    <tr>\n",
       "      <th>...</th>\n",
       "      <td>...</td>\n",
       "      <td>...</td>\n",
       "      <td>...</td>\n",
       "      <td>...</td>\n",
       "      <td>...</td>\n",
       "      <td>...</td>\n",
       "      <td>...</td>\n",
       "      <td>...</td>\n",
       "      <td>...</td>\n",
       "      <td>...</td>\n",
       "      <td>...</td>\n",
       "      <td>...</td>\n",
       "      <td>...</td>\n",
       "      <td>...</td>\n",
       "      <td>...</td>\n",
       "      <td>...</td>\n",
       "      <td>...</td>\n",
       "      <td>...</td>\n",
       "      <td>...</td>\n",
       "      <td>...</td>\n",
       "      <td>...</td>\n",
       "    </tr>\n",
       "    <tr>\n",
       "      <th>1955</th>\n",
       "      <td>0.000000</td>\n",
       "      <td>0.000004</td>\n",
       "      <td>61.628008</td>\n",
       "      <td>12.152040</td>\n",
       "      <td>1.400000</td>\n",
       "      <td>12.414398</td>\n",
       "      <td>0.000000</td>\n",
       "      <td>-0.898260</td>\n",
       "      <td>-0.657365</td>\n",
       "      <td>616.499</td>\n",
       "      <td>...</td>\n",
       "      <td>5.602060</td>\n",
       "      <td>4.0</td>\n",
       "      <td>-0.040000</td>\n",
       "      <td>40.0</td>\n",
       "      <td>1</td>\n",
       "      <td>0</td>\n",
       "      <td>0</td>\n",
       "      <td>0</td>\n",
       "      <td>0</td>\n",
       "      <td>0</td>\n",
       "    </tr>\n",
       "    <tr>\n",
       "      <th>1956</th>\n",
       "      <td>0.000000</td>\n",
       "      <td>0.000005</td>\n",
       "      <td>12.841643</td>\n",
       "      <td>30.331835</td>\n",
       "      <td>0.832600</td>\n",
       "      <td>14.471101</td>\n",
       "      <td>0.000000</td>\n",
       "      <td>-3.570539</td>\n",
       "      <td>-0.266374</td>\n",
       "      <td>349.492</td>\n",
       "      <td>...</td>\n",
       "      <td>2.535294</td>\n",
       "      <td>4.0</td>\n",
       "      <td>0.279000</td>\n",
       "      <td>35.0</td>\n",
       "      <td>1</td>\n",
       "      <td>0</td>\n",
       "      <td>0</td>\n",
       "      <td>0</td>\n",
       "      <td>0</td>\n",
       "      <td>0</td>\n",
       "    </tr>\n",
       "    <tr>\n",
       "      <th>1957</th>\n",
       "      <td>0.000000</td>\n",
       "      <td>0.000005</td>\n",
       "      <td>12.841643</td>\n",
       "      <td>30.331835</td>\n",
       "      <td>1.025600</td>\n",
       "      <td>14.471101</td>\n",
       "      <td>0.000000</td>\n",
       "      <td>-3.570539</td>\n",
       "      <td>-0.266374</td>\n",
       "      <td>349.492</td>\n",
       "      <td>...</td>\n",
       "      <td>2.535294</td>\n",
       "      <td>4.0</td>\n",
       "      <td>0.279000</td>\n",
       "      <td>35.0</td>\n",
       "      <td>1</td>\n",
       "      <td>0</td>\n",
       "      <td>0</td>\n",
       "      <td>0</td>\n",
       "      <td>0</td>\n",
       "      <td>0</td>\n",
       "    </tr>\n",
       "    <tr>\n",
       "      <th>1958</th>\n",
       "      <td>0.000000</td>\n",
       "      <td>0.000005</td>\n",
       "      <td>0.000000</td>\n",
       "      <td>24.265468</td>\n",
       "      <td>1.114286</td>\n",
       "      <td>14.883585</td>\n",
       "      <td>0.000000</td>\n",
       "      <td>-4.660983</td>\n",
       "      <td>-0.747944</td>\n",
       "      <td>534.516</td>\n",
       "      <td>...</td>\n",
       "      <td>7.027268</td>\n",
       "      <td>3.0</td>\n",
       "      <td>-0.015429</td>\n",
       "      <td>35.0</td>\n",
       "      <td>1</td>\n",
       "      <td>0</td>\n",
       "      <td>0</td>\n",
       "      <td>0</td>\n",
       "      <td>0</td>\n",
       "      <td>0</td>\n",
       "    </tr>\n",
       "    <tr>\n",
       "      <th>1959</th>\n",
       "      <td>0.000000</td>\n",
       "      <td>0.000009</td>\n",
       "      <td>4.899910</td>\n",
       "      <td>116.314521</td>\n",
       "      <td>1.350000</td>\n",
       "      <td>79.078087</td>\n",
       "      <td>0.000000</td>\n",
       "      <td>-2.974537</td>\n",
       "      <td>-0.550042</td>\n",
       "      <td>2493.666</td>\n",
       "      <td>...</td>\n",
       "      <td>2.096910</td>\n",
       "      <td>4.0</td>\n",
       "      <td>1.200000</td>\n",
       "      <td>35.0</td>\n",
       "      <td>0</td>\n",
       "      <td>1</td>\n",
       "      <td>0</td>\n",
       "      <td>0</td>\n",
       "      <td>0</td>\n",
       "      <td>0</td>\n",
       "    </tr>\n",
       "  </tbody>\n",
       "</table>\n",
       "<p>1960 rows × 30 columns</p>\n",
       "</div>"
      ],
      "text/plain": [
       "      BCUT2D_CHGLO  BalabanJ  EState_VSA4  EState_VSA6        IR     Kappa2  \\\n",
       "0        -2.590745  0.000002    84.228636     0.000000  1.130000  17.519668   \n",
       "1        -2.557662  1.897367     0.000000     0.000000  1.084000   1.707240   \n",
       "2        -2.557662  1.897367     0.000000     0.000000  1.084000   1.707240   \n",
       "3        -2.557662  1.897367     0.000000     0.000000  1.299000   1.707240   \n",
       "4        -2.508322  0.793726     7.109798     0.000000  0.300000  37.200135   \n",
       "...            ...       ...          ...          ...       ...        ...   \n",
       "1955      0.000000  0.000004    61.628008    12.152040  1.400000  12.414398   \n",
       "1956      0.000000  0.000005    12.841643    30.331835  0.832600  14.471101   \n",
       "1957      0.000000  0.000005    12.841643    30.331835  1.025600  14.471101   \n",
       "1958      0.000000  0.000005     0.000000    24.265468  1.114286  14.883585   \n",
       "1959      0.000000  0.000009     4.899910   116.314521  1.350000  79.078087   \n",
       "\n",
       "      MinAbsEStateIndex  MinEStateIndex  MinPartialCharge     MolWt  ...  \\\n",
       "0              0.428299        0.428299         -0.376668   799.366  ...   \n",
       "1              1.187500        1.187500         -0.264357   140.190  ...   \n",
       "2              1.187500        1.187500         -0.264357   140.190  ...   \n",
       "3              1.187500        1.187500         -0.264357   140.190  ...   \n",
       "4              0.761515       -2.041622         -0.452876  1526.464  ...   \n",
       "...                 ...             ...               ...       ...  ...   \n",
       "1955           0.000000       -0.898260         -0.657365   616.499  ...   \n",
       "1956           0.000000       -3.570539         -0.266374   349.492  ...   \n",
       "1957           0.000000       -3.570539         -0.266374   349.492  ...   \n",
       "1958           0.000000       -4.660983         -0.747944   534.516  ...   \n",
       "1959           0.000000       -2.974537         -0.550042  2493.666  ...   \n",
       "\n",
       "      lgvolume   ph      pot2  temp  1  2  3  4  5  6  \n",
       "0     1.988273  4.0  0.860000  60.0  0  1  0  0  0  0  \n",
       "1     4.206747  4.0 -0.103000  25.0  1  0  0  0  0  0  \n",
       "2     7.178273  4.0 -0.103000  25.0  1  1  0  0  0  0  \n",
       "3     4.644439  9.0 -0.483400  90.0  0  0  1  0  0  0  \n",
       "4     7.632204  4.0  0.000000  42.0  1  0  0  0  0  0  \n",
       "...        ...  ...       ...   ... .. .. .. .. .. ..  \n",
       "1955  5.602060  4.0 -0.040000  40.0  1  0  0  0  0  0  \n",
       "1956  2.535294  4.0  0.279000  35.0  1  0  0  0  0  0  \n",
       "1957  2.535294  4.0  0.279000  35.0  1  0  0  0  0  0  \n",
       "1958  7.027268  3.0 -0.015429  35.0  1  0  0  0  0  0  \n",
       "1959  2.096910  4.0  1.200000  35.0  0  1  0  0  0  0  \n",
       "\n",
       "[1960 rows x 30 columns]"
      ]
     },
     "execution_count": 32,
     "metadata": {},
     "output_type": "execute_result"
    }
   ],
   "source": [
    "grouped = df_encoded.groupby(df_encoded.columns.difference(one_hot.columns.tolist()).tolist(), as_index=False).sum()\n",
    "grouped"
   ]
  },
  {
   "cell_type": "code",
   "execution_count": 33,
   "id": "96909b40-d6ea-4413-be23-f5fe5f261133",
   "metadata": {},
   "outputs": [],
   "source": [
    "X = grouped[df.drop(columns=[\"activity\"]).columns]"
   ]
  },
  {
   "cell_type": "code",
   "execution_count": 34,
   "id": "32572db7-7461-422f-a9a6-89b500600056",
   "metadata": {},
   "outputs": [
    {
     "data": {
      "text/plain": [
       "Index([     'BCUT2D_CHGLO',          'BalabanJ',       'EState_VSA4',\n",
       "             'EState_VSA6',                'IR',            'Kappa2',\n",
       "       'MinAbsEStateIndex',    'MinEStateIndex',  'MinPartialCharge',\n",
       "                   'MolWt',         'PEOE_VSA7',         'PEOE_VSA8',\n",
       "               'PEOE_VSA9',          'SMR_VSA7',              'TPSA',\n",
       "             'VSA_EState4',       'VSA_EState8',                 'X',\n",
       "                   'XLogP',              'dstr',          'lgvolume',\n",
       "                      'ph',              'pot2',              'temp',\n",
       "                         1,                   2,                   3,\n",
       "                         4,                   5,                   6],\n",
       "      dtype='object')"
      ]
     },
     "execution_count": 34,
     "metadata": {},
     "output_type": "execute_result"
    }
   ],
   "source": [
    "grouped.columns"
   ]
  },
  {
   "cell_type": "code",
   "execution_count": 35,
   "id": "98b7fe4b-3753-4a9c-9d81-2848d7658741",
   "metadata": {},
   "outputs": [
    {
     "data": {
      "image/png": "[encoded data removed]",
      "text/plain": [
       "<Figure size 1100x400 with 4 Axes>"
      ]
     },
     "metadata": {},
     "output_type": "display_data"
    },
    {
     "data": {
      "image/png": "[encoded data removed]",
      "text/plain": [
       "<Figure size 1100x400 with 4 Axes>"
      ]
     },
     "metadata": {},
     "output_type": "display_data"
    },
    {
     "data": {
      "image/png": "[encoded data removed]",
      "text/plain": [
       "<Figure size 1100x400 with 4 Axes>"
      ]
     },
     "metadata": {},
     "output_type": "display_data"
    },
    {
     "data": {
      "image/png": "[encoded data removed]",
      "text/plain": [
       "<Figure size 1100x400 with 4 Axes>"
      ]
     },
     "metadata": {},
     "output_type": "display_data"
    },
    {
     "data": {
      "image/png": "[encoded data removed]",
      "text/plain": [
       "<Figure size 1100x400 with 4 Axes>"
      ]
     },
     "metadata": {},
     "output_type": "display_data"
    },
    {
     "data": {
      "image/png": "[encoded data removed]",
      "text/plain": [
       "<Figure size 1100x400 with 4 Axes>"
      ]
     },
     "metadata": {},
     "output_type": "display_data"
    }
   ],
   "source": [
    "for i in range(1, 7):\n",
    "    y = grouped[i]\n",
    "    X_train, X_test, y_train, y_test = train_test_split(X, y, test_size=TEST_SIZE, random_state=RANDOM_STATE, stratify=y)\n",
    "    model = RandomForestClassifier(random_state=RANDOM_STATE)\n",
    "    model.fit(X_train, y_train)\n",
    "    fig, (ax1, ax2) = plt.subplots(1, 2)\n",
    "    fig.suptitle(activities_frequent[i-1])\n",
    "    ax1.set_title(\"Train\")\n",
    "    ax2.set_title(\"Test\")\n",
    "    fig.set_size_inches(11, 4)\n",
    "    cm = confusion_matrix(model.predict(X_test), y_test)\n",
    "    sns.heatmap(\n",
    "        np.log1p(cm),\n",
    "        ax=ax2,\n",
    "        annot=cm,\n",
    "        fmt='d',\n",
    "        cmap='Oranges'\n",
    "    )\n",
    "    cm = confusion_matrix(model.predict(X_train), y_train)\n",
    "    sns.heatmap(\n",
    "        np.log1p(cm),\n",
    "        ax=ax1,\n",
    "        annot=cm,\n",
    "        fmt='d',\n",
    "        cmap='Oranges'\n",
    "    )\n",
    "    plt.show()"
   ]
  },
  {
   "cell_type": "markdown",
   "id": "8d95dc99-ad5c-48e2-8a88-eeee856a810e",
   "metadata": {},
   "source": [
    "Тут вообще сложно оценить, качество классификации"
   ]
  },
  {
   "cell_type": "markdown",
   "id": "a8754235-ca17-4104-88d3-3e9707c366ba",
   "metadata": {
    "jp-MarkdownHeadingCollapsed": true
   },
   "source": [
    "# Различные тесты балансировок и генерации\n",
    "Тут смотреть пока не чего"
   ]
  },
  {
   "cell_type": "markdown",
   "id": "65c3fa19-bb24-42d8-b575-230df7d2ffff",
   "metadata": {},
   "source": [
    "## weighted classes"
   ]
  },
  {
   "cell_type": "code",
   "execution_count": 36,
   "id": "7c3fd4fb-f06b-4152-ab23-567e66c7ccad",
   "metadata": {},
   "outputs": [],
   "source": [
    "from sklearn.utils.class_weight import compute_class_weight"
   ]
  },
  {
   "cell_type": "code",
   "execution_count": 37,
   "id": "256ed8c7-c269-4127-bf7e-20d20b84f471",
   "metadata": {},
   "outputs": [
    {
     "name": "stdout",
     "output_type": "stream",
     "text": [
      "[ 0.20957711  1.39834025  2.78512397  9.36111111 42.125      42.125     ]\n",
      "{1: np.float64(0.2095771144278607), 2: np.float64(1.3983402489626555), 3: np.float64(2.7851239669421486), 4: np.float64(9.36111111111111), 5: np.float64(42.125), 6: np.float64(42.125)}\n"
     ]
    }
   ],
   "source": [
    "class_weights = compute_class_weight('balanced', classes=df[\"activity\"].unique(), y=df[\"activity\"])\n",
    "print(class_weights)\n",
    "print(dict(enumerate(class_weights, start=1)))"
   ]
  },
  {
   "cell_type": "code",
   "execution_count": 38,
   "id": "25bf992f-2373-4db9-b1b0-98bbe9f37871",
   "metadata": {},
   "outputs": [
    {
     "ename": "ValueError",
     "evalue": "The classes, [0], are not in class_weight",
     "output_type": "error",
     "traceback": [
      "\u001b[31m---------------------------------------------------------------------------\u001b[39m",
      "\u001b[31mValueError\u001b[39m                                Traceback (most recent call last)",
      "\u001b[36mCell\u001b[39m\u001b[36m \u001b[39m\u001b[32mIn[38]\u001b[39m\u001b[32m, line 5\u001b[39m\n\u001b[32m      1\u001b[39m model = RandomForestClassifier(\n\u001b[32m      2\u001b[39m     random_state=RANDOM_STATE,\n\u001b[32m      3\u001b[39m     class_weight=\u001b[38;5;28mdict\u001b[39m(\u001b[38;5;28menumerate\u001b[39m(class_weights, start=\u001b[32m1\u001b[39m))\n\u001b[32m      4\u001b[39m )\n\u001b[32m----> \u001b[39m\u001b[32m5\u001b[39m \u001b[43mmodel\u001b[49m\u001b[43m.\u001b[49m\u001b[43mfit\u001b[49m\u001b[43m(\u001b[49m\u001b[43mX_train\u001b[49m\u001b[43m,\u001b[49m\u001b[43m \u001b[49m\u001b[43my_train\u001b[49m\u001b[43m)\u001b[49m\n\u001b[32m      6\u001b[39m fig, (ax1, ax2) = plt.subplots(\u001b[32m1\u001b[39m, \u001b[32m2\u001b[39m)\n\u001b[32m      7\u001b[39m fig.set_size_inches(\u001b[32m10\u001b[39m, \u001b[32m5\u001b[39m)\n",
      "\u001b[36mFile \u001b[39m\u001b[32m~/Programs/.venv/lib/python3.12/site-packages/sklearn/base.py:1473\u001b[39m, in \u001b[36m_fit_context.<locals>.decorator.<locals>.wrapper\u001b[39m\u001b[34m(estimator, *args, **kwargs)\u001b[39m\n\u001b[32m   1466\u001b[39m     estimator._validate_params()\n\u001b[32m   1468\u001b[39m \u001b[38;5;28;01mwith\u001b[39;00m config_context(\n\u001b[32m   1469\u001b[39m     skip_parameter_validation=(\n\u001b[32m   1470\u001b[39m         prefer_skip_nested_validation \u001b[38;5;129;01mor\u001b[39;00m global_skip_validation\n\u001b[32m   1471\u001b[39m     )\n\u001b[32m   1472\u001b[39m ):\n\u001b[32m-> \u001b[39m\u001b[32m1473\u001b[39m     \u001b[38;5;28;01mreturn\u001b[39;00m \u001b[43mfit_method\u001b[49m\u001b[43m(\u001b[49m\u001b[43mestimator\u001b[49m\u001b[43m,\u001b[49m\u001b[43m \u001b[49m\u001b[43m*\u001b[49m\u001b[43margs\u001b[49m\u001b[43m,\u001b[49m\u001b[43m \u001b[49m\u001b[43m*\u001b[49m\u001b[43m*\u001b[49m\u001b[43mkwargs\u001b[49m\u001b[43m)\u001b[49m\n",
      "\u001b[36mFile \u001b[39m\u001b[32m~/Programs/.venv/lib/python3.12/site-packages/sklearn/ensemble/_forest.py:421\u001b[39m, in \u001b[36mBaseForest.fit\u001b[39m\u001b[34m(self, X, y, sample_weight)\u001b[39m\n\u001b[32m    414\u001b[39m         \u001b[38;5;28;01mraise\u001b[39;00m \u001b[38;5;167;01mValueError\u001b[39;00m(\n\u001b[32m    415\u001b[39m             \u001b[33m\"\u001b[39m\u001b[33mSum of y is not strictly positive which \u001b[39m\u001b[33m\"\u001b[39m\n\u001b[32m    416\u001b[39m             \u001b[33m\"\u001b[39m\u001b[33mis necessary for Poisson regression.\u001b[39m\u001b[33m\"\u001b[39m\n\u001b[32m    417\u001b[39m         )\n\u001b[32m    419\u001b[39m \u001b[38;5;28mself\u001b[39m._n_samples, \u001b[38;5;28mself\u001b[39m.n_outputs_ = y.shape\n\u001b[32m--> \u001b[39m\u001b[32m421\u001b[39m y, expanded_class_weight = \u001b[38;5;28;43mself\u001b[39;49m\u001b[43m.\u001b[49m\u001b[43m_validate_y_class_weight\u001b[49m\u001b[43m(\u001b[49m\u001b[43my\u001b[49m\u001b[43m)\u001b[49m\n\u001b[32m    423\u001b[39m \u001b[38;5;28;01mif\u001b[39;00m \u001b[38;5;28mgetattr\u001b[39m(y, \u001b[33m\"\u001b[39m\u001b[33mdtype\u001b[39m\u001b[33m\"\u001b[39m, \u001b[38;5;28;01mNone\u001b[39;00m) != DOUBLE \u001b[38;5;129;01mor\u001b[39;00m \u001b[38;5;129;01mnot\u001b[39;00m y.flags.contiguous:\n\u001b[32m    424\u001b[39m     y = np.ascontiguousarray(y, dtype=DOUBLE)\n",
      "\u001b[36mFile \u001b[39m\u001b[32m~/Programs/.venv/lib/python3.12/site-packages/sklearn/ensemble/_forest.py:879\u001b[39m, in \u001b[36mForestClassifier._validate_y_class_weight\u001b[39m\u001b[34m(self, y)\u001b[39m\n\u001b[32m    877\u001b[39m         \u001b[38;5;28;01melse\u001b[39;00m:\n\u001b[32m    878\u001b[39m             class_weight = \u001b[38;5;28mself\u001b[39m.class_weight\n\u001b[32m--> \u001b[39m\u001b[32m879\u001b[39m         expanded_class_weight = \u001b[43mcompute_sample_weight\u001b[49m\u001b[43m(\u001b[49m\u001b[43mclass_weight\u001b[49m\u001b[43m,\u001b[49m\u001b[43m \u001b[49m\u001b[43my_original\u001b[49m\u001b[43m)\u001b[49m\n\u001b[32m    881\u001b[39m \u001b[38;5;28;01mreturn\u001b[39;00m y, expanded_class_weight\n",
      "\u001b[36mFile \u001b[39m\u001b[32m~/Programs/.venv/lib/python3.12/site-packages/sklearn/utils/_param_validation.py:186\u001b[39m, in \u001b[36mvalidate_params.<locals>.decorator.<locals>.wrapper\u001b[39m\u001b[34m(*args, **kwargs)\u001b[39m\n\u001b[32m    184\u001b[39m global_skip_validation = get_config()[\u001b[33m\"\u001b[39m\u001b[33mskip_parameter_validation\u001b[39m\u001b[33m\"\u001b[39m]\n\u001b[32m    185\u001b[39m \u001b[38;5;28;01mif\u001b[39;00m global_skip_validation:\n\u001b[32m--> \u001b[39m\u001b[32m186\u001b[39m     \u001b[38;5;28;01mreturn\u001b[39;00m \u001b[43mfunc\u001b[49m\u001b[43m(\u001b[49m\u001b[43m*\u001b[49m\u001b[43margs\u001b[49m\u001b[43m,\u001b[49m\u001b[43m \u001b[49m\u001b[43m*\u001b[49m\u001b[43m*\u001b[49m\u001b[43mkwargs\u001b[49m\u001b[43m)\u001b[49m\n\u001b[32m    188\u001b[39m func_sig = signature(func)\n\u001b[32m    190\u001b[39m \u001b[38;5;66;03m# Map *args/**kwargs to the function signature\u001b[39;00m\n",
      "\u001b[36mFile \u001b[39m\u001b[32m~/Programs/.venv/lib/python3.12/site-packages/sklearn/utils/class_weight.py:207\u001b[39m, in \u001b[36mcompute_sample_weight\u001b[39m\u001b[34m(class_weight, y, indices)\u001b[39m\n\u001b[32m    205\u001b[39m     classes_missing = \u001b[38;5;28mset\u001b[39m(classes_full) - \u001b[38;5;28mset\u001b[39m(classes_subsample)\n\u001b[32m    206\u001b[39m \u001b[38;5;28;01melse\u001b[39;00m:\n\u001b[32m--> \u001b[39m\u001b[32m207\u001b[39m     weight_k = \u001b[43mcompute_class_weight\u001b[49m\u001b[43m(\u001b[49m\n\u001b[32m    208\u001b[39m \u001b[43m        \u001b[49m\u001b[43mclass_weight_k\u001b[49m\u001b[43m,\u001b[49m\u001b[43m \u001b[49m\u001b[43mclasses\u001b[49m\u001b[43m=\u001b[49m\u001b[43mclasses_full\u001b[49m\u001b[43m,\u001b[49m\u001b[43m \u001b[49m\u001b[43my\u001b[49m\u001b[43m=\u001b[49m\u001b[43my_full\u001b[49m\n\u001b[32m    209\u001b[39m \u001b[43m    \u001b[49m\u001b[43m)\u001b[49m\n\u001b[32m    211\u001b[39m weight_k = weight_k[np.searchsorted(classes_full, y_full)]\n\u001b[32m    213\u001b[39m \u001b[38;5;28;01mif\u001b[39;00m classes_missing:\n\u001b[32m    214\u001b[39m     \u001b[38;5;66;03m# Make missing classes' weight zero\u001b[39;00m\n",
      "\u001b[36mFile \u001b[39m\u001b[32m~/Programs/.venv/lib/python3.12/site-packages/sklearn/utils/_param_validation.py:186\u001b[39m, in \u001b[36mvalidate_params.<locals>.decorator.<locals>.wrapper\u001b[39m\u001b[34m(*args, **kwargs)\u001b[39m\n\u001b[32m    184\u001b[39m global_skip_validation = get_config()[\u001b[33m\"\u001b[39m\u001b[33mskip_parameter_validation\u001b[39m\u001b[33m\"\u001b[39m]\n\u001b[32m    185\u001b[39m \u001b[38;5;28;01mif\u001b[39;00m global_skip_validation:\n\u001b[32m--> \u001b[39m\u001b[32m186\u001b[39m     \u001b[38;5;28;01mreturn\u001b[39;00m \u001b[43mfunc\u001b[49m\u001b[43m(\u001b[49m\u001b[43m*\u001b[49m\u001b[43margs\u001b[49m\u001b[43m,\u001b[49m\u001b[43m \u001b[49m\u001b[43m*\u001b[49m\u001b[43m*\u001b[49m\u001b[43mkwargs\u001b[49m\u001b[43m)\u001b[49m\n\u001b[32m    188\u001b[39m func_sig = signature(func)\n\u001b[32m    190\u001b[39m \u001b[38;5;66;03m# Map *args/**kwargs to the function signature\u001b[39;00m\n",
      "\u001b[36mFile \u001b[39m\u001b[32m~/Programs/.venv/lib/python3.12/site-packages/sklearn/utils/class_weight.py:88\u001b[39m, in \u001b[36mcompute_class_weight\u001b[39m\u001b[34m(class_weight, classes, y)\u001b[39m\n\u001b[32m     86\u001b[39m     \u001b[38;5;28;01mif\u001b[39;00m unweighted_classes \u001b[38;5;129;01mand\u001b[39;00m n_weighted_classes != \u001b[38;5;28mlen\u001b[39m(class_weight):\n\u001b[32m     87\u001b[39m         unweighted_classes_user_friendly_str = np.array(unweighted_classes).tolist()\n\u001b[32m---> \u001b[39m\u001b[32m88\u001b[39m         \u001b[38;5;28;01mraise\u001b[39;00m \u001b[38;5;167;01mValueError\u001b[39;00m(\n\u001b[32m     89\u001b[39m             \u001b[33mf\u001b[39m\u001b[33m\"\u001b[39m\u001b[33mThe classes, \u001b[39m\u001b[38;5;132;01m{\u001b[39;00munweighted_classes_user_friendly_str\u001b[38;5;132;01m}\u001b[39;00m\u001b[33m, are not in\u001b[39m\u001b[33m\"\u001b[39m\n\u001b[32m     90\u001b[39m             \u001b[33m\"\u001b[39m\u001b[33m class_weight\u001b[39m\u001b[33m\"\u001b[39m\n\u001b[32m     91\u001b[39m         )\n\u001b[32m     93\u001b[39m \u001b[38;5;28;01mreturn\u001b[39;00m weight\n",
      "\u001b[31mValueError\u001b[39m: The classes, [0], are not in class_weight"
     ]
    }
   ],
   "source": [
    "model = RandomForestClassifier(\n",
    "    random_state=RANDOM_STATE,\n",
    "    class_weight=dict(enumerate(class_weights, start=1))\n",
    ")\n",
    "model.fit(X_train, y_train)\n",
    "fig, (ax1, ax2) = plt.subplots(1, 2)\n",
    "fig.set_size_inches(10, 5)\n",
    "cm = confusion_matrix(model.predict(X_test), y_test)\n",
    "sns.heatmap(\n",
    "    np.log1p(cm),\n",
    "    ax=ax2,\n",
    "    annot=cm,\n",
    "    fmt='d',\n",
    "    cmap='Oranges'\n",
    ")\n",
    "cm = confusion_matrix(model.predict(X_train), y_train)\n",
    "sns.heatmap(\n",
    "    np.log1p(cm),\n",
    "    ax=ax1,\n",
    "    annot=cm,\n",
    "    fmt='d',\n",
    "    cmap='Oranges'\n",
    ")"
   ]
  },
  {
   "cell_type": "code",
   "execution_count": null,
   "id": "ed9996fc-2f6c-4d70-846c-579e27c79d8e",
   "metadata": {},
   "outputs": [],
   "source": [
    "feature_importance = pd.DataFrame({\n",
    "    'Feature': X.columns,\n",
    "    'Importance': model.feature_importances_\n",
    "})\n",
    "feature_importance.sort_values(by='Importance', ascending=False)"
   ]
  },
  {
   "cell_type": "markdown",
   "id": "cbdd75d5-e4aa-43a5-8eb7-ca29b0e86328",
   "metadata": {},
   "source": [
    "## ROS"
   ]
  },
  {
   "cell_type": "code",
   "execution_count": null,
   "id": "3a9d6571-225d-4d74-a61a-1adf5ac0eb86",
   "metadata": {},
   "outputs": [],
   "source": [
    "from imblearn.over_sampling import RandomOverSampler"
   ]
  },
  {
   "cell_type": "code",
   "execution_count": null,
   "id": "5911b5f7-30a9-4493-959e-c3e9ab506fd5",
   "metadata": {},
   "outputs": [],
   "source": [
    "ros = RandomOverSampler()\n",
    "X_resampled, y_resampled = ros.fit_resample(X_train, y_train)"
   ]
  },
  {
   "cell_type": "code",
   "execution_count": null,
   "id": "33f661bd-12f3-4f7b-a41c-a15433b5002a",
   "metadata": {},
   "outputs": [],
   "source": [
    "model.fit(X_resampled, y_resampled)\n",
    "fig, (ax1, ax2) = plt.subplots(1, 2)\n",
    "fig.set_size_inches(10, 5)\n",
    "cm = confusion_matrix(model.predict(X_test), y_test)\n",
    "sns.heatmap(\n",
    "    np.log1p(cm),\n",
    "    ax=ax2,\n",
    "    annot=cm,\n",
    "    fmt='d',\n",
    "    cmap='Oranges'\n",
    ")\n",
    "cm = confusion_matrix(model.predict(X_train), y_train)\n",
    "sns.heatmap(\n",
    "    np.log1p(cm),\n",
    "    ax=ax1,\n",
    "    annot=cm,\n",
    "    fmt='d',\n",
    "    cmap='Oranges'\n",
    ")"
   ]
  },
  {
   "cell_type": "markdown",
   "id": "98849ba9-7d09-48aa-9533-0bcb0a5c2d1f",
   "metadata": {},
   "source": [
    "## SMOTE"
   ]
  },
  {
   "cell_type": "code",
   "execution_count": null,
   "id": "48877b73-d261-4fa9-a2e0-149ac3e99dd2",
   "metadata": {},
   "outputs": [],
   "source": [
    "from imblearn.over_sampling import SMOTE\n",
    "\n",
    "# Создание экземпляра SMOTE\n",
    "smote = SMOTE()\n",
    "\n",
    "# Применение SMOTE к данным\n",
    "X_resampled, y_resampled = smote.fit_resample(X_train, y_train)"
   ]
  },
  {
   "cell_type": "code",
   "execution_count": null,
   "id": "903c22df-d13d-43fd-b4fe-c2bacb1b6522",
   "metadata": {},
   "outputs": [],
   "source": [
    "model.fit(X_resampled, y_resampled)\n",
    "fig, (ax1, ax2) = plt.subplots(1, 2)\n",
    "fig.set_size_inches(10, 5)\n",
    "cm = confusion_matrix(model.predict(X_test), y_test)\n",
    "sns.heatmap(\n",
    "    np.log1p(cm),\n",
    "    ax=ax2,\n",
    "    annot=cm,\n",
    "    fmt='d',\n",
    "    cmap='Oranges'\n",
    ")\n",
    "cm = confusion_matrix(model.predict(X_train), y_train)\n",
    "sns.heatmap(\n",
    "    np.log1p(cm),\n",
    "    ax=ax1,\n",
    "    annot=cm,\n",
    "    fmt='d',\n",
    "    cmap='Oranges'\n",
    ")"
   ]
  },
  {
   "cell_type": "markdown",
   "id": "5c6f634d-3220-4f49-a675-9a67dc61b75c",
   "metadata": {},
   "source": [
    "## ADASYN"
   ]
  },
  {
   "cell_type": "code",
   "execution_count": null,
   "id": "987b7edc-4e9f-4adf-8cf9-b35dc01e4e33",
   "metadata": {},
   "outputs": [],
   "source": [
    "from imblearn.over_sampling import ADASYN"
   ]
  },
  {
   "cell_type": "code",
   "execution_count": null,
   "id": "12dc8449-59c1-42d3-a6bd-7764a21acb5c",
   "metadata": {},
   "outputs": [],
   "source": [
    "X_resampled, y_resampled = ADASYN().fit_resample(X_train, y_train)"
   ]
  },
  {
   "cell_type": "code",
   "execution_count": null,
   "id": "70ea740d-b092-42bd-9d12-657d532079f0",
   "metadata": {},
   "outputs": [],
   "source": [
    "model.fit(X_resampled, y_resampled)\n",
    "fig, (ax1, ax2) = plt.subplots(1, 2)\n",
    "fig.set_size_inches(10, 5)\n",
    "cm = confusion_matrix(model.predict(X_test), y_test)\n",
    "sns.heatmap(\n",
    "    np.log1p(cm),\n",
    "    ax=ax2,\n",
    "    annot=cm,\n",
    "    fmt='d',\n",
    "    cmap='Oranges'\n",
    ")\n",
    "cm = confusion_matrix(model.predict(X_train), y_train)\n",
    "sns.heatmap(\n",
    "    np.log1p(cm),\n",
    "    ax=ax1,\n",
    "    annot=cm,\n",
    "    fmt='d',\n",
    "    cmap='Oranges'\n",
    ")"
   ]
  },
  {
   "cell_type": "markdown",
   "id": "41af8738-c65d-4ee0-911b-6087b151919e",
   "metadata": {},
   "source": [
    "## Feature Selection"
   ]
  },
  {
   "cell_type": "markdown",
   "id": "7e73ea82-519d-4ff9-8a14-fd48ee64d526",
   "metadata": {},
   "source": [
    "## Generation"
   ]
  },
  {
   "cell_type": "code",
   "execution_count": null,
   "id": "601ea974-58b5-40d0-bede-780976307bfa",
   "metadata": {},
   "outputs": [],
   "source": [
    "import torch\n",
    "import torch.nn as nn\n",
    "import torch.optim as optim\n",
    "from torch.utils.data import DataLoader, Dataset, TensorDataset\n",
    "import pandas as pd\n",
    "import numpy as np"
   ]
  },
  {
   "cell_type": "code",
   "execution_count": null,
   "id": "b8efdabb-d20a-4776-b584-e587863d0543",
   "metadata": {},
   "outputs": [],
   "source": [
    "class VAE(nn.Module):\n",
    "    def __init__(self, input_dim, latent_dim, hidden_dim=128):\n",
    "        super(VAE, self).__init__()\n",
    "        # Encoder\n",
    "        self.fc1 = nn.Linear(input_dim, hidden_dim)\n",
    "        self.fc_mu = nn.Linear(hidden_dim, latent_dim)\n",
    "        self.fc_logvar = nn.Linear(hidden_dim, latent_dim)\n",
    "\n",
    "        # Decoder\n",
    "        self.fc3 = nn.Linear(latent_dim, hidden_dim)\n",
    "        self.fc4 = nn.Linear(hidden_dim, input_dim)\n",
    "\n",
    "    def encode(self, x):\n",
    "        h1 = torch.relu(self.fc1(x))\n",
    "        mu = self.fc_mu(h1)\n",
    "        logvar = self.fc_logvar(h1)\n",
    "        return mu, logvar\n",
    "\n",
    "    def reparameterize(self, mu, logvar):\n",
    "        std = torch.exp(0.5 * logvar)\n",
    "        eps = torch.randn_like(std)\n",
    "        return mu + eps * std\n",
    "\n",
    "    def decode(self, z):\n",
    "        h3 = torch.relu(self.fc3(z))\n",
    "        return self.fc4(h3)  # output reconstruction\n",
    "\n",
    "    def forward(self, x):\n",
    "        mu, logvar = self.encode(x)\n",
    "        z = self.reparameterize(mu, logvar)\n",
    "        return self.decode(z), mu, logvar\n",
    "\n",
    "    def get_latent(self, x):\n",
    "        mu, _ = self.encode(x)\n",
    "        return mu  # Use mean as latent"
   ]
  },
  {
   "cell_type": "code",
   "execution_count": null,
   "id": "00fc4b7a-815e-4420-b943-d6158c9b5a1b",
   "metadata": {},
   "outputs": [],
   "source": [
    "def vae_loss(recon_x, x, mu, logvar):\n",
    "    MSE = nn.functional.mse_loss(recon_x, x, reduction='sum')\n",
    "    KLD = -0.5 * torch.sum(1 + logvar - mu.pow(2) - logvar.exp())\n",
    "    return MSE + KLD"
   ]
  },
  {
   "cell_type": "code",
   "execution_count": null,
   "id": "9949f42f-9de1-4f0b-904b-34527df16b7c",
   "metadata": {},
   "outputs": [],
   "source": [
    "from sklearn.preprocessing import StandardScaler"
   ]
  },
  {
   "cell_type": "code",
   "execution_count": null,
   "id": "51bc85b6-bd2b-49c7-ac37-62fedef96599",
   "metadata": {
    "scrolled": true
   },
   "outputs": [],
   "source": [
    "scaler = StandardScaler()\n",
    "df_scaled = scaler.fit_transform(df.drop(columns=[\"activity\"]))\n",
    "\n",
    "input_dim = df.drop(columns=[\"activity\"]).shape[1]\n",
    "latent_dim = 10\n",
    "num_classes = df[\"activity\"].nunique()\n",
    "device = torch.device(\"cuda\" if torch.cuda.is_available() else \"cpu\")\n",
    "\n",
    "features = torch.tensor(df_scaled, dtype=torch.float32)\n",
    "labels = torch.tensor(df[\"activity\"].values, dtype=torch.long)\n",
    "\n",
    "dataloader = DataLoader(\n",
    "    TensorDataset(features, labels),\n",
    "    batch_size=64,\n",
    "    shuffle=True)\n",
    "\n",
    "vae = VAE(input_dim, latent_dim, 20).to(device)\n",
    "vae_optimizer = optim.Adam(vae.parameters(), lr=1e-3)\n",
    "\n",
    "for epoch in range(500):\n",
    "    vae.train()\n",
    "    total_loss = 0\n",
    "    for x, _ in dataloader:\n",
    "        x = x.to(device)\n",
    "        vae_optimizer.zero_grad()\n",
    "        recon_x, mu, logvar = vae(x)\n",
    "        loss = vae_loss(recon_x, x, mu, logvar)\n",
    "        loss.backward()\n",
    "        vae_optimizer.step()\n",
    "        total_loss += loss.item()\n",
    "    print(f\"Epoch {epoch + 1}, VAE Loss: {(total_loss / len(dataloader.dataset)):.2f}\")\n"
   ]
  },
  {
   "cell_type": "code",
   "execution_count": null,
   "id": "ec119be4-af38-4e0b-bace-e9f6f21f10f1",
   "metadata": {},
   "outputs": [],
   "source": [
    "from sklearn.decomposition import PCA"
   ]
  },
  {
   "cell_type": "code",
   "execution_count": null,
   "id": "ec48ce0e-80e3-4d65-b814-6c4c187b7886",
   "metadata": {},
   "outputs": [],
   "source": [
    "pca = PCA(n_components=2)"
   ]
  },
  {
   "cell_type": "code",
   "execution_count": null,
   "id": "e7a8160f-d286-43a7-90ca-277fd39e4af5",
   "metadata": {},
   "outputs": [],
   "source": [
    "vae.eval()\n",
    "latents = []\n",
    "labels = []\n",
    "with torch.no_grad():\n",
    "    for x, l in dataloader:\n",
    "        x = x.to(device)\n",
    "        mu, _ = vae.encode(x)  # get mean (latent vector)\n",
    "        latents.append(mu.cpu())\n",
    "        labels.append(l)\n",
    "\n",
    "torch.cat(latents, dim=0).shape, torch.cat(labels, dim=0).shape  # shape: [num_samples, latent_dim]\n"
   ]
  },
  {
   "cell_type": "code",
   "execution_count": null,
   "id": "ad0652a2-497b-4ad6-bf37-cd6b38c5652d",
   "metadata": {
    "scrolled": true
   },
   "outputs": [],
   "source": [
    "hidden = np.array(torch.cat(latents, dim=0).tolist())"
   ]
  },
  {
   "cell_type": "code",
   "execution_count": null,
   "id": "f6b10b94-394d-4268-ab5b-4a20ab7e5878",
   "metadata": {},
   "outputs": [],
   "source": [
    "s = pca.fit_transform(hidden)"
   ]
  },
  {
   "cell_type": "code",
   "execution_count": null,
   "id": "43e13964-9be7-436c-82d6-1006f8456c86",
   "metadata": {},
   "outputs": [],
   "source": [
    "plt.scatter(s.T[0], s.T[1], c=torch.cat(labels, dim=0))"
   ]
  },
  {
   "cell_type": "code",
   "execution_count": null,
   "id": "91b93dd4-b7a7-4032-acf8-1e0502b98f06",
   "metadata": {},
   "outputs": [],
   "source": []
  }
 ],
 "metadata": {
  "kernelspec": {
   "display_name": "Python 3 (ipykernel)",
   "language": "python",
   "name": "python3"
  },
  "language_info": {
   "codemirror_mode": {
    "name": "ipython",
    "version": 3
   },
   "file_extension": ".py",
   "mimetype": "text/x-python",
   "name": "python",
   "nbconvert_exporter": "python",
   "pygments_lexer": "ipython3",
   "version": "3.12.3"
  }
 },
 "nbformat": 4,
 "nbformat_minor": 5
}
